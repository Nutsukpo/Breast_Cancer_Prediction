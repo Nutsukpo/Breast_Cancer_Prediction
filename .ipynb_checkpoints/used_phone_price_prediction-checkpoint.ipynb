{
 "cells": [
  {
   "cell_type": "markdown",
   "id": "7c2dce00-6a8a-45a7-a743-ba7833416558",
   "metadata": {},
   "source": [
    "## Import Libraries"
   ]
  },
  {
   "cell_type": "code",
   "execution_count": 1,
   "id": "c2a9bbb4-c493-4ad2-8db7-3a083329aa62",
   "metadata": {},
   "outputs": [],
   "source": [
    "## for loading and preprocessing \n",
    "import pandas as pd\n",
    "import numpy as np \n",
    "\n",
    "## for data visualization \n",
    "import matplotlib.pyplot as plt\n",
    "import seaborn as sns\n",
    "\n",
    "## splitting dataset\n",
    "from sklearn.model_selection import train_test_split\n",
    "\n",
    "## feature engineering \n",
    "from sklearn.feature_extraction import DictVectorizer\n",
    "\n",
    "## load regression model \n",
    "from sklearn.linear_model import LinearRegression\n",
    "\n",
    "## \n",
    "from sklearn.ensemble import RandomForestRegressor\n",
    "\n",
    "## evaluation metric \n",
    "from sklearn.metrics import mean_absolute_error, root_mean_squared_error, r2_score"
   ]
  },
  {
   "cell_type": "markdown",
   "id": "5eb359f6-d7ed-4019-8352-d92dc56232a5",
   "metadata": {},
   "source": [
    "## Loading Data & Creating Copy"
   ]
  },
  {
   "cell_type": "code",
   "execution_count": 2,
   "id": "cc4b3d31-f698-4445-8b51-3af63b173eaf",
   "metadata": {},
   "outputs": [],
   "source": [
    "## read dataset\n",
    "data = pd.read_csv(\"Dataset/used_device_data.csv\")"
   ]
  },
  {
   "cell_type": "code",
   "execution_count": 3,
   "id": "d0f9074f-b6db-4dc0-9922-2abdd5c6f240",
   "metadata": {},
   "outputs": [],
   "source": [
    "## create a deep copy \n",
    "df = data.copy()"
   ]
  },
  {
   "cell_type": "markdown",
   "id": "63fc6403-837a-4e55-947c-fad0e3559169",
   "metadata": {},
   "source": [
    "## Data Preview And Understanding\n",
    "- Loading the dataset"
   ]
  },
  {
   "cell_type": "code",
   "execution_count": 4,
   "id": "08b54184-eb80-4710-8ed0-784b1d79c1d8",
   "metadata": {},
   "outputs": [
    {
     "data": {
      "text/html": [
       "<div>\n",
       "<style scoped>\n",
       "    .dataframe tbody tr th:only-of-type {\n",
       "        vertical-align: middle;\n",
       "    }\n",
       "\n",
       "    .dataframe tbody tr th {\n",
       "        vertical-align: top;\n",
       "    }\n",
       "\n",
       "    .dataframe thead th {\n",
       "        text-align: right;\n",
       "    }\n",
       "</style>\n",
       "<table border=\"1\" class=\"dataframe\">\n",
       "  <thead>\n",
       "    <tr style=\"text-align: right;\">\n",
       "      <th></th>\n",
       "      <th>brand_name</th>\n",
       "      <th>os</th>\n",
       "      <th>screen_size</th>\n",
       "      <th>4g</th>\n",
       "      <th>5g</th>\n",
       "      <th>main_camera_mp</th>\n",
       "      <th>selfie_camera_mp</th>\n",
       "      <th>int_memory</th>\n",
       "      <th>ram</th>\n",
       "      <th>battery</th>\n",
       "      <th>weight</th>\n",
       "      <th>release_year</th>\n",
       "      <th>days_used</th>\n",
       "      <th>new_price</th>\n",
       "      <th>used_price</th>\n",
       "    </tr>\n",
       "  </thead>\n",
       "  <tbody>\n",
       "    <tr>\n",
       "      <th>0</th>\n",
       "      <td>Honor</td>\n",
       "      <td>Android</td>\n",
       "      <td>14.50</td>\n",
       "      <td>yes</td>\n",
       "      <td>no</td>\n",
       "      <td>13.0</td>\n",
       "      <td>5.0</td>\n",
       "      <td>64.0</td>\n",
       "      <td>3.0</td>\n",
       "      <td>3020.0</td>\n",
       "      <td>146.0</td>\n",
       "      <td>2020</td>\n",
       "      <td>127</td>\n",
       "      <td>111.62</td>\n",
       "      <td>74.26</td>\n",
       "    </tr>\n",
       "    <tr>\n",
       "      <th>1</th>\n",
       "      <td>Honor</td>\n",
       "      <td>Android</td>\n",
       "      <td>17.30</td>\n",
       "      <td>yes</td>\n",
       "      <td>yes</td>\n",
       "      <td>13.0</td>\n",
       "      <td>16.0</td>\n",
       "      <td>128.0</td>\n",
       "      <td>8.0</td>\n",
       "      <td>4300.0</td>\n",
       "      <td>213.0</td>\n",
       "      <td>2020</td>\n",
       "      <td>325</td>\n",
       "      <td>249.39</td>\n",
       "      <td>174.53</td>\n",
       "    </tr>\n",
       "    <tr>\n",
       "      <th>2</th>\n",
       "      <td>Honor</td>\n",
       "      <td>Android</td>\n",
       "      <td>16.69</td>\n",
       "      <td>yes</td>\n",
       "      <td>yes</td>\n",
       "      <td>13.0</td>\n",
       "      <td>8.0</td>\n",
       "      <td>128.0</td>\n",
       "      <td>8.0</td>\n",
       "      <td>4200.0</td>\n",
       "      <td>213.0</td>\n",
       "      <td>2020</td>\n",
       "      <td>162</td>\n",
       "      <td>359.47</td>\n",
       "      <td>165.85</td>\n",
       "    </tr>\n",
       "    <tr>\n",
       "      <th>3</th>\n",
       "      <td>Honor</td>\n",
       "      <td>Android</td>\n",
       "      <td>25.50</td>\n",
       "      <td>yes</td>\n",
       "      <td>yes</td>\n",
       "      <td>13.0</td>\n",
       "      <td>8.0</td>\n",
       "      <td>64.0</td>\n",
       "      <td>6.0</td>\n",
       "      <td>7250.0</td>\n",
       "      <td>480.0</td>\n",
       "      <td>2020</td>\n",
       "      <td>345</td>\n",
       "      <td>278.93</td>\n",
       "      <td>169.93</td>\n",
       "    </tr>\n",
       "    <tr>\n",
       "      <th>4</th>\n",
       "      <td>Honor</td>\n",
       "      <td>Android</td>\n",
       "      <td>15.32</td>\n",
       "      <td>yes</td>\n",
       "      <td>no</td>\n",
       "      <td>13.0</td>\n",
       "      <td>8.0</td>\n",
       "      <td>64.0</td>\n",
       "      <td>3.0</td>\n",
       "      <td>5000.0</td>\n",
       "      <td>185.0</td>\n",
       "      <td>2020</td>\n",
       "      <td>293</td>\n",
       "      <td>140.87</td>\n",
       "      <td>80.64</td>\n",
       "    </tr>\n",
       "  </tbody>\n",
       "</table>\n",
       "</div>"
      ],
      "text/plain": [
       "  brand_name       os  screen_size   4g   5g  main_camera_mp  \\\n",
       "0      Honor  Android        14.50  yes   no            13.0   \n",
       "1      Honor  Android        17.30  yes  yes            13.0   \n",
       "2      Honor  Android        16.69  yes  yes            13.0   \n",
       "3      Honor  Android        25.50  yes  yes            13.0   \n",
       "4      Honor  Android        15.32  yes   no            13.0   \n",
       "\n",
       "   selfie_camera_mp  int_memory  ram  battery  weight  release_year  \\\n",
       "0               5.0        64.0  3.0   3020.0   146.0          2020   \n",
       "1              16.0       128.0  8.0   4300.0   213.0          2020   \n",
       "2               8.0       128.0  8.0   4200.0   213.0          2020   \n",
       "3               8.0        64.0  6.0   7250.0   480.0          2020   \n",
       "4               8.0        64.0  3.0   5000.0   185.0          2020   \n",
       "\n",
       "   days_used  new_price  used_price  \n",
       "0        127     111.62       74.26  \n",
       "1        325     249.39      174.53  \n",
       "2        162     359.47      165.85  \n",
       "3        345     278.93      169.93  \n",
       "4        293     140.87       80.64  "
      ]
     },
     "execution_count": 4,
     "metadata": {},
     "output_type": "execute_result"
    }
   ],
   "source": [
    "## view the first rows \n",
    "df.head()"
   ]
  },
  {
   "cell_type": "code",
   "execution_count": 5,
   "id": "db0cb8ee-f7d8-4a53-b51f-fbda2baeaa98",
   "metadata": {},
   "outputs": [
    {
     "data": {
      "text/html": [
       "<div>\n",
       "<style scoped>\n",
       "    .dataframe tbody tr th:only-of-type {\n",
       "        vertical-align: middle;\n",
       "    }\n",
       "\n",
       "    .dataframe tbody tr th {\n",
       "        vertical-align: top;\n",
       "    }\n",
       "\n",
       "    .dataframe thead th {\n",
       "        text-align: right;\n",
       "    }\n",
       "</style>\n",
       "<table border=\"1\" class=\"dataframe\">\n",
       "  <thead>\n",
       "    <tr style=\"text-align: right;\">\n",
       "      <th></th>\n",
       "      <th>brand_name</th>\n",
       "      <th>os</th>\n",
       "      <th>screen_size</th>\n",
       "      <th>4g</th>\n",
       "      <th>5g</th>\n",
       "      <th>main_camera_mp</th>\n",
       "      <th>selfie_camera_mp</th>\n",
       "      <th>int_memory</th>\n",
       "      <th>ram</th>\n",
       "      <th>battery</th>\n",
       "      <th>weight</th>\n",
       "      <th>release_year</th>\n",
       "      <th>days_used</th>\n",
       "      <th>new_price</th>\n",
       "      <th>used_price</th>\n",
       "    </tr>\n",
       "  </thead>\n",
       "  <tbody>\n",
       "    <tr>\n",
       "      <th>3449</th>\n",
       "      <td>Asus</td>\n",
       "      <td>Android</td>\n",
       "      <td>15.34</td>\n",
       "      <td>yes</td>\n",
       "      <td>no</td>\n",
       "      <td>NaN</td>\n",
       "      <td>8.0</td>\n",
       "      <td>64.0</td>\n",
       "      <td>6.0</td>\n",
       "      <td>5000.0</td>\n",
       "      <td>190.0</td>\n",
       "      <td>2019</td>\n",
       "      <td>232</td>\n",
       "      <td>654.50</td>\n",
       "      <td>89.33</td>\n",
       "    </tr>\n",
       "    <tr>\n",
       "      <th>3450</th>\n",
       "      <td>Asus</td>\n",
       "      <td>Android</td>\n",
       "      <td>15.24</td>\n",
       "      <td>yes</td>\n",
       "      <td>no</td>\n",
       "      <td>13.0</td>\n",
       "      <td>8.0</td>\n",
       "      <td>128.0</td>\n",
       "      <td>8.0</td>\n",
       "      <td>4000.0</td>\n",
       "      <td>200.0</td>\n",
       "      <td>2018</td>\n",
       "      <td>541</td>\n",
       "      <td>518.81</td>\n",
       "      <td>154.12</td>\n",
       "    </tr>\n",
       "    <tr>\n",
       "      <th>3451</th>\n",
       "      <td>Alcatel</td>\n",
       "      <td>Android</td>\n",
       "      <td>15.80</td>\n",
       "      <td>yes</td>\n",
       "      <td>no</td>\n",
       "      <td>13.0</td>\n",
       "      <td>5.0</td>\n",
       "      <td>32.0</td>\n",
       "      <td>3.0</td>\n",
       "      <td>4000.0</td>\n",
       "      <td>165.0</td>\n",
       "      <td>2020</td>\n",
       "      <td>201</td>\n",
       "      <td>92.65</td>\n",
       "      <td>78.05</td>\n",
       "    </tr>\n",
       "    <tr>\n",
       "      <th>3452</th>\n",
       "      <td>Alcatel</td>\n",
       "      <td>Android</td>\n",
       "      <td>15.80</td>\n",
       "      <td>yes</td>\n",
       "      <td>no</td>\n",
       "      <td>13.0</td>\n",
       "      <td>5.0</td>\n",
       "      <td>32.0</td>\n",
       "      <td>2.0</td>\n",
       "      <td>4000.0</td>\n",
       "      <td>160.0</td>\n",
       "      <td>2020</td>\n",
       "      <td>149</td>\n",
       "      <td>101.92</td>\n",
       "      <td>77.46</td>\n",
       "    </tr>\n",
       "    <tr>\n",
       "      <th>3453</th>\n",
       "      <td>Alcatel</td>\n",
       "      <td>Android</td>\n",
       "      <td>12.83</td>\n",
       "      <td>yes</td>\n",
       "      <td>no</td>\n",
       "      <td>13.0</td>\n",
       "      <td>5.0</td>\n",
       "      <td>16.0</td>\n",
       "      <td>2.0</td>\n",
       "      <td>4000.0</td>\n",
       "      <td>168.0</td>\n",
       "      <td>2020</td>\n",
       "      <td>176</td>\n",
       "      <td>72.24</td>\n",
       "      <td>62.31</td>\n",
       "    </tr>\n",
       "  </tbody>\n",
       "</table>\n",
       "</div>"
      ],
      "text/plain": [
       "     brand_name       os  screen_size   4g  5g  main_camera_mp  \\\n",
       "3449       Asus  Android        15.34  yes  no             NaN   \n",
       "3450       Asus  Android        15.24  yes  no            13.0   \n",
       "3451    Alcatel  Android        15.80  yes  no            13.0   \n",
       "3452    Alcatel  Android        15.80  yes  no            13.0   \n",
       "3453    Alcatel  Android        12.83  yes  no            13.0   \n",
       "\n",
       "      selfie_camera_mp  int_memory  ram  battery  weight  release_year  \\\n",
       "3449               8.0        64.0  6.0   5000.0   190.0          2019   \n",
       "3450               8.0       128.0  8.0   4000.0   200.0          2018   \n",
       "3451               5.0        32.0  3.0   4000.0   165.0          2020   \n",
       "3452               5.0        32.0  2.0   4000.0   160.0          2020   \n",
       "3453               5.0        16.0  2.0   4000.0   168.0          2020   \n",
       "\n",
       "      days_used  new_price  used_price  \n",
       "3449        232     654.50       89.33  \n",
       "3450        541     518.81      154.12  \n",
       "3451        201      92.65       78.05  \n",
       "3452        149     101.92       77.46  \n",
       "3453        176      72.24       62.31  "
      ]
     },
     "execution_count": 5,
     "metadata": {},
     "output_type": "execute_result"
    }
   ],
   "source": [
    "## view the last five rows \n",
    "df.tail()"
   ]
  },
  {
   "cell_type": "code",
   "execution_count": 6,
   "id": "befb50c0-bc00-43da-810f-6302ebd0e771",
   "metadata": {},
   "outputs": [
    {
     "name": "stdout",
     "output_type": "stream",
     "text": [
      "Total number of rows: 3454 -> Total number of columns: 15\n"
     ]
    }
   ],
   "source": [
    "## check the number of rows and columns \n",
    "print(f'Total number of rows: {df.shape[0]} -> Total number of columns: {df.shape[1]}')"
   ]
  },
  {
   "cell_type": "code",
   "execution_count": 7,
   "id": "36767cf6-a5af-4373-a87a-d8fd0f857602",
   "metadata": {},
   "outputs": [
    {
     "name": "stdout",
     "output_type": "stream",
     "text": [
      "<class 'pandas.core.frame.DataFrame'>\n",
      "RangeIndex: 3454 entries, 0 to 3453\n",
      "Data columns (total 15 columns):\n",
      " #   Column            Non-Null Count  Dtype  \n",
      "---  ------            --------------  -----  \n",
      " 0   brand_name        3454 non-null   object \n",
      " 1   os                3454 non-null   object \n",
      " 2   screen_size       3454 non-null   float64\n",
      " 3   4g                3454 non-null   object \n",
      " 4   5g                3454 non-null   object \n",
      " 5   main_camera_mp    3275 non-null   float64\n",
      " 6   selfie_camera_mp  3452 non-null   float64\n",
      " 7   int_memory        3450 non-null   float64\n",
      " 8   ram               3450 non-null   float64\n",
      " 9   battery           3448 non-null   float64\n",
      " 10  weight            3447 non-null   float64\n",
      " 11  release_year      3454 non-null   int64  \n",
      " 12  days_used         3454 non-null   int64  \n",
      " 13  new_price         3454 non-null   float64\n",
      " 14  used_price        3454 non-null   float64\n",
      "dtypes: float64(9), int64(2), object(4)\n",
      "memory usage: 404.9+ KB\n"
     ]
    }
   ],
   "source": [
    "## get a summary description of the data\n",
    "df.info()"
   ]
  },
  {
   "cell_type": "code",
   "execution_count": 8,
   "id": "8687075f-5dde-4dcf-a378-a9e76a137f6a",
   "metadata": {},
   "outputs": [
    {
     "data": {
      "text/plain": [
       "brand_name           object\n",
       "os                   object\n",
       "screen_size         float64\n",
       "4g                   object\n",
       "5g                   object\n",
       "main_camera_mp      float64\n",
       "selfie_camera_mp    float64\n",
       "int_memory          float64\n",
       "ram                 float64\n",
       "battery             float64\n",
       "weight              float64\n",
       "release_year          int64\n",
       "days_used             int64\n",
       "new_price           float64\n",
       "used_price          float64\n",
       "dtype: object"
      ]
     },
     "execution_count": 8,
     "metadata": {},
     "output_type": "execute_result"
    }
   ],
   "source": [
    "## checking type on columns\n",
    "df.dtypes"
   ]
  },
  {
   "cell_type": "code",
   "execution_count": 9,
   "id": "6d449315-e96e-4d59-a081-9ada29880800",
   "metadata": {},
   "outputs": [
    {
     "data": {
      "text/plain": [
       "brand_name            0\n",
       "os                    0\n",
       "screen_size           0\n",
       "4g                    0\n",
       "5g                    0\n",
       "main_camera_mp      179\n",
       "selfie_camera_mp      2\n",
       "int_memory            4\n",
       "ram                   4\n",
       "battery               6\n",
       "weight                7\n",
       "release_year          0\n",
       "days_used             0\n",
       "new_price             0\n",
       "used_price            0\n",
       "dtype: int64"
      ]
     },
     "execution_count": 9,
     "metadata": {},
     "output_type": "execute_result"
    }
   ],
   "source": [
    "## checking for missing values\n",
    "df.isnull().sum()"
   ]
  },
  {
   "cell_type": "code",
   "execution_count": 10,
   "id": "aedbcf0d-f491-4b50-8bf8-32feca2dd056",
   "metadata": {},
   "outputs": [
    {
     "data": {
      "text/plain": [
       "0"
      ]
     },
     "execution_count": 10,
     "metadata": {},
     "output_type": "execute_result"
    }
   ],
   "source": [
    "## checking for duplicated values \n",
    "df.duplicated().sum()"
   ]
  },
  {
   "cell_type": "markdown",
   "id": "76aa7b8c-423d-4c71-b795-68a6b1e57f24",
   "metadata": {},
   "source": [
    "## Data Preprocessing\n",
    "- Change data type of \"4g\" and \"5g\" to category\n",
    "- fill in the null values of \"main_camera_mp\",\"selfie_camera_mp\",\"int_memory\",\"ram\",\"battery\",\"weight\""
   ]
  },
  {
   "cell_type": "code",
   "execution_count": 11,
   "id": "39b64b4c-7d84-4f70-bf69-702aab006577",
   "metadata": {},
   "outputs": [],
   "source": [
    "## convert the 4g column type to category\n",
    "df['4g'] = df['4g'].astype('category')"
   ]
  },
  {
   "cell_type": "code",
   "execution_count": 12,
   "id": "5c74e579-d9ef-4c4a-98c3-6c86012cff6f",
   "metadata": {},
   "outputs": [],
   "source": [
    "## convert the 4g column type to category\n",
    "df['5g'] = df['5g'].astype('category')"
   ]
  },
  {
   "cell_type": "code",
   "execution_count": 13,
   "id": "6a5b7320-414c-458b-9557-78f241c87b68",
   "metadata": {},
   "outputs": [
    {
     "data": {
      "text/plain": [
       "9.0"
      ]
     },
     "execution_count": 13,
     "metadata": {},
     "output_type": "execute_result"
    }
   ],
   "source": [
    "## finding the mean of main_camera_mp\n",
    "df['main_camera_mp'].mean()\n",
    "mean_age = round(df['main_camera_mp'].mean(), 0)\n",
    "mean_age"
   ]
  },
  {
   "cell_type": "code",
   "execution_count": 14,
   "id": "ed81492e-03f9-49f3-930d-c31722df7897",
   "metadata": {},
   "outputs": [],
   "source": [
    "## filling the null values in the main_camera_mp column with the mean age\n",
    "\n",
    "df['main_camera_mp'] = df['main_camera_mp'].fillna(mean_age)"
   ]
  },
  {
   "cell_type": "code",
   "execution_count": 15,
   "id": "3d820e0f-8c08-4b2c-b6de-2aa6ef723baa",
   "metadata": {},
   "outputs": [
    {
     "data": {
      "text/plain": [
       "7.0"
      ]
     },
     "execution_count": 15,
     "metadata": {},
     "output_type": "execute_result"
    }
   ],
   "source": [
    "## finding the mean of main_camera_mp\n",
    "df['selfie_camera_mp'].mean()\n",
    "mean_age = round(df['selfie_camera_mp'].mean(), 0)\n",
    "mean_age"
   ]
  },
  {
   "cell_type": "code",
   "execution_count": 16,
   "id": "334e33d1-c992-4abe-9f75-3b9966162049",
   "metadata": {},
   "outputs": [],
   "source": [
    "## filling the null values in the main_camera_mp column with the mean age\n",
    "\n",
    "df['selfie_camera_mp'] = df['selfie_camera_mp'].fillna(mean_age)"
   ]
  },
  {
   "cell_type": "code",
   "execution_count": 17,
   "id": "6111ca82-8873-4ab2-ac52-5b779ab04d13",
   "metadata": {},
   "outputs": [
    {
     "data": {
      "text/plain": [
       "55.0"
      ]
     },
     "execution_count": 17,
     "metadata": {},
     "output_type": "execute_result"
    }
   ],
   "source": [
    "## finding the mean of int_memory\n",
    "df['int_memory'].mean()\n",
    "mean_age = round(df['int_memory'].mean(), 0)\n",
    "mean_age"
   ]
  },
  {
   "cell_type": "code",
   "execution_count": 18,
   "id": "6d7fd27f-cfd6-457e-b216-c78bf5095b49",
   "metadata": {},
   "outputs": [],
   "source": [
    "## filling the null values in the int_memory column with the mean value\n",
    "\n",
    "df['int_memory'] = df['int_memory'].fillna(mean_age)"
   ]
  },
  {
   "cell_type": "code",
   "execution_count": 19,
   "id": "1af5314c-8558-48e4-beea-2b7124249860",
   "metadata": {},
   "outputs": [
    {
     "data": {
      "text/plain": [
       "4.0"
      ]
     },
     "execution_count": 19,
     "metadata": {},
     "output_type": "execute_result"
    }
   ],
   "source": [
    "## finding the mean of ram\n",
    "df['ram'].mean()\n",
    "mean_age = round(df['ram'].mean(), 0)\n",
    "mean_age"
   ]
  },
  {
   "cell_type": "code",
   "execution_count": 20,
   "id": "44bc7882-ce28-4d69-a35a-23058dc337c5",
   "metadata": {},
   "outputs": [],
   "source": [
    "## filling the null values in the int_memory column with the mean value\n",
    "\n",
    "df['ram'] = df['ram'].fillna(mean_age)"
   ]
  },
  {
   "cell_type": "code",
   "execution_count": 21,
   "id": "adae4b7f-3fc6-4d89-bdc7-53af195ea869",
   "metadata": {},
   "outputs": [
    {
     "data": {
      "text/plain": [
       "3133.0"
      ]
     },
     "execution_count": 21,
     "metadata": {},
     "output_type": "execute_result"
    }
   ],
   "source": [
    "## finding the mean of battery\n",
    "df['battery'].mean()\n",
    "mean_age = round(df['battery'].mean(), 0)\n",
    "mean_age"
   ]
  },
  {
   "cell_type": "code",
   "execution_count": 22,
   "id": "9438a82f-594c-41ab-8837-11718d1183b0",
   "metadata": {},
   "outputs": [],
   "source": [
    "## filling the null values in the int_memory column with the mean value\n",
    "\n",
    "df['battery'] = df['battery'].fillna(mean_age)"
   ]
  },
  {
   "cell_type": "code",
   "execution_count": 23,
   "id": "3002682e-c41f-490d-ad92-30cca0293a5b",
   "metadata": {},
   "outputs": [
    {
     "data": {
      "text/plain": [
       "183.0"
      ]
     },
     "execution_count": 23,
     "metadata": {},
     "output_type": "execute_result"
    }
   ],
   "source": [
    "## finding the mean of weight\n",
    "df['weight'].mean()\n",
    "mean_age = round(df['weight'].mean(), 0)\n",
    "mean_age"
   ]
  },
  {
   "cell_type": "code",
   "execution_count": 24,
   "id": "54dd37c9-011b-41ea-bfea-977b8117a15a",
   "metadata": {},
   "outputs": [],
   "source": [
    "## filling the null values in the int_memory column with the mean value\n",
    "\n",
    "df['weight'] = df['weight'].fillna(mean_age)"
   ]
  },
  {
   "cell_type": "code",
   "execution_count": 25,
   "id": "e390eda2-5028-445c-aa17-830ffde744fe",
   "metadata": {},
   "outputs": [
    {
     "data": {
      "text/plain": [
       "brand_name          0\n",
       "os                  0\n",
       "screen_size         0\n",
       "4g                  0\n",
       "5g                  0\n",
       "main_camera_mp      0\n",
       "selfie_camera_mp    0\n",
       "int_memory          0\n",
       "ram                 0\n",
       "battery             0\n",
       "weight              0\n",
       "release_year        0\n",
       "days_used           0\n",
       "new_price           0\n",
       "used_price          0\n",
       "dtype: int64"
      ]
     },
     "execution_count": 25,
     "metadata": {},
     "output_type": "execute_result"
    }
   ],
   "source": [
    "## checking for missing values\n",
    "df.isnull().sum()"
   ]
  },
  {
   "cell_type": "markdown",
   "id": "4902bdda-e2ac-4fe5-b6be-18a850eadaca",
   "metadata": {},
   "source": [
    "## Exploratory Data Analysis\n",
    "- statistical summary\n",
    "- Target variable analysis\n",
    "- Plot a coorelation againts the target variable"
   ]
  },
  {
   "cell_type": "code",
   "execution_count": 26,
   "id": "74e5e745-c5b2-4d9f-ae51-654cbdc0587a",
   "metadata": {},
   "outputs": [
    {
     "data": {
      "text/html": [
       "<div>\n",
       "<style scoped>\n",
       "    .dataframe tbody tr th:only-of-type {\n",
       "        vertical-align: middle;\n",
       "    }\n",
       "\n",
       "    .dataframe tbody tr th {\n",
       "        vertical-align: top;\n",
       "    }\n",
       "\n",
       "    .dataframe thead th {\n",
       "        text-align: right;\n",
       "    }\n",
       "</style>\n",
       "<table border=\"1\" class=\"dataframe\">\n",
       "  <thead>\n",
       "    <tr style=\"text-align: right;\">\n",
       "      <th></th>\n",
       "      <th>screen_size</th>\n",
       "      <th>main_camera_mp</th>\n",
       "      <th>selfie_camera_mp</th>\n",
       "      <th>int_memory</th>\n",
       "      <th>ram</th>\n",
       "      <th>battery</th>\n",
       "      <th>weight</th>\n",
       "      <th>release_year</th>\n",
       "      <th>days_used</th>\n",
       "      <th>new_price</th>\n",
       "      <th>used_price</th>\n",
       "    </tr>\n",
       "  </thead>\n",
       "  <tbody>\n",
       "    <tr>\n",
       "      <th>count</th>\n",
       "      <td>3454.0</td>\n",
       "      <td>3454.0</td>\n",
       "      <td>3454.0</td>\n",
       "      <td>3454.0</td>\n",
       "      <td>3454.0</td>\n",
       "      <td>3454.0</td>\n",
       "      <td>3454.0</td>\n",
       "      <td>3454.0</td>\n",
       "      <td>3454.0</td>\n",
       "      <td>3454.0</td>\n",
       "      <td>3454.0</td>\n",
       "    </tr>\n",
       "    <tr>\n",
       "      <th>mean</th>\n",
       "      <td>14.0</td>\n",
       "      <td>9.0</td>\n",
       "      <td>7.0</td>\n",
       "      <td>55.0</td>\n",
       "      <td>4.0</td>\n",
       "      <td>3133.0</td>\n",
       "      <td>183.0</td>\n",
       "      <td>2016.0</td>\n",
       "      <td>675.0</td>\n",
       "      <td>237.0</td>\n",
       "      <td>92.0</td>\n",
       "    </tr>\n",
       "    <tr>\n",
       "      <th>std</th>\n",
       "      <td>4.0</td>\n",
       "      <td>5.0</td>\n",
       "      <td>7.0</td>\n",
       "      <td>85.0</td>\n",
       "      <td>1.0</td>\n",
       "      <td>1299.0</td>\n",
       "      <td>88.0</td>\n",
       "      <td>2.0</td>\n",
       "      <td>249.0</td>\n",
       "      <td>194.0</td>\n",
       "      <td>55.0</td>\n",
       "    </tr>\n",
       "    <tr>\n",
       "      <th>min</th>\n",
       "      <td>5.0</td>\n",
       "      <td>0.0</td>\n",
       "      <td>0.0</td>\n",
       "      <td>0.0</td>\n",
       "      <td>0.0</td>\n",
       "      <td>500.0</td>\n",
       "      <td>69.0</td>\n",
       "      <td>2013.0</td>\n",
       "      <td>91.0</td>\n",
       "      <td>18.0</td>\n",
       "      <td>5.0</td>\n",
       "    </tr>\n",
       "    <tr>\n",
       "      <th>25%</th>\n",
       "      <td>13.0</td>\n",
       "      <td>5.0</td>\n",
       "      <td>2.0</td>\n",
       "      <td>16.0</td>\n",
       "      <td>4.0</td>\n",
       "      <td>2100.0</td>\n",
       "      <td>142.0</td>\n",
       "      <td>2014.0</td>\n",
       "      <td>534.0</td>\n",
       "      <td>120.0</td>\n",
       "      <td>56.0</td>\n",
       "    </tr>\n",
       "    <tr>\n",
       "      <th>50%</th>\n",
       "      <td>13.0</td>\n",
       "      <td>9.0</td>\n",
       "      <td>5.0</td>\n",
       "      <td>32.0</td>\n",
       "      <td>4.0</td>\n",
       "      <td>3000.0</td>\n",
       "      <td>160.0</td>\n",
       "      <td>2016.0</td>\n",
       "      <td>690.0</td>\n",
       "      <td>190.0</td>\n",
       "      <td>82.0</td>\n",
       "    </tr>\n",
       "    <tr>\n",
       "      <th>75%</th>\n",
       "      <td>15.0</td>\n",
       "      <td>13.0</td>\n",
       "      <td>8.0</td>\n",
       "      <td>64.0</td>\n",
       "      <td>4.0</td>\n",
       "      <td>4000.0</td>\n",
       "      <td>185.0</td>\n",
       "      <td>2018.0</td>\n",
       "      <td>869.0</td>\n",
       "      <td>291.0</td>\n",
       "      <td>116.0</td>\n",
       "    </tr>\n",
       "    <tr>\n",
       "      <th>max</th>\n",
       "      <td>31.0</td>\n",
       "      <td>48.0</td>\n",
       "      <td>32.0</td>\n",
       "      <td>1024.0</td>\n",
       "      <td>12.0</td>\n",
       "      <td>9720.0</td>\n",
       "      <td>855.0</td>\n",
       "      <td>2020.0</td>\n",
       "      <td>1094.0</td>\n",
       "      <td>2560.0</td>\n",
       "      <td>750.0</td>\n",
       "    </tr>\n",
       "  </tbody>\n",
       "</table>\n",
       "</div>"
      ],
      "text/plain": [
       "       screen_size  main_camera_mp  selfie_camera_mp  int_memory     ram  \\\n",
       "count       3454.0          3454.0            3454.0      3454.0  3454.0   \n",
       "mean          14.0             9.0               7.0        55.0     4.0   \n",
       "std            4.0             5.0               7.0        85.0     1.0   \n",
       "min            5.0             0.0               0.0         0.0     0.0   \n",
       "25%           13.0             5.0               2.0        16.0     4.0   \n",
       "50%           13.0             9.0               5.0        32.0     4.0   \n",
       "75%           15.0            13.0               8.0        64.0     4.0   \n",
       "max           31.0            48.0              32.0      1024.0    12.0   \n",
       "\n",
       "       battery  weight  release_year  days_used  new_price  used_price  \n",
       "count   3454.0  3454.0        3454.0     3454.0     3454.0      3454.0  \n",
       "mean    3133.0   183.0        2016.0      675.0      237.0        92.0  \n",
       "std     1299.0    88.0           2.0      249.0      194.0        55.0  \n",
       "min      500.0    69.0        2013.0       91.0       18.0         5.0  \n",
       "25%     2100.0   142.0        2014.0      534.0      120.0        56.0  \n",
       "50%     3000.0   160.0        2016.0      690.0      190.0        82.0  \n",
       "75%     4000.0   185.0        2018.0      869.0      291.0       116.0  \n",
       "max     9720.0   855.0        2020.0     1094.0     2560.0       750.0  "
      ]
     },
     "execution_count": 26,
     "metadata": {},
     "output_type": "execute_result"
    }
   ],
   "source": [
    "df.describe().round()"
   ]
  },
  {
   "cell_type": "code",
   "execution_count": 27,
   "id": "a809d340-30ec-4e9b-a581-0a60f417d1ca",
   "metadata": {},
   "outputs": [
    {
     "data": {
      "image/png": "[encoded data removed]",
      "text/plain": [
       "<Figure size 640x480 with 1 Axes>"
      ]
     },
     "metadata": {},
     "output_type": "display_data"
    }
   ],
   "source": [
    "\n",
    "sns.histplot(df['used_price'])\n",
    "\n",
    "plt.title('Histogram Distribution of Price')\n",
    "plt.xlabel('Price')\n",
    "plt.ylabel('Frequency')\n",
    "\n",
    "plt.show()"
   ]
  },
  {
   "cell_type": "code",
   "execution_count": 28,
   "id": "1053bf76-7e6b-4d4c-a74e-0f4ef00d2574",
   "metadata": {},
   "outputs": [],
   "source": [
    "## log transformation \n",
    "log_price = np.log1p(df['used_price'])"
   ]
  },
  {
   "cell_type": "code",
   "execution_count": 29,
   "id": "7d61f029-de9d-4796-9c89-fc95cd5da908",
   "metadata": {
    "scrolled": true
   },
   "outputs": [
    {
     "data": {
      "image/png": "[encoded data removed]",
      "text/plain": [
       "<Figure size 640x480 with 1 Axes>"
      ]
     },
     "metadata": {},
     "output_type": "display_data"
    }
   ],
   "source": [
    "sns.histplot(log_price)\n",
    "\n",
    "plt.title('Histogram Distribution of the Log Price')\n",
    "plt.xlabel('Price')\n",
    "plt.ylabel('Frequency')\n",
    "\n",
    "plt.show()\n"
   ]
  },
  {
   "cell_type": "code",
   "execution_count": 30,
   "id": "b12a8a13-fc01-4e77-be46-4fc2d6c53c70",
   "metadata": {},
   "outputs": [
    {
     "ename": "ValueError",
     "evalue": "could not convert string to float: 'no'",
     "output_type": "error",
     "traceback": [
      "\u001b[1;31m---------------------------------------------------------------------------\u001b[0m",
      "\u001b[1;31mValueError\u001b[0m                                Traceback (most recent call last)",
      "Cell \u001b[1;32mIn[30], line 5\u001b[0m\n\u001b[0;32m      1\u001b[0m \u001b[38;5;66;03m## performing a coorelation on numerical column\u001b[39;00m\n\u001b[0;32m      2\u001b[0m \u001b[38;5;66;03m## select numerical ..\u001b[39;00m\n\u001b[0;32m      3\u001b[0m numerical_cols \u001b[38;5;241m=\u001b[39m df\u001b[38;5;241m.\u001b[39mselect_dtypes(exclude\u001b[38;5;241m=\u001b[39m[\u001b[38;5;28mobject\u001b[39m])\n\u001b[1;32m----> 5\u001b[0m corr_matrix \u001b[38;5;241m=\u001b[39m \u001b[43mnumerical_cols\u001b[49m\u001b[38;5;241;43m.\u001b[39;49m\u001b[43mcorr\u001b[49m\u001b[43m(\u001b[49m\u001b[43m)\u001b[49m \n\u001b[0;32m      7\u001b[0m corr_matrix[\u001b[38;5;124m'\u001b[39m\u001b[38;5;124mused_price\u001b[39m\u001b[38;5;124m'\u001b[39m]\n",
      "File \u001b[1;32m~\\.virtualenvs\\DBCFinalProject-gFWifcgV\\Lib\\site-packages\\pandas\\core\\frame.py:11022\u001b[0m, in \u001b[0;36mDataFrame.corr\u001b[1;34m(self, method, min_periods, numeric_only)\u001b[0m\n\u001b[0;32m  11020\u001b[0m cols \u001b[38;5;241m=\u001b[39m data\u001b[38;5;241m.\u001b[39mcolumns\n\u001b[0;32m  11021\u001b[0m idx \u001b[38;5;241m=\u001b[39m cols\u001b[38;5;241m.\u001b[39mcopy()\n\u001b[1;32m> 11022\u001b[0m mat \u001b[38;5;241m=\u001b[39m \u001b[43mdata\u001b[49m\u001b[38;5;241;43m.\u001b[39;49m\u001b[43mto_numpy\u001b[49m\u001b[43m(\u001b[49m\u001b[43mdtype\u001b[49m\u001b[38;5;241;43m=\u001b[39;49m\u001b[38;5;28;43mfloat\u001b[39;49m\u001b[43m,\u001b[49m\u001b[43m \u001b[49m\u001b[43mna_value\u001b[49m\u001b[38;5;241;43m=\u001b[39;49m\u001b[43mnp\u001b[49m\u001b[38;5;241;43m.\u001b[39;49m\u001b[43mnan\u001b[49m\u001b[43m,\u001b[49m\u001b[43m \u001b[49m\u001b[43mcopy\u001b[49m\u001b[38;5;241;43m=\u001b[39;49m\u001b[38;5;28;43;01mFalse\u001b[39;49;00m\u001b[43m)\u001b[49m\n\u001b[0;32m  11024\u001b[0m \u001b[38;5;28;01mif\u001b[39;00m method \u001b[38;5;241m==\u001b[39m \u001b[38;5;124m\"\u001b[39m\u001b[38;5;124mpearson\u001b[39m\u001b[38;5;124m\"\u001b[39m:\n\u001b[0;32m  11025\u001b[0m     correl \u001b[38;5;241m=\u001b[39m libalgos\u001b[38;5;241m.\u001b[39mnancorr(mat, minp\u001b[38;5;241m=\u001b[39mmin_periods)\n",
      "File \u001b[1;32m~\\.virtualenvs\\DBCFinalProject-gFWifcgV\\Lib\\site-packages\\pandas\\core\\frame.py:1981\u001b[0m, in \u001b[0;36mDataFrame.to_numpy\u001b[1;34m(self, dtype, copy, na_value)\u001b[0m\n\u001b[0;32m   1979\u001b[0m \u001b[38;5;28;01mif\u001b[39;00m dtype \u001b[38;5;129;01mis\u001b[39;00m \u001b[38;5;129;01mnot\u001b[39;00m \u001b[38;5;28;01mNone\u001b[39;00m:\n\u001b[0;32m   1980\u001b[0m     dtype \u001b[38;5;241m=\u001b[39m np\u001b[38;5;241m.\u001b[39mdtype(dtype)\n\u001b[1;32m-> 1981\u001b[0m result \u001b[38;5;241m=\u001b[39m \u001b[38;5;28;43mself\u001b[39;49m\u001b[38;5;241;43m.\u001b[39;49m\u001b[43m_mgr\u001b[49m\u001b[38;5;241;43m.\u001b[39;49m\u001b[43mas_array\u001b[49m\u001b[43m(\u001b[49m\u001b[43mdtype\u001b[49m\u001b[38;5;241;43m=\u001b[39;49m\u001b[43mdtype\u001b[49m\u001b[43m,\u001b[49m\u001b[43m \u001b[49m\u001b[43mcopy\u001b[49m\u001b[38;5;241;43m=\u001b[39;49m\u001b[43mcopy\u001b[49m\u001b[43m,\u001b[49m\u001b[43m \u001b[49m\u001b[43mna_value\u001b[49m\u001b[38;5;241;43m=\u001b[39;49m\u001b[43mna_value\u001b[49m\u001b[43m)\u001b[49m\n\u001b[0;32m   1982\u001b[0m \u001b[38;5;28;01mif\u001b[39;00m result\u001b[38;5;241m.\u001b[39mdtype \u001b[38;5;129;01mis\u001b[39;00m \u001b[38;5;129;01mnot\u001b[39;00m dtype:\n\u001b[0;32m   1983\u001b[0m     result \u001b[38;5;241m=\u001b[39m np\u001b[38;5;241m.\u001b[39marray(result, dtype\u001b[38;5;241m=\u001b[39mdtype, copy\u001b[38;5;241m=\u001b[39m\u001b[38;5;28;01mFalse\u001b[39;00m)\n",
      "File \u001b[1;32m~\\.virtualenvs\\DBCFinalProject-gFWifcgV\\Lib\\site-packages\\pandas\\core\\internals\\managers.py:1693\u001b[0m, in \u001b[0;36mBlockManager.as_array\u001b[1;34m(self, dtype, copy, na_value)\u001b[0m\n\u001b[0;32m   1691\u001b[0m         arr\u001b[38;5;241m.\u001b[39mflags\u001b[38;5;241m.\u001b[39mwriteable \u001b[38;5;241m=\u001b[39m \u001b[38;5;28;01mFalse\u001b[39;00m\n\u001b[0;32m   1692\u001b[0m \u001b[38;5;28;01melse\u001b[39;00m:\n\u001b[1;32m-> 1693\u001b[0m     arr \u001b[38;5;241m=\u001b[39m \u001b[38;5;28;43mself\u001b[39;49m\u001b[38;5;241;43m.\u001b[39;49m\u001b[43m_interleave\u001b[49m\u001b[43m(\u001b[49m\u001b[43mdtype\u001b[49m\u001b[38;5;241;43m=\u001b[39;49m\u001b[43mdtype\u001b[49m\u001b[43m,\u001b[49m\u001b[43m \u001b[49m\u001b[43mna_value\u001b[49m\u001b[38;5;241;43m=\u001b[39;49m\u001b[43mna_value\u001b[49m\u001b[43m)\u001b[49m\n\u001b[0;32m   1694\u001b[0m     \u001b[38;5;66;03m# The underlying data was copied within _interleave, so no need\u001b[39;00m\n\u001b[0;32m   1695\u001b[0m     \u001b[38;5;66;03m# to further copy if copy=True or setting na_value\u001b[39;00m\n\u001b[0;32m   1697\u001b[0m \u001b[38;5;28;01mif\u001b[39;00m na_value \u001b[38;5;129;01mis\u001b[39;00m lib\u001b[38;5;241m.\u001b[39mno_default:\n",
      "File \u001b[1;32m~\\.virtualenvs\\DBCFinalProject-gFWifcgV\\Lib\\site-packages\\pandas\\core\\internals\\managers.py:1746\u001b[0m, in \u001b[0;36mBlockManager._interleave\u001b[1;34m(self, dtype, na_value)\u001b[0m\n\u001b[0;32m   1740\u001b[0m rl \u001b[38;5;241m=\u001b[39m blk\u001b[38;5;241m.\u001b[39mmgr_locs\n\u001b[0;32m   1741\u001b[0m \u001b[38;5;28;01mif\u001b[39;00m blk\u001b[38;5;241m.\u001b[39mis_extension:\n\u001b[0;32m   1742\u001b[0m     \u001b[38;5;66;03m# Avoid implicit conversion of extension blocks to object\u001b[39;00m\n\u001b[0;32m   1743\u001b[0m \n\u001b[0;32m   1744\u001b[0m     \u001b[38;5;66;03m# error: Item \"ndarray\" of \"Union[ndarray, ExtensionArray]\" has no\u001b[39;00m\n\u001b[0;32m   1745\u001b[0m     \u001b[38;5;66;03m# attribute \"to_numpy\"\u001b[39;00m\n\u001b[1;32m-> 1746\u001b[0m     arr \u001b[38;5;241m=\u001b[39m \u001b[43mblk\u001b[49m\u001b[38;5;241;43m.\u001b[39;49m\u001b[43mvalues\u001b[49m\u001b[38;5;241;43m.\u001b[39;49m\u001b[43mto_numpy\u001b[49m\u001b[43m(\u001b[49m\u001b[43m  \u001b[49m\u001b[38;5;66;43;03m# type: ignore[union-attr]\u001b[39;49;00m\n\u001b[0;32m   1747\u001b[0m \u001b[43m        \u001b[49m\u001b[43mdtype\u001b[49m\u001b[38;5;241;43m=\u001b[39;49m\u001b[43mdtype\u001b[49m\u001b[43m,\u001b[49m\n\u001b[0;32m   1748\u001b[0m \u001b[43m        \u001b[49m\u001b[43mna_value\u001b[49m\u001b[38;5;241;43m=\u001b[39;49m\u001b[43mna_value\u001b[49m\u001b[43m,\u001b[49m\n\u001b[0;32m   1749\u001b[0m \u001b[43m    \u001b[49m\u001b[43m)\u001b[49m\n\u001b[0;32m   1750\u001b[0m \u001b[38;5;28;01melse\u001b[39;00m:\n\u001b[0;32m   1751\u001b[0m     arr \u001b[38;5;241m=\u001b[39m blk\u001b[38;5;241m.\u001b[39mget_values(dtype)\n",
      "File \u001b[1;32m~\\.virtualenvs\\DBCFinalProject-gFWifcgV\\Lib\\site-packages\\pandas\\core\\arrays\\base.py:568\u001b[0m, in \u001b[0;36mExtensionArray.to_numpy\u001b[1;34m(self, dtype, copy, na_value)\u001b[0m\n\u001b[0;32m    539\u001b[0m \u001b[38;5;28;01mdef\u001b[39;00m \u001b[38;5;21mto_numpy\u001b[39m(\n\u001b[0;32m    540\u001b[0m     \u001b[38;5;28mself\u001b[39m,\n\u001b[0;32m    541\u001b[0m     dtype: npt\u001b[38;5;241m.\u001b[39mDTypeLike \u001b[38;5;241m|\u001b[39m \u001b[38;5;28;01mNone\u001b[39;00m \u001b[38;5;241m=\u001b[39m \u001b[38;5;28;01mNone\u001b[39;00m,\n\u001b[0;32m    542\u001b[0m     copy: \u001b[38;5;28mbool\u001b[39m \u001b[38;5;241m=\u001b[39m \u001b[38;5;28;01mFalse\u001b[39;00m,\n\u001b[0;32m    543\u001b[0m     na_value: \u001b[38;5;28mobject\u001b[39m \u001b[38;5;241m=\u001b[39m lib\u001b[38;5;241m.\u001b[39mno_default,\n\u001b[0;32m    544\u001b[0m ) \u001b[38;5;241m-\u001b[39m\u001b[38;5;241m>\u001b[39m np\u001b[38;5;241m.\u001b[39mndarray:\n\u001b[0;32m    545\u001b[0m \u001b[38;5;250m    \u001b[39m\u001b[38;5;124;03m\"\"\"\u001b[39;00m\n\u001b[0;32m    546\u001b[0m \u001b[38;5;124;03m    Convert to a NumPy ndarray.\u001b[39;00m\n\u001b[0;32m    547\u001b[0m \n\u001b[1;32m   (...)\u001b[0m\n\u001b[0;32m    566\u001b[0m \u001b[38;5;124;03m    numpy.ndarray\u001b[39;00m\n\u001b[0;32m    567\u001b[0m \u001b[38;5;124;03m    \"\"\"\u001b[39;00m\n\u001b[1;32m--> 568\u001b[0m     result \u001b[38;5;241m=\u001b[39m \u001b[43mnp\u001b[49m\u001b[38;5;241;43m.\u001b[39;49m\u001b[43masarray\u001b[49m\u001b[43m(\u001b[49m\u001b[38;5;28;43mself\u001b[39;49m\u001b[43m,\u001b[49m\u001b[43m \u001b[49m\u001b[43mdtype\u001b[49m\u001b[38;5;241;43m=\u001b[39;49m\u001b[43mdtype\u001b[49m\u001b[43m)\u001b[49m\n\u001b[0;32m    569\u001b[0m     \u001b[38;5;28;01mif\u001b[39;00m copy \u001b[38;5;129;01mor\u001b[39;00m na_value \u001b[38;5;129;01mis\u001b[39;00m \u001b[38;5;129;01mnot\u001b[39;00m lib\u001b[38;5;241m.\u001b[39mno_default:\n\u001b[0;32m    570\u001b[0m         result \u001b[38;5;241m=\u001b[39m result\u001b[38;5;241m.\u001b[39mcopy()\n",
      "File \u001b[1;32m~\\.virtualenvs\\DBCFinalProject-gFWifcgV\\Lib\\site-packages\\pandas\\core\\arrays\\_mixins.py:81\u001b[0m, in \u001b[0;36mravel_compat.<locals>.method\u001b[1;34m(self, *args, **kwargs)\u001b[0m\n\u001b[0;32m     78\u001b[0m \u001b[38;5;129m@wraps\u001b[39m(meth)\n\u001b[0;32m     79\u001b[0m \u001b[38;5;28;01mdef\u001b[39;00m \u001b[38;5;21mmethod\u001b[39m(\u001b[38;5;28mself\u001b[39m, \u001b[38;5;241m*\u001b[39margs, \u001b[38;5;241m*\u001b[39m\u001b[38;5;241m*\u001b[39mkwargs):\n\u001b[0;32m     80\u001b[0m     \u001b[38;5;28;01mif\u001b[39;00m \u001b[38;5;28mself\u001b[39m\u001b[38;5;241m.\u001b[39mndim \u001b[38;5;241m==\u001b[39m \u001b[38;5;241m1\u001b[39m:\n\u001b[1;32m---> 81\u001b[0m         \u001b[38;5;28;01mreturn\u001b[39;00m \u001b[43mmeth\u001b[49m\u001b[43m(\u001b[49m\u001b[38;5;28;43mself\u001b[39;49m\u001b[43m,\u001b[49m\u001b[43m \u001b[49m\u001b[38;5;241;43m*\u001b[39;49m\u001b[43margs\u001b[49m\u001b[43m,\u001b[49m\u001b[43m \u001b[49m\u001b[38;5;241;43m*\u001b[39;49m\u001b[38;5;241;43m*\u001b[39;49m\u001b[43mkwargs\u001b[49m\u001b[43m)\u001b[49m\n\u001b[0;32m     83\u001b[0m     flags \u001b[38;5;241m=\u001b[39m \u001b[38;5;28mself\u001b[39m\u001b[38;5;241m.\u001b[39m_ndarray\u001b[38;5;241m.\u001b[39mflags\n\u001b[0;32m     84\u001b[0m     flat \u001b[38;5;241m=\u001b[39m \u001b[38;5;28mself\u001b[39m\u001b[38;5;241m.\u001b[39mravel(\u001b[38;5;124m\"\u001b[39m\u001b[38;5;124mK\u001b[39m\u001b[38;5;124m\"\u001b[39m)\n",
      "File \u001b[1;32m~\\.virtualenvs\\DBCFinalProject-gFWifcgV\\Lib\\site-packages\\pandas\\core\\arrays\\categorical.py:1662\u001b[0m, in \u001b[0;36mCategorical.__array__\u001b[1;34m(self, dtype)\u001b[0m\n\u001b[0;32m   1660\u001b[0m ret \u001b[38;5;241m=\u001b[39m take_nd(\u001b[38;5;28mself\u001b[39m\u001b[38;5;241m.\u001b[39mcategories\u001b[38;5;241m.\u001b[39m_values, \u001b[38;5;28mself\u001b[39m\u001b[38;5;241m.\u001b[39m_codes)\n\u001b[0;32m   1661\u001b[0m \u001b[38;5;28;01mif\u001b[39;00m dtype \u001b[38;5;129;01mand\u001b[39;00m np\u001b[38;5;241m.\u001b[39mdtype(dtype) \u001b[38;5;241m!=\u001b[39m \u001b[38;5;28mself\u001b[39m\u001b[38;5;241m.\u001b[39mcategories\u001b[38;5;241m.\u001b[39mdtype:\n\u001b[1;32m-> 1662\u001b[0m     \u001b[38;5;28;01mreturn\u001b[39;00m \u001b[43mnp\u001b[49m\u001b[38;5;241;43m.\u001b[39;49m\u001b[43masarray\u001b[49m\u001b[43m(\u001b[49m\u001b[43mret\u001b[49m\u001b[43m,\u001b[49m\u001b[43m \u001b[49m\u001b[43mdtype\u001b[49m\u001b[43m)\u001b[49m\n\u001b[0;32m   1663\u001b[0m \u001b[38;5;66;03m# When we're a Categorical[ExtensionArray], like Interval,\u001b[39;00m\n\u001b[0;32m   1664\u001b[0m \u001b[38;5;66;03m# we need to ensure __array__ gets all the way to an\u001b[39;00m\n\u001b[0;32m   1665\u001b[0m \u001b[38;5;66;03m# ndarray.\u001b[39;00m\n\u001b[0;32m   1666\u001b[0m \u001b[38;5;28;01mreturn\u001b[39;00m np\u001b[38;5;241m.\u001b[39masarray(ret)\n",
      "\u001b[1;31mValueError\u001b[0m: could not convert string to float: 'no'"
     ]
    }
   ],
   "source": [
    "## performing a coorelation on numerical column\n",
    "## select numerical ..\n",
    "numerical_cols = df.select_dtypes(exclude=[object])\n",
    "\n",
    "corr_matrix = numerical_cols.corr() \n",
    "\n",
    "corr_matrix['used_price']"
   ]
  },
  {
   "cell_type": "code",
   "execution_count": null,
   "id": "ffa20780-46f8-4dfc-a959-c9c685954209",
   "metadata": {},
   "outputs": [],
   "source": [
    "## correlation for non-merical "
   ]
  },
  {
   "cell_type": "markdown",
   "id": "bb5f909d-7dc2-4762-9cd2-493b5ba72f60",
   "metadata": {},
   "source": [
    "## Building A Validation Framework / Splitting Dataset\n",
    "- Training set 60 %\n",
    "- Validation dataset 20%\n",
    "- Test dataset 20%\n"
   ]
  },
  {
   "cell_type": "code",
   "execution_count": null,
   "id": "811debd3-8d14-4f74-841d-367b7b7e201d",
   "metadata": {},
   "outputs": [],
   "source": [
    "df_train_full, df_test = train_test_split(df, test_size=0.2, random_state=11)\n",
    "\n",
    "df_train, df_valid = train_test_split(df_train_full, test_size=0.25, random_state=11) \n",
    "\n",
    "print(f'Train set {len(df_train)}')\n",
    "print(f'Valid set {len(df_valid)}')\n",
    "print(f'Test set {len(df_test)}')\n"
   ]
  },
  {
   "cell_type": "code",
   "execution_count": null,
   "id": "5ae5f714-60a4-4a56-8efd-4d67d1a597b5",
   "metadata": {},
   "outputs": [],
   "source": [
    "df_train.head()"
   ]
  },
  {
   "cell_type": "code",
   "execution_count": null,
   "id": "91583310-70e6-4a25-a5ff-3fa021472415",
   "metadata": {},
   "outputs": [],
   "source": [
    "## selecting target column and converting it to a vector format\n",
    "y_train = np.log1p(df_train['used_price']).values\n",
    "y_valid = np.log1p(df_valid['used_price']).values\n",
    "y_test = np.log1p(df_test['used_price']).values\n",
    "y_train_full = np.log1p(df_train_full['used_price']).values"
   ]
  },
  {
   "cell_type": "code",
   "execution_count": null,
   "id": "36bca905-9a3d-43fc-86cf-3ca8d55161b9",
   "metadata": {},
   "outputs": [],
   "source": [
    "#y_train"
   ]
  },
  {
   "cell_type": "code",
   "execution_count": null,
   "id": "27ec11bc-8d99-4885-95c8-7709a67c5d08",
   "metadata": {},
   "outputs": [],
   "source": [
    "del df_train['used_price']\n",
    "del df_valid['used_price']\n",
    "del df_test['used_price']\n",
    "del df_train_full['used_price']"
   ]
  },
  {
   "cell_type": "markdown",
   "id": "c1117e52-fb98-4ace-956b-3f51141bb90b",
   "metadata": {},
   "source": [
    "## Train A Baseline Regression Model\n",
    "- Selecting baseline features\n",
    "- Train a regression model"
   ]
  },
  {
   "cell_type": "code",
   "execution_count": null,
   "id": "2d8b5d54-dc2d-48e1-b471-2330eab9f5ee",
   "metadata": {},
   "outputs": [],
   "source": [
    "baseline_features = ['area', 'bedrooms', 'bathrooms', 'stories', 'parking']\n",
    "\n",
    "df_train_bl = df_train[baseline_features]"
   ]
  },
  {
   "cell_type": "code",
   "execution_count": null,
   "id": "2ab85bab-a2f8-4fb3-ba45-c566431d4167",
   "metadata": {},
   "outputs": [],
   "source": [
    "X_train_bl = df_train_bl.values\n",
    "X_train_bl"
   ]
  },
  {
   "cell_type": "code",
   "execution_count": null,
   "id": "2b929349-d34b-4b98-b1c0-fdda14833876",
   "metadata": {},
   "outputs": [],
   "source": [
    "## lets train model \n",
    "model = LinearRegression() \n",
    "model.fit(X_train_bl, y_train)\n"
   ]
  },
  {
   "cell_type": "markdown",
   "id": "0e39adab-3e1f-487d-ae31-a3b182ea6a01",
   "metadata": {},
   "source": [
    "## Model Evaluation\n",
    "- Generate the validation predictions\n",
    "- Compare the validation predictions to the actual predictions\n",
    "- Return an accuracy score\n",
    "  "
   ]
  },
  {
   "cell_type": "code",
   "execution_count": null,
   "id": "17bcd68c-8d5e-4840-a651-bad84fbcd384",
   "metadata": {},
   "outputs": [],
   "source": [
    "## generate validation baseline features \n",
    "df_valid_bl = df_valid[baseline_features]\n",
    "\n",
    "## convert dataframe into numpy array\n",
    "X_valid_bl = df_valid_bl.values "
   ]
  },
  {
   "cell_type": "code",
   "execution_count": null,
   "id": "aec326ad-8e43-4a1d-b822-1c1cddceef71",
   "metadata": {},
   "outputs": [],
   "source": [
    "X_valid_bl"
   ]
  },
  {
   "cell_type": "code",
   "execution_count": null,
   "id": "fb5bd3f9-081b-4849-ac6f-7be04f5e03d7",
   "metadata": {},
   "outputs": [],
   "source": [
    "## generate our validation prediction\n",
    "y_valid_pred = model.predict(X_valid_bl)"
   ]
  },
  {
   "cell_type": "code",
   "execution_count": null,
   "id": "a7e374d0-3728-4e83-a337-1a0b6abe8ee3",
   "metadata": {},
   "outputs": [],
   "source": [
    "acc_score = model.score(X_valid_bl, y_valid) \n",
    "\n",
    "print(f'Baseline Validation Accuracy: {acc_score}')"
   ]
  },
  {
   "cell_type": "code",
   "execution_count": null,
   "id": "b40b221e-be82-47c0-a1d0-a0bea5b4eb97",
   "metadata": {},
   "outputs": [],
   "source": [
    "\n",
    "rsquared_acc = r2_score(y_valid, y_valid_pred)"
   ]
  },
  {
   "cell_type": "code",
   "execution_count": null,
   "id": "4b71a94a-2c69-4a52-b804-f8ba9ed1ae83",
   "metadata": {},
   "outputs": [],
   "source": [
    "print(f'Mean Accuracy for the Model: {rsquared_acc}')"
   ]
  },
  {
   "cell_type": "code",
   "execution_count": null,
   "id": "867e9723-01d0-4078-95a7-2d628ff083ff",
   "metadata": {},
   "outputs": [],
   "source": [
    "y_train_pred = model.predict(X_train_bl)\n",
    "\n",
    "r2 = r2_score(y_train, y_train_pred) \n",
    "\n",
    "print(f'{r2}')"
   ]
  },
  {
   "cell_type": "code",
   "execution_count": null,
   "id": "48402a35-fd37-4d26-a826-23e97ecde269",
   "metadata": {},
   "outputs": [],
   "source": [
    "df_train.columns"
   ]
  },
  {
   "cell_type": "code",
   "execution_count": null,
   "id": "f738f765-9296-47a1-8ee1-dc7e1347f7a4",
   "metadata": {},
   "outputs": [],
   "source": [
    "df.dtypes"
   ]
  },
  {
   "cell_type": "markdown",
   "id": "b3875735-cfd3-4d92-9e4d-e46c6a8f63df",
   "metadata": {},
   "source": [
    "## Feature Engineering \n",
    "- Convert categorical data to numerical using one-hot encoding "
   ]
  },
  {
   "cell_type": "code",
   "execution_count": null,
   "id": "4085524f-9fa7-4dc6-9063-77a34db6da0f",
   "metadata": {},
   "outputs": [],
   "source": [
    "## select categoricals \n",
    "categorical_features = ['mainroad', 'guestroom', 'basement', 'hotwaterheating', 'airconditioning', 'prefarea','furnishingstatus']\n",
    "numerical_features = ['area', 'bedrooms', 'bathrooms','stories', 'parking']\n",
    "\n",
    "## conbine of dataframe\n",
    "df_train_fe = df_train[categorical_features + numerical_features]\n",
    "\n",
    "## convert our dataframe to a list of dict\n",
    "train_dict_fe = df_train_fe.to_dict(orient='records')"
   ]
  },
  {
   "cell_type": "code",
   "execution_count": null,
   "id": "12ae75b9-b951-430f-91b5-c924eef45131",
   "metadata": {},
   "outputs": [],
   "source": [
    "## create an instance of the dict vectorizer \n",
    "dv = DictVectorizer()\n",
    "\n",
    "dv.fit(train_dict_fe)"
   ]
  },
  {
   "cell_type": "code",
   "execution_count": null,
   "id": "e26f2702-5e69-484d-8bef-d3acd8163ac5",
   "metadata": {},
   "outputs": [],
   "source": [
    "## \n",
    "X_train_fe = dv.transform(train_dict_fe) "
   ]
  },
  {
   "cell_type": "code",
   "execution_count": null,
   "id": "b0bc56aa-acd0-47e6-9f56-9ccc8395f562",
   "metadata": {},
   "outputs": [],
   "source": [
    "X_train_fe"
   ]
  },
  {
   "cell_type": "code",
   "execution_count": null,
   "id": "2fd389c7-1c46-4a1f-84ef-8107e9ff15d4",
   "metadata": {},
   "outputs": [],
   "source": [
    "# print(dv.get_feature_names_out()) < feature_names.txt"
   ]
  },
  {
   "cell_type": "markdown",
   "id": "7a20ade9-67d9-4577-b29a-2c1230097ede",
   "metadata": {},
   "source": [
    "## Training  Model\n"
   ]
  },
  {
   "cell_type": "code",
   "execution_count": null,
   "id": "30cd7a61-eda5-446f-a9fc-ebbf2af461f9",
   "metadata": {},
   "outputs": [],
   "source": [
    "fe_model = LinearRegression()\n",
    "\n",
    "fe_model.fit(X_train_fe, y_train)"
   ]
  },
  {
   "cell_type": "code",
   "execution_count": null,
   "id": "3c63d636-4302-485f-a956-bc4204ab88ba",
   "metadata": {},
   "outputs": [],
   "source": [
    "## \n",
    "df_valid_fe = df_valid[numerical_features + categorical_features] \n",
    "\n",
    "## convert dataframe to diction\n",
    "dict_valid_fe = df_valid_fe.to_dict(orient='records') \n",
    "\n",
    "X_valid_fe = dv.transform(dict_valid_fe)"
   ]
  },
  {
   "cell_type": "code",
   "execution_count": null,
   "id": "5dfb36f6-f01a-46e7-b5cc-38a490e9a967",
   "metadata": {},
   "outputs": [],
   "source": [
    "y_valid_predict = fe_model.predict(X_valid_fe) \n"
   ]
  },
  {
   "cell_type": "code",
   "execution_count": null,
   "id": "c6504d1b-c0a9-403e-832d-e64700bdd9a6",
   "metadata": {},
   "outputs": [],
   "source": [
    "fe_rsquared_acc = r2_score(y_valid, y_valid_predict) \n",
    "\n",
    "print(f'Model Accuracy: {fe_rsquared_acc}')"
   ]
  },
  {
   "cell_type": "code",
   "execution_count": null,
   "id": "d4ba8cd3-b2f5-4e0f-bbbb-a8b057095358",
   "metadata": {},
   "outputs": [],
   "source": [
    "# Initialize the Random Forest Regressor\n",
    "random_forest = RandomForestRegressor(n_estimators=100, random_state=42)\n",
    "\n",
    "# Train the model\n",
    "random_forest.fit(X_train_fe, y_train)\n"
   ]
  },
  {
   "cell_type": "code",
   "execution_count": null,
   "id": "177501db-c9fa-479f-96d9-387f48e52a61",
   "metadata": {},
   "outputs": [],
   "source": [
    "# Make predictions\n",
    "predictions = random_forest.predict(X_valid_fe)\n",
    "\n",
    "# Calculate Mean Squared Error\n",
    "rsquared_acc = r2_score(y_valid, predictions)"
   ]
  },
  {
   "cell_type": "code",
   "execution_count": null,
   "id": "7e5c1a15-44c9-463e-acc2-bf84e7694b9f",
   "metadata": {},
   "outputs": [],
   "source": [
    "print(round(rsquared_acc * 100, 2), '%')"
   ]
  },
  {
   "cell_type": "code",
   "execution_count": null,
   "id": "73ac90a6-7678-4202-bed4-c743cbebe748",
   "metadata": {
    "scrolled": true
   },
   "outputs": [],
   "source": []
  }
 ],
 "metadata": {
  "kernelspec": {
   "display_name": "Python 3 (ipykernel)",
   "language": "python",
   "name": "python3"
  },
  "language_info": {
   "codemirror_mode": {
    "name": "ipython",
    "version": 3
   },
   "file_extension": ".py",
   "mimetype": "text/x-python",
   "name": "python",
   "nbconvert_exporter": "python",
   "pygments_lexer": "ipython3",
   "version": "3.11.3"
  }
 },
 "nbformat": 4,
 "nbformat_minor": 5
}
