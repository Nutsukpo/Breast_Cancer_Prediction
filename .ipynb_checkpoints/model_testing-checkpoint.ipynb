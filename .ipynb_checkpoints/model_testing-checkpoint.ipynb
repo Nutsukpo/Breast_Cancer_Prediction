{
 "cells": [
  {
   "cell_type": "markdown",
   "id": "d08aaddd-d129-45b0-9938-753e1b863b88",
   "metadata": {},
   "source": [
    "## Import libraries"
   ]
  },
  {
   "cell_type": "code",
   "execution_count": 1,
   "id": "7362accb-2e29-4d25-bb48-270cf195fee0",
   "metadata": {},
   "outputs": [],
   "source": [
    "import numpy as np\n",
    "import pandas as pd \n",
    "import pickle"
   ]
  },
  {
   "cell_type": "markdown",
   "id": "ce43280c-1e20-4ff1-9b81-9229a435abc3",
   "metadata": {},
   "source": [
    "## Loading The Model"
   ]
  },
  {
   "cell_type": "code",
   "execution_count": 2,
   "id": "e735da87-31c3-4fa6-91ad-927f81055735",
   "metadata": {},
   "outputs": [],
   "source": [
    "with open('breast-cancer-model.bin', 'rb') as f_in:\n",
    "    dv, model = pickle.load(f_in)"
   ]
  },
  {
   "cell_type": "code",
   "execution_count": 3,
   "id": "36af4efe-02ec-4673-82a0-ba697b547975",
   "metadata": {},
   "outputs": [],
   "source": [
    "## patient Data here\n",
    "patient = {\n",
    " 's/n': 0,\n",
    " 'year': 2019,\n",
    " 'age': 40,\n",
    " 'menopause': 0,\n",
    " 'tumor_size': 10.0,\n",
    " 'inv_nodes': 0.0,\n",
    " 'breast': 'Right',    \n",
    " 'metastasis': 0,\n",
    " 'breast_quadrant': 'Upper inner',\n",
    " 'history': 1,\n",
    "}"
   ]
  },
  {
   "cell_type": "code",
   "execution_count": 4,
   "id": "71db2669-6d8b-4c1d-a4e9-cd9501cacc2f",
   "metadata": {},
   "outputs": [],
   "source": [
    "def predict_single(df, dv, model):\n",
    "    X = dv.transform([patient])\n",
    "    y_pred = model.predict_proba(X)[:,1]\n",
    "    return y_pred[0]"
   ]
  },
  {
   "cell_type": "code",
   "execution_count": 5,
   "id": "7697ad16-752a-4674-960c-9aa090d3db6c",
   "metadata": {},
   "outputs": [],
   "source": [
    "prediction = predict_single(patient, dv, model)"
   ]
  },
  {
   "cell_type": "code",
   "execution_count": 6,
   "id": "f9ef23e5-76ec-4511-9206-d096fff770bd",
   "metadata": {},
   "outputs": [
    {
     "name": "stdout",
     "output_type": "stream",
     "text": [
      "0.9262795653060095\n"
     ]
    }
   ],
   "source": [
    "print(f'{prediction}')"
   ]
  },
  {
   "cell_type": "code",
   "execution_count": 7,
   "id": "0e4fa150-7adf-4659-8510-83db5ff81b96",
   "metadata": {},
   "outputs": [
    {
     "name": "stdout",
     "output_type": "stream",
     "text": [
      "verdict: Positive\n"
     ]
    }
   ],
   "source": [
    "if prediction >= 0.5:\n",
    "    print('verdict: Positive')\n",
    "else:\n",
    "    print('verdict: Nagative')"
   ]
  },
  {
   "cell_type": "code",
   "execution_count": null,
   "id": "1f9be393-e231-414c-839d-69e54269185c",
   "metadata": {},
   "outputs": [],
   "source": []
  }
 ],
 "metadata": {
  "kernelspec": {
   "display_name": "Python 3 (ipykernel)",
   "language": "python",
   "name": "python3"
  },
  "language_info": {
   "codemirror_mode": {
    "name": "ipython",
    "version": 3
   },
   "file_extension": ".py",
   "mimetype": "text/x-python",
   "name": "python",
   "nbconvert_exporter": "python",
   "pygments_lexer": "ipython3",
   "version": "3.11.3"
  }
 },
 "nbformat": 4,
 "nbformat_minor": 5
}
