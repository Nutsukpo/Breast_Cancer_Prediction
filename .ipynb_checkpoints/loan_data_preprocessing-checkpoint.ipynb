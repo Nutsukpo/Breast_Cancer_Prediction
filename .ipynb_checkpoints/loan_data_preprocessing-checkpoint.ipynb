{
 "cells": [
  {
   "cell_type": "markdown",
   "id": "d08aaddd-d129-45b0-9938-753e1b863b88",
   "metadata": {},
   "source": [
    "## Import libraries"
   ]
  },
  {
   "cell_type": "code",
   "execution_count": 1,
   "id": "7362accb-2e29-4d25-bb48-270cf195fee0",
   "metadata": {},
   "outputs": [],
   "source": [
    "import numpy as np\n",
    "import pandas as pd "
   ]
  },
  {
   "cell_type": "markdown",
   "id": "5385a9cf-521c-4fd2-aefe-0de23cec5cd2",
   "metadata": {},
   "source": [
    "## Loading Dataset"
   ]
  },
  {
   "cell_type": "code",
   "execution_count": 2,
   "id": "37478b3d-7de6-4f85-958e-e03c86fec84d",
   "metadata": {},
   "outputs": [],
   "source": [
    "data = pd.read_csv(\"Dataset/loan_data.csv\")\n",
    "## \n",
    "df = data.copy()"
   ]
  },
  {
   "cell_type": "markdown",
   "id": "66b267d2-b761-4a5c-95b7-96d796279758",
   "metadata": {},
   "source": [
    "## Data Preprocessing\n",
    "- Normalize the column names to lower case\n",
    "- Drop the ID column\n",
    "- Remove the (+) sign on the Dependants column\n",
    "- Fill the NaN in the (Dependants, Credit_History, Loan_Amount, Gender, Self_Employed) columns\n",
    "- Change the dtypes for (Gender, Married, Self_Employed) to categorical\n",
    "- Replace categorical column(Gender, Married, Self_Employed and Loan-Status) with integers\n"
   ]
  },
  {
   "cell_type": "code",
   "execution_count": 3,
   "id": "aaf32fd5-fca9-4c99-bc0a-2101331afdf9",
   "metadata": {},
   "outputs": [
    {
     "data": {
      "text/plain": [
       "Index(['loan_id', 'gender', 'married', 'dependents', 'education',\n",
       "       'self_employed', 'applicantincome', 'coapplicantincome', 'loanamount',\n",
       "       'loan_amount_term', 'credit_history', 'property_area', 'loan_status'],\n",
       "      dtype='object')"
      ]
     },
     "execution_count": 3,
     "metadata": {},
     "output_type": "execute_result"
    }
   ],
   "source": [
    "df.columns = df.columns.str.lower()\n",
    "df.columns"
   ]
  },
  {
   "cell_type": "code",
   "execution_count": 4,
   "id": "148fbcee-3933-48d6-a4b2-ec9c23f4eb88",
   "metadata": {},
   "outputs": [],
   "source": [
    "df = df.drop(['loan_id'], axis=1)"
   ]
  },
  {
   "cell_type": "code",
   "execution_count": 5,
   "id": "be4ed422-4f75-4774-875e-c60b420bde20",
   "metadata": {},
   "outputs": [],
   "source": [
    "## remove + from the dependents column\n",
    "df['dependents'] = df['dependents'].str.replace('+', '')"
   ]
  },
  {
   "cell_type": "code",
   "execution_count": 6,
   "id": "48029c92-d7a4-43c2-b2b7-e1ceba9c292f",
   "metadata": {},
   "outputs": [],
   "source": [
    "## convert the dependents column type to float\n",
    "df['dependents'] = df['dependents'].astype('float')"
   ]
  },
  {
   "cell_type": "code",
   "execution_count": 7,
   "id": "1f71754c-c9cc-4dd0-810c-5481e0bc3ec0",
   "metadata": {},
   "outputs": [
    {
     "data": {
      "text/plain": [
       "8"
      ]
     },
     "execution_count": 7,
     "metadata": {},
     "output_type": "execute_result"
    }
   ],
   "source": [
    "df['dependents'].isnull().sum()"
   ]
  },
  {
   "cell_type": "code",
   "execution_count": 8,
   "id": "ac44c630-9187-4bf7-b182-6be64b870cbf",
   "metadata": {},
   "outputs": [],
   "source": [
    "## fill the null values in the dependents column\n",
    "df['dependents'] = df['dependents'].fillna(df['dependents'].mean())"
   ]
  },
  {
   "cell_type": "code",
   "execution_count": 9,
   "id": "2a345508-3d38-4068-975f-087d53d38a9f",
   "metadata": {},
   "outputs": [],
   "source": [
    "## fill the null values in the credit_history column\n",
    "df['credit_history'] = df['credit_history'].fillna(df['credit_history'].mean())"
   ]
  },
  {
   "cell_type": "code",
   "execution_count": 10,
   "id": "4b3e54b2-8cc2-4622-bfac-09be4ca5f9c4",
   "metadata": {},
   "outputs": [],
   "source": [
    "## fill the null values in the loan_amount_term column\n",
    "df['loan_amount_term'] = df['loan_amount_term'].fillna(df['loan_amount_term'].mean())"
   ]
  },
  {
   "cell_type": "code",
   "execution_count": 11,
   "id": "3baf8ceb-1d88-4861-8c21-40f4bde1443a",
   "metadata": {},
   "outputs": [],
   "source": [
    "## convert the dependents column type to integers\n",
    "df['dependents'] = df['dependents'].astype('int64')"
   ]
  },
  {
   "cell_type": "code",
   "execution_count": 12,
   "id": "47045f8c-9dd7-4cd8-b3b3-f79c8b7077a0",
   "metadata": {},
   "outputs": [],
   "source": [
    "## convert the loan_amount_term column type to integer\n",
    "df['loan_amount_term'] = df['loan_amount_term'].astype('int64')"
   ]
  },
  {
   "cell_type": "code",
   "execution_count": 13,
   "id": "0151243f-fb86-4ad6-bd8a-e5d50cfb172f",
   "metadata": {},
   "outputs": [],
   "source": [
    "## convert the applicantincome column type to float\n",
    "df['applicantincome'] = df['applicantincome'].astype('float')"
   ]
  },
  {
   "cell_type": "code",
   "execution_count": 14,
   "id": "f7b09120-47b4-4beb-b400-3513979e9341",
   "metadata": {},
   "outputs": [],
   "source": [
    "## convert the credit history column type to integer\n",
    "df['credit_history'] = df['credit_history'].astype('int64')"
   ]
  },
  {
   "cell_type": "code",
   "execution_count": 15,
   "id": "a251378c-e810-4ce1-9a54-a919e2156ece",
   "metadata": {},
   "outputs": [],
   "source": [
    "## convert the gender column type to category\n",
    "df['gender'] = df['gender'].astype('category')"
   ]
  },
  {
   "cell_type": "code",
   "execution_count": 16,
   "id": "02175946-dc90-4f3d-8962-ab63ded04003",
   "metadata": {},
   "outputs": [],
   "source": [
    "## convert the astype of the gender from category to integer\n",
    "df.gender = (df.gender == 'Male').astype(int)"
   ]
  },
  {
   "cell_type": "code",
   "execution_count": 17,
   "id": "6f3ad847-967c-4437-b9c0-d9db092dbab1",
   "metadata": {},
   "outputs": [],
   "source": [
    "## convert the married column type to category\n",
    "df['married'] = df['married'].astype('category')"
   ]
  },
  {
   "cell_type": "code",
   "execution_count": 18,
   "id": "8747d3b6-4af8-42a5-bbd0-d8aefceeb24d",
   "metadata": {},
   "outputs": [],
   "source": [
    "## convert the astype of the married from category to integer\n",
    "df.married = (df.married == 'Yes').astype(int)"
   ]
  },
  {
   "cell_type": "code",
   "execution_count": 19,
   "id": "4ad72fcb-21f0-4784-a806-f5dc903ed5a9",
   "metadata": {},
   "outputs": [],
   "source": [
    "## convert the self employed column type to category\n",
    "df['self_employed'] = df['self_employed'].astype('category')"
   ]
  },
  {
   "cell_type": "code",
   "execution_count": 20,
   "id": "ee595447-3fce-4137-8511-62f0e1fb977b",
   "metadata": {},
   "outputs": [],
   "source": [
    "## convert the astype of the self employed from category to integer\n",
    "df.self_employed = (df.self_employed == 'No').astype(int)"
   ]
  },
  {
   "cell_type": "code",
   "execution_count": 21,
   "id": "5e4a1a73-ae35-4c86-9417-fe7950f7142f",
   "metadata": {},
   "outputs": [
    {
     "data": {
      "text/plain": [
       "gender\n",
       "1    291\n",
       "0     90\n",
       "Name: count, dtype: int64"
      ]
     },
     "execution_count": 21,
     "metadata": {},
     "output_type": "execute_result"
    }
   ],
   "source": [
    "## target variable \n",
    "df.gender.value_counts()"
   ]
  },
  {
   "cell_type": "code",
   "execution_count": 22,
   "id": "6f2f6bc4-a15f-4409-96d6-2ffbf2edc5ef",
   "metadata": {},
   "outputs": [],
   "source": [
    "## fill the missing value of the gender column to Male\n",
    "df.gender = df.gender.fillna(\"Male\")"
   ]
  },
  {
   "cell_type": "code",
   "execution_count": 23,
   "id": "cf2ade5a-08fe-4505-8be5-c082ef4e1c9f",
   "metadata": {},
   "outputs": [
    {
     "data": {
      "text/plain": [
       "self_employed\n",
       "1    325\n",
       "0     56\n",
       "Name: count, dtype: int64"
      ]
     },
     "execution_count": 23,
     "metadata": {},
     "output_type": "execute_result"
    }
   ],
   "source": [
    "df.self_employed.value_counts()"
   ]
  },
  {
   "cell_type": "code",
   "execution_count": 24,
   "id": "62d73fc2-d863-4603-ac38-d016cc050ce3",
   "metadata": {},
   "outputs": [],
   "source": [
    "## fill the missing value of the self employed column to No\n",
    "df.self_employed = df.self_employed.fillna(\"No\")"
   ]
  },
  {
   "cell_type": "code",
   "execution_count": 25,
   "id": "d53b7aa0-4d31-45a8-9b83-cb4c6a82c0d1",
   "metadata": {},
   "outputs": [
    {
     "data": {
      "text/plain": [
       "gender               0\n",
       "married              0\n",
       "dependents           0\n",
       "education            0\n",
       "self_employed        0\n",
       "applicantincome      0\n",
       "coapplicantincome    0\n",
       "loanamount           0\n",
       "loan_amount_term     0\n",
       "credit_history       0\n",
       "property_area        0\n",
       "loan_status          0\n",
       "dtype: int64"
      ]
     },
     "execution_count": 25,
     "metadata": {},
     "output_type": "execute_result"
    }
   ],
   "source": [
    "## confirming the null values\n",
    "df.isnull().sum()"
   ]
  },
  {
   "cell_type": "code",
   "execution_count": 26,
   "id": "caa5c18b-cd64-4fa2-bad4-80288595a3b3",
   "metadata": {},
   "outputs": [
    {
     "data": {
      "text/plain": [
       "gender                 int32\n",
       "married                int32\n",
       "dependents             int64\n",
       "education             object\n",
       "self_employed          int32\n",
       "applicantincome      float64\n",
       "coapplicantincome    float64\n",
       "loanamount           float64\n",
       "loan_amount_term       int64\n",
       "credit_history         int64\n",
       "property_area         object\n",
       "loan_status           object\n",
       "dtype: object"
      ]
     },
     "execution_count": 26,
     "metadata": {},
     "output_type": "execute_result"
    }
   ],
   "source": [
    "## confirming the dtypes\n",
    "df.dtypes"
   ]
  },
  {
   "cell_type": "code",
   "execution_count": 27,
   "id": "53ff2387-f1ad-4761-b325-7fcc2689e364",
   "metadata": {},
   "outputs": [
    {
     "data": {
      "text/plain": [
       "0    N\n",
       "1    Y\n",
       "2    Y\n",
       "3    Y\n",
       "4    Y\n",
       "Name: loan_status, dtype: object"
      ]
     },
     "execution_count": 27,
     "metadata": {},
     "output_type": "execute_result"
    }
   ],
   "source": [
    "df.loan_status.head()"
   ]
  },
  {
   "cell_type": "code",
   "execution_count": 28,
   "id": "2eff78dd-2345-4f1b-801f-e47906a8cbbd",
   "metadata": {},
   "outputs": [],
   "source": [
    "## convert the astype of the loan status from category to integer\n",
    "df.loan_status = (df.loan_status == 'N').astype(int)"
   ]
  },
  {
   "cell_type": "code",
   "execution_count": 29,
   "id": "a64e6afa-11c0-49c7-b59f-094265e783ee",
   "metadata": {},
   "outputs": [
    {
     "data": {
      "text/plain": [
       "0    1\n",
       "1    0\n",
       "2    0\n",
       "3    0\n",
       "4    0\n",
       "Name: loan_status, dtype: int32"
      ]
     },
     "execution_count": 29,
     "metadata": {},
     "output_type": "execute_result"
    }
   ],
   "source": [
    "df.loan_status.head()"
   ]
  },
  {
   "cell_type": "code",
   "execution_count": 30,
   "id": "f50deb81-5806-4df5-9a9d-0b7efda45a93",
   "metadata": {},
   "outputs": [
    {
     "data": {
      "text/html": [
       "<div>\n",
       "<style scoped>\n",
       "    .dataframe tbody tr th:only-of-type {\n",
       "        vertical-align: middle;\n",
       "    }\n",
       "\n",
       "    .dataframe tbody tr th {\n",
       "        vertical-align: top;\n",
       "    }\n",
       "\n",
       "    .dataframe thead th {\n",
       "        text-align: right;\n",
       "    }\n",
       "</style>\n",
       "<table border=\"1\" class=\"dataframe\">\n",
       "  <thead>\n",
       "    <tr style=\"text-align: right;\">\n",
       "      <th></th>\n",
       "      <th>gender</th>\n",
       "      <th>married</th>\n",
       "      <th>dependents</th>\n",
       "      <th>education</th>\n",
       "      <th>self_employed</th>\n",
       "      <th>applicantincome</th>\n",
       "      <th>coapplicantincome</th>\n",
       "      <th>loanamount</th>\n",
       "      <th>loan_amount_term</th>\n",
       "      <th>credit_history</th>\n",
       "      <th>property_area</th>\n",
       "      <th>loan_status</th>\n",
       "    </tr>\n",
       "  </thead>\n",
       "  <tbody>\n",
       "    <tr>\n",
       "      <th>0</th>\n",
       "      <td>1</td>\n",
       "      <td>1</td>\n",
       "      <td>1</td>\n",
       "      <td>Graduate</td>\n",
       "      <td>1</td>\n",
       "      <td>4583.0</td>\n",
       "      <td>1508.0</td>\n",
       "      <td>128.0</td>\n",
       "      <td>360</td>\n",
       "      <td>1</td>\n",
       "      <td>Rural</td>\n",
       "      <td>1</td>\n",
       "    </tr>\n",
       "    <tr>\n",
       "      <th>1</th>\n",
       "      <td>1</td>\n",
       "      <td>1</td>\n",
       "      <td>0</td>\n",
       "      <td>Graduate</td>\n",
       "      <td>0</td>\n",
       "      <td>3000.0</td>\n",
       "      <td>0.0</td>\n",
       "      <td>66.0</td>\n",
       "      <td>360</td>\n",
       "      <td>1</td>\n",
       "      <td>Urban</td>\n",
       "      <td>0</td>\n",
       "    </tr>\n",
       "    <tr>\n",
       "      <th>2</th>\n",
       "      <td>1</td>\n",
       "      <td>1</td>\n",
       "      <td>0</td>\n",
       "      <td>Not Graduate</td>\n",
       "      <td>1</td>\n",
       "      <td>2583.0</td>\n",
       "      <td>2358.0</td>\n",
       "      <td>120.0</td>\n",
       "      <td>360</td>\n",
       "      <td>1</td>\n",
       "      <td>Urban</td>\n",
       "      <td>0</td>\n",
       "    </tr>\n",
       "    <tr>\n",
       "      <th>3</th>\n",
       "      <td>1</td>\n",
       "      <td>0</td>\n",
       "      <td>0</td>\n",
       "      <td>Graduate</td>\n",
       "      <td>1</td>\n",
       "      <td>6000.0</td>\n",
       "      <td>0.0</td>\n",
       "      <td>141.0</td>\n",
       "      <td>360</td>\n",
       "      <td>1</td>\n",
       "      <td>Urban</td>\n",
       "      <td>0</td>\n",
       "    </tr>\n",
       "    <tr>\n",
       "      <th>4</th>\n",
       "      <td>1</td>\n",
       "      <td>1</td>\n",
       "      <td>0</td>\n",
       "      <td>Not Graduate</td>\n",
       "      <td>1</td>\n",
       "      <td>2333.0</td>\n",
       "      <td>1516.0</td>\n",
       "      <td>95.0</td>\n",
       "      <td>360</td>\n",
       "      <td>1</td>\n",
       "      <td>Urban</td>\n",
       "      <td>0</td>\n",
       "    </tr>\n",
       "  </tbody>\n",
       "</table>\n",
       "</div>"
      ],
      "text/plain": [
       "   gender  married  dependents     education  self_employed  applicantincome  \\\n",
       "0       1        1           1      Graduate              1           4583.0   \n",
       "1       1        1           0      Graduate              0           3000.0   \n",
       "2       1        1           0  Not Graduate              1           2583.0   \n",
       "3       1        0           0      Graduate              1           6000.0   \n",
       "4       1        1           0  Not Graduate              1           2333.0   \n",
       "\n",
       "   coapplicantincome  loanamount  loan_amount_term  credit_history  \\\n",
       "0             1508.0       128.0               360               1   \n",
       "1                0.0        66.0               360               1   \n",
       "2             2358.0       120.0               360               1   \n",
       "3                0.0       141.0               360               1   \n",
       "4             1516.0        95.0               360               1   \n",
       "\n",
       "  property_area  loan_status  \n",
       "0         Rural            1  \n",
       "1         Urban            0  \n",
       "2         Urban            0  \n",
       "3         Urban            0  \n",
       "4         Urban            0  "
      ]
     },
     "execution_count": 30,
     "metadata": {},
     "output_type": "execute_result"
    }
   ],
   "source": [
    "df.head()"
   ]
  },
  {
   "cell_type": "code",
   "execution_count": 31,
   "id": "5b088fde-450f-4591-a4f5-6cedbb727af6",
   "metadata": {},
   "outputs": [],
   "source": [
    "## saving the cleaned loan dataset\n",
    "df.to_csv(\"Dataset/cleaned_loan_status_dataset.csv\")"
   ]
  }
 ],
 "metadata": {
  "kernelspec": {
   "display_name": "Python 3 (ipykernel)",
   "language": "python",
   "name": "python3"
  },
  "language_info": {
   "codemirror_mode": {
    "name": "ipython",
    "version": 3
   },
   "file_extension": ".py",
   "mimetype": "text/x-python",
   "name": "python",
   "nbconvert_exporter": "python",
   "pygments_lexer": "ipython3",
   "version": "3.11.3"
  }
 },
 "nbformat": 4,
 "nbformat_minor": 5
}
