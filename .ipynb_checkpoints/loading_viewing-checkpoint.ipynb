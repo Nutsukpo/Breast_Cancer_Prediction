{
 "cells": [
  {
   "cell_type": "markdown",
   "id": "d08aaddd-d129-45b0-9938-753e1b863b88",
   "metadata": {},
   "source": [
    "## Import libraries"
   ]
  },
  {
   "cell_type": "code",
   "execution_count": 1,
   "id": "7362accb-2e29-4d25-bb48-270cf195fee0",
   "metadata": {},
   "outputs": [],
   "source": [
    "import numpy as np\n",
    "import pandas as pd "
   ]
  },
  {
   "cell_type": "markdown",
   "id": "5385a9cf-521c-4fd2-aefe-0de23cec5cd2",
   "metadata": {},
   "source": [
    "## Loading and Overviewing of Dataset"
   ]
  },
  {
   "cell_type": "code",
   "execution_count": 2,
   "id": "37478b3d-7de6-4f85-958e-e03c86fec84d",
   "metadata": {},
   "outputs": [],
   "source": [
    "data = pd.read_csv(\"Dataset/breast-cancer-dataset.csv\")\n",
    "## \n",
    "df = data.copy()"
   ]
  },
  {
   "cell_type": "code",
   "execution_count": 3,
   "id": "8c06b244-7423-4d30-b7e2-ffa33d6a6eb9",
   "metadata": {},
   "outputs": [
    {
     "data": {
      "text/html": [
       "<div>\n",
       "<style scoped>\n",
       "    .dataframe tbody tr th:only-of-type {\n",
       "        vertical-align: middle;\n",
       "    }\n",
       "\n",
       "    .dataframe tbody tr th {\n",
       "        vertical-align: top;\n",
       "    }\n",
       "\n",
       "    .dataframe thead th {\n",
       "        text-align: right;\n",
       "    }\n",
       "</style>\n",
       "<table border=\"1\" class=\"dataframe\">\n",
       "  <thead>\n",
       "    <tr style=\"text-align: right;\">\n",
       "      <th></th>\n",
       "      <th>S/N</th>\n",
       "      <th>Year</th>\n",
       "      <th>Age</th>\n",
       "      <th>Menopause</th>\n",
       "      <th>Tumor Size (cm)</th>\n",
       "      <th>Inv-Nodes</th>\n",
       "      <th>Breast</th>\n",
       "      <th>Metastasis</th>\n",
       "      <th>Breast Quadrant</th>\n",
       "      <th>History</th>\n",
       "      <th>Diagnosis Result</th>\n",
       "    </tr>\n",
       "  </thead>\n",
       "  <tbody>\n",
       "    <tr>\n",
       "      <th>0</th>\n",
       "      <td>1</td>\n",
       "      <td>2019</td>\n",
       "      <td>40</td>\n",
       "      <td>1</td>\n",
       "      <td>2</td>\n",
       "      <td>0</td>\n",
       "      <td>Right</td>\n",
       "      <td>0</td>\n",
       "      <td>Upper inner</td>\n",
       "      <td>0</td>\n",
       "      <td>Benign</td>\n",
       "    </tr>\n",
       "    <tr>\n",
       "      <th>1</th>\n",
       "      <td>2</td>\n",
       "      <td>2019</td>\n",
       "      <td>39</td>\n",
       "      <td>1</td>\n",
       "      <td>2</td>\n",
       "      <td>0</td>\n",
       "      <td>Left</td>\n",
       "      <td>0</td>\n",
       "      <td>Upper outer</td>\n",
       "      <td>0</td>\n",
       "      <td>Benign</td>\n",
       "    </tr>\n",
       "    <tr>\n",
       "      <th>2</th>\n",
       "      <td>3</td>\n",
       "      <td>2019</td>\n",
       "      <td>45</td>\n",
       "      <td>0</td>\n",
       "      <td>4</td>\n",
       "      <td>0</td>\n",
       "      <td>Left</td>\n",
       "      <td>0</td>\n",
       "      <td>Lower outer</td>\n",
       "      <td>0</td>\n",
       "      <td>Benign</td>\n",
       "    </tr>\n",
       "    <tr>\n",
       "      <th>3</th>\n",
       "      <td>4</td>\n",
       "      <td>2019</td>\n",
       "      <td>26</td>\n",
       "      <td>1</td>\n",
       "      <td>3</td>\n",
       "      <td>0</td>\n",
       "      <td>Left</td>\n",
       "      <td>0</td>\n",
       "      <td>Lower inner</td>\n",
       "      <td>1</td>\n",
       "      <td>Benign</td>\n",
       "    </tr>\n",
       "    <tr>\n",
       "      <th>4</th>\n",
       "      <td>5</td>\n",
       "      <td>2019</td>\n",
       "      <td>21</td>\n",
       "      <td>1</td>\n",
       "      <td>1</td>\n",
       "      <td>0</td>\n",
       "      <td>Right</td>\n",
       "      <td>0</td>\n",
       "      <td>Upper outer</td>\n",
       "      <td>1</td>\n",
       "      <td>Benign</td>\n",
       "    </tr>\n",
       "  </tbody>\n",
       "</table>\n",
       "</div>"
      ],
      "text/plain": [
       "   S/N  Year  Age  Menopause Tumor Size (cm) Inv-Nodes Breast Metastasis  \\\n",
       "0    1  2019   40          1               2         0  Right          0   \n",
       "1    2  2019   39          1               2         0   Left          0   \n",
       "2    3  2019   45          0               4         0   Left          0   \n",
       "3    4  2019   26          1               3         0   Left          0   \n",
       "4    5  2019   21          1               1         0  Right          0   \n",
       "\n",
       "  Breast Quadrant History Diagnosis Result  \n",
       "0     Upper inner       0           Benign  \n",
       "1     Upper outer       0           Benign  \n",
       "2     Lower outer       0           Benign  \n",
       "3     Lower inner       1           Benign  \n",
       "4     Upper outer       1           Benign  "
      ]
     },
     "execution_count": 3,
     "metadata": {},
     "output_type": "execute_result"
    }
   ],
   "source": [
    "df.head()"
   ]
  },
  {
   "cell_type": "code",
   "execution_count": 4,
   "id": "6b55541a-0591-44a5-a4d6-9501d906c109",
   "metadata": {},
   "outputs": [
    {
     "data": {
      "text/html": [
       "<div>\n",
       "<style scoped>\n",
       "    .dataframe tbody tr th:only-of-type {\n",
       "        vertical-align: middle;\n",
       "    }\n",
       "\n",
       "    .dataframe tbody tr th {\n",
       "        vertical-align: top;\n",
       "    }\n",
       "\n",
       "    .dataframe thead th {\n",
       "        text-align: right;\n",
       "    }\n",
       "</style>\n",
       "<table border=\"1\" class=\"dataframe\">\n",
       "  <thead>\n",
       "    <tr style=\"text-align: right;\">\n",
       "      <th></th>\n",
       "      <th>S/N</th>\n",
       "      <th>Year</th>\n",
       "      <th>Age</th>\n",
       "      <th>Menopause</th>\n",
       "      <th>Tumor Size (cm)</th>\n",
       "      <th>Inv-Nodes</th>\n",
       "      <th>Breast</th>\n",
       "      <th>Metastasis</th>\n",
       "      <th>Breast Quadrant</th>\n",
       "      <th>History</th>\n",
       "      <th>Diagnosis Result</th>\n",
       "    </tr>\n",
       "  </thead>\n",
       "  <tbody>\n",
       "    <tr>\n",
       "      <th>208</th>\n",
       "      <td>209</td>\n",
       "      <td>2020</td>\n",
       "      <td>49</td>\n",
       "      <td>1</td>\n",
       "      <td>6</td>\n",
       "      <td>3</td>\n",
       "      <td>Right</td>\n",
       "      <td>1</td>\n",
       "      <td>Lower inner</td>\n",
       "      <td>1</td>\n",
       "      <td>Malignant</td>\n",
       "    </tr>\n",
       "    <tr>\n",
       "      <th>209</th>\n",
       "      <td>210</td>\n",
       "      <td>2020</td>\n",
       "      <td>28</td>\n",
       "      <td>1</td>\n",
       "      <td>3</td>\n",
       "      <td>0</td>\n",
       "      <td>Left</td>\n",
       "      <td>0</td>\n",
       "      <td>Upper inner</td>\n",
       "      <td>0</td>\n",
       "      <td>Benign</td>\n",
       "    </tr>\n",
       "    <tr>\n",
       "      <th>210</th>\n",
       "      <td>211</td>\n",
       "      <td>2020</td>\n",
       "      <td>22</td>\n",
       "      <td>1</td>\n",
       "      <td>1</td>\n",
       "      <td>0</td>\n",
       "      <td>Left</td>\n",
       "      <td>0</td>\n",
       "      <td>Upper outer</td>\n",
       "      <td>1</td>\n",
       "      <td>Benign</td>\n",
       "    </tr>\n",
       "    <tr>\n",
       "      <th>211</th>\n",
       "      <td>212</td>\n",
       "      <td>2020</td>\n",
       "      <td>19</td>\n",
       "      <td>1</td>\n",
       "      <td>1</td>\n",
       "      <td>0</td>\n",
       "      <td>Left</td>\n",
       "      <td>0</td>\n",
       "      <td>Lower inner</td>\n",
       "      <td>1</td>\n",
       "      <td>Benign</td>\n",
       "    </tr>\n",
       "    <tr>\n",
       "      <th>212</th>\n",
       "      <td>213</td>\n",
       "      <td>2020</td>\n",
       "      <td>50</td>\n",
       "      <td>0</td>\n",
       "      <td>4</td>\n",
       "      <td>0</td>\n",
       "      <td>Right</td>\n",
       "      <td>0</td>\n",
       "      <td>Lower outer</td>\n",
       "      <td>1</td>\n",
       "      <td>Benign</td>\n",
       "    </tr>\n",
       "  </tbody>\n",
       "</table>\n",
       "</div>"
      ],
      "text/plain": [
       "     S/N  Year  Age  Menopause Tumor Size (cm) Inv-Nodes Breast Metastasis  \\\n",
       "208  209  2020   49          1               6         3  Right          1   \n",
       "209  210  2020   28          1               3         0   Left          0   \n",
       "210  211  2020   22          1               1         0   Left          0   \n",
       "211  212  2020   19          1               1         0   Left          0   \n",
       "212  213  2020   50          0               4         0  Right          0   \n",
       "\n",
       "    Breast Quadrant History Diagnosis Result  \n",
       "208     Lower inner       1        Malignant  \n",
       "209     Upper inner       0           Benign  \n",
       "210     Upper outer       1           Benign  \n",
       "211     Lower inner       1           Benign  \n",
       "212     Lower outer       1           Benign  "
      ]
     },
     "execution_count": 4,
     "metadata": {},
     "output_type": "execute_result"
    }
   ],
   "source": [
    "df.tail()"
   ]
  },
  {
   "cell_type": "code",
   "execution_count": 5,
   "id": "521a9e65-03b7-41e0-87ef-a578fa92f2af",
   "metadata": {},
   "outputs": [
    {
     "name": "stdout",
     "output_type": "stream",
     "text": [
      "total number of rows: 213 => total number of columns: 11\n"
     ]
    }
   ],
   "source": [
    "print(f'total number of rows: {df.shape[0]} => total number of columns: {df.shape[1]}')"
   ]
  },
  {
   "cell_type": "code",
   "execution_count": 6,
   "id": "4fef0f44-c3e0-4e88-afaa-40a2b2d8d0c2",
   "metadata": {},
   "outputs": [
    {
     "name": "stdout",
     "output_type": "stream",
     "text": [
      "<class 'pandas.core.frame.DataFrame'>\n",
      "RangeIndex: 213 entries, 0 to 212\n",
      "Data columns (total 11 columns):\n",
      " #   Column            Non-Null Count  Dtype \n",
      "---  ------            --------------  ----- \n",
      " 0   S/N               213 non-null    int64 \n",
      " 1   Year              213 non-null    object\n",
      " 2   Age               213 non-null    int64 \n",
      " 3   Menopause         213 non-null    int64 \n",
      " 4   Tumor Size (cm)   213 non-null    object\n",
      " 5   Inv-Nodes         213 non-null    object\n",
      " 6   Breast            213 non-null    object\n",
      " 7   Metastasis        213 non-null    object\n",
      " 8   Breast Quadrant   213 non-null    object\n",
      " 9   History           213 non-null    object\n",
      " 10  Diagnosis Result  213 non-null    object\n",
      "dtypes: int64(3), object(8)\n",
      "memory usage: 18.4+ KB\n"
     ]
    }
   ],
   "source": [
    "df.info()"
   ]
  },
  {
   "cell_type": "code",
   "execution_count": 7,
   "id": "188240e0-9dbd-41a4-b19c-36d13a2f4b59",
   "metadata": {},
   "outputs": [
    {
     "data": {
      "text/plain": [
       "S/N                  int64\n",
       "Year                object\n",
       "Age                  int64\n",
       "Menopause            int64\n",
       "Tumor Size (cm)     object\n",
       "Inv-Nodes           object\n",
       "Breast              object\n",
       "Metastasis          object\n",
       "Breast Quadrant     object\n",
       "History             object\n",
       "Diagnosis Result    object\n",
       "dtype: object"
      ]
     },
     "execution_count": 7,
     "metadata": {},
     "output_type": "execute_result"
    }
   ],
   "source": [
    "df.dtypes"
   ]
  },
  {
   "cell_type": "code",
   "execution_count": 8,
   "id": "f62cec02-361c-48b0-97c4-e5107a371b0f",
   "metadata": {},
   "outputs": [
    {
     "data": {
      "text/plain": [
       "S/N                 0\n",
       "Year                0\n",
       "Age                 0\n",
       "Menopause           0\n",
       "Tumor Size (cm)     0\n",
       "Inv-Nodes           0\n",
       "Breast              0\n",
       "Metastasis          0\n",
       "Breast Quadrant     0\n",
       "History             0\n",
       "Diagnosis Result    0\n",
       "dtype: int64"
      ]
     },
     "execution_count": 8,
     "metadata": {},
     "output_type": "execute_result"
    }
   ],
   "source": [
    "df.isnull().sum()"
   ]
  },
  {
   "cell_type": "code",
   "execution_count": 9,
   "id": "af086a0a-612e-4d93-8dc1-76654e265a3a",
   "metadata": {},
   "outputs": [
    {
     "name": "stdout",
     "output_type": "stream",
     "text": [
      "[  1   2   3   4   5   6   7   8   9  10  11  12  13  14  15  16  17  18\n",
      "  19  20  21  22  23  24  25  26  27  28  29  30  31  32  33  34  35  36\n",
      "  37  38  39  40  41  42  43  44  45  46  47  48  49  50  51  52  53  54\n",
      "  55  56  57  58  59  60  61  62  63  64  65  66  67  68  69  70  71  72\n",
      "  73  74  75  76  77  78  79  80  81  82  83  84  85  86  87  88  89  90\n",
      "  91  92  93  94  95  96  97  98  99 100 101 102 103 104 105 106 107 108\n",
      " 109 110 111 112 113 114 115 116 117 118 119 120 121 122 123 124 125 126\n",
      " 127 128 129 130 131 132 133 134 135 136 137 138 139 140 141 142 143 144\n",
      " 145 146 147 148 149 150 151 152 153 154 155 156 157 158 159 160 161 162\n",
      " 163 164 165 166 167 168 169 170 171 172 173 174 175 176 177 178 179 180\n",
      " 181 182 183 184 185 186 187 188 189 190 191 192 193 194 195 196 197 198\n",
      " 199 200 201 202 203 204 205 206 207 208 209 210 211 212 213]\n",
      "['2019' '#' '2020']\n",
      "[40 39 45 26 21 50 58 35 42 41 43 30 33 38 60 47 57 34 31 36 56 48 61 20\n",
      " 37 27 25 17 23 59 67 46 24 49 53 28 68 64 18 14 15 54 71 55 22 65 19 52\n",
      " 51 44 63 29 32 62 69 13 16 77]\n",
      "[1 0]\n",
      "['2' '4' '3' '1' '5' '6' '7' '10' '8' '9' '#' '14' '12']\n",
      "['0' '1' '#' '3']\n",
      "['Right' 'Left' '#']\n",
      "['0' '1' '#']\n",
      "['Upper inner' 'Upper outer' 'Lower outer' 'Lower inner' '#'\n",
      " 'Upper outer ']\n",
      "['0' '1' '#']\n",
      "['Benign' 'Malignant']\n"
     ]
    }
   ],
   "source": [
    "for col in df:\n",
    "  print(df[col].unique())"
   ]
  }
 ],
 "metadata": {
  "kernelspec": {
   "display_name": "Python 3 (ipykernel)",
   "language": "python",
   "name": "python3"
  },
  "language_info": {
   "codemirror_mode": {
    "name": "ipython",
    "version": 3
   },
   "file_extension": ".py",
   "mimetype": "text/x-python",
   "name": "python",
   "nbconvert_exporter": "python",
   "pygments_lexer": "ipython3",
   "version": "3.11.3"
  }
 },
 "nbformat": 4,
 "nbformat_minor": 5
}
