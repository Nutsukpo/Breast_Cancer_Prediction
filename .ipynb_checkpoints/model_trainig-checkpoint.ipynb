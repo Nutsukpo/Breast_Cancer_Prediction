{
 "cells": [
  {
   "cell_type": "markdown",
   "id": "d08aaddd-d129-45b0-9938-753e1b863b88",
   "metadata": {},
   "source": [
    "## Import libraries"
   ]
  },
  {
   "cell_type": "code",
   "execution_count": 1,
   "id": "7362accb-2e29-4d25-bb48-270cf195fee0",
   "metadata": {},
   "outputs": [],
   "source": [
    "import numpy as np\n",
    "import pandas as pd \n",
    "\n",
    "import matplotlib.pyplot as plt\n",
    "import seaborn as sns\n",
    "\n",
    "from sklearn.model_selection import train_test_split\n",
    "from sklearn.feature_extraction import DictVectorizer\n",
    "from sklearn.linear_model import LogisticRegression\n",
    "from sklearn.metrics import accuracy_score"
   ]
  },
  {
   "cell_type": "markdown",
   "id": "5385a9cf-521c-4fd2-aefe-0de23cec5cd2",
   "metadata": {},
   "source": [
    "## Loading and Overviewing of Dataset"
   ]
  },
  {
   "cell_type": "code",
   "execution_count": 2,
   "id": "37478b3d-7de6-4f85-958e-e03c86fec84d",
   "metadata": {},
   "outputs": [],
   "source": [
    "data = pd.read_csv(\"Dataset/breast-cancer-dataset.csv\")\n",
    "## \n",
    "df = data.copy()"
   ]
  },
  {
   "cell_type": "code",
   "execution_count": 3,
   "id": "8c06b244-7423-4d30-b7e2-ffa33d6a6eb9",
   "metadata": {},
   "outputs": [
    {
     "data": {
      "text/html": [
       "<div>\n",
       "<style scoped>\n",
       "    .dataframe tbody tr th:only-of-type {\n",
       "        vertical-align: middle;\n",
       "    }\n",
       "\n",
       "    .dataframe tbody tr th {\n",
       "        vertical-align: top;\n",
       "    }\n",
       "\n",
       "    .dataframe thead th {\n",
       "        text-align: right;\n",
       "    }\n",
       "</style>\n",
       "<table border=\"1\" class=\"dataframe\">\n",
       "  <thead>\n",
       "    <tr style=\"text-align: right;\">\n",
       "      <th></th>\n",
       "      <th>S/N</th>\n",
       "      <th>Year</th>\n",
       "      <th>Age</th>\n",
       "      <th>Menopause</th>\n",
       "      <th>Tumor Size (cm)</th>\n",
       "      <th>Inv-Nodes</th>\n",
       "      <th>Breast</th>\n",
       "      <th>Metastasis</th>\n",
       "      <th>Breast Quadrant</th>\n",
       "      <th>History</th>\n",
       "      <th>Diagnosis Result</th>\n",
       "    </tr>\n",
       "  </thead>\n",
       "  <tbody>\n",
       "    <tr>\n",
       "      <th>0</th>\n",
       "      <td>1</td>\n",
       "      <td>2019</td>\n",
       "      <td>40</td>\n",
       "      <td>1</td>\n",
       "      <td>2</td>\n",
       "      <td>0</td>\n",
       "      <td>Right</td>\n",
       "      <td>0</td>\n",
       "      <td>Upper inner</td>\n",
       "      <td>0</td>\n",
       "      <td>Benign</td>\n",
       "    </tr>\n",
       "    <tr>\n",
       "      <th>1</th>\n",
       "      <td>2</td>\n",
       "      <td>2019</td>\n",
       "      <td>39</td>\n",
       "      <td>1</td>\n",
       "      <td>2</td>\n",
       "      <td>0</td>\n",
       "      <td>Left</td>\n",
       "      <td>0</td>\n",
       "      <td>Upper outer</td>\n",
       "      <td>0</td>\n",
       "      <td>Benign</td>\n",
       "    </tr>\n",
       "    <tr>\n",
       "      <th>2</th>\n",
       "      <td>3</td>\n",
       "      <td>2019</td>\n",
       "      <td>45</td>\n",
       "      <td>0</td>\n",
       "      <td>4</td>\n",
       "      <td>0</td>\n",
       "      <td>Left</td>\n",
       "      <td>0</td>\n",
       "      <td>Lower outer</td>\n",
       "      <td>0</td>\n",
       "      <td>Benign</td>\n",
       "    </tr>\n",
       "    <tr>\n",
       "      <th>3</th>\n",
       "      <td>4</td>\n",
       "      <td>2019</td>\n",
       "      <td>26</td>\n",
       "      <td>1</td>\n",
       "      <td>3</td>\n",
       "      <td>0</td>\n",
       "      <td>Left</td>\n",
       "      <td>0</td>\n",
       "      <td>Lower inner</td>\n",
       "      <td>1</td>\n",
       "      <td>Benign</td>\n",
       "    </tr>\n",
       "    <tr>\n",
       "      <th>4</th>\n",
       "      <td>5</td>\n",
       "      <td>2019</td>\n",
       "      <td>21</td>\n",
       "      <td>1</td>\n",
       "      <td>1</td>\n",
       "      <td>0</td>\n",
       "      <td>Right</td>\n",
       "      <td>0</td>\n",
       "      <td>Upper outer</td>\n",
       "      <td>1</td>\n",
       "      <td>Benign</td>\n",
       "    </tr>\n",
       "  </tbody>\n",
       "</table>\n",
       "</div>"
      ],
      "text/plain": [
       "   S/N  Year  Age  Menopause Tumor Size (cm) Inv-Nodes Breast Metastasis  \\\n",
       "0    1  2019   40          1               2         0  Right          0   \n",
       "1    2  2019   39          1               2         0   Left          0   \n",
       "2    3  2019   45          0               4         0   Left          0   \n",
       "3    4  2019   26          1               3         0   Left          0   \n",
       "4    5  2019   21          1               1         0  Right          0   \n",
       "\n",
       "  Breast Quadrant History Diagnosis Result  \n",
       "0     Upper inner       0           Benign  \n",
       "1     Upper outer       0           Benign  \n",
       "2     Lower outer       0           Benign  \n",
       "3     Lower inner       1           Benign  \n",
       "4     Upper outer       1           Benign  "
      ]
     },
     "execution_count": 3,
     "metadata": {},
     "output_type": "execute_result"
    }
   ],
   "source": [
    "df.head()"
   ]
  },
  {
   "cell_type": "code",
   "execution_count": 4,
   "id": "6b55541a-0591-44a5-a4d6-9501d906c109",
   "metadata": {},
   "outputs": [
    {
     "data": {
      "text/html": [
       "<div>\n",
       "<style scoped>\n",
       "    .dataframe tbody tr th:only-of-type {\n",
       "        vertical-align: middle;\n",
       "    }\n",
       "\n",
       "    .dataframe tbody tr th {\n",
       "        vertical-align: top;\n",
       "    }\n",
       "\n",
       "    .dataframe thead th {\n",
       "        text-align: right;\n",
       "    }\n",
       "</style>\n",
       "<table border=\"1\" class=\"dataframe\">\n",
       "  <thead>\n",
       "    <tr style=\"text-align: right;\">\n",
       "      <th></th>\n",
       "      <th>S/N</th>\n",
       "      <th>Year</th>\n",
       "      <th>Age</th>\n",
       "      <th>Menopause</th>\n",
       "      <th>Tumor Size (cm)</th>\n",
       "      <th>Inv-Nodes</th>\n",
       "      <th>Breast</th>\n",
       "      <th>Metastasis</th>\n",
       "      <th>Breast Quadrant</th>\n",
       "      <th>History</th>\n",
       "      <th>Diagnosis Result</th>\n",
       "    </tr>\n",
       "  </thead>\n",
       "  <tbody>\n",
       "    <tr>\n",
       "      <th>208</th>\n",
       "      <td>209</td>\n",
       "      <td>2020</td>\n",
       "      <td>49</td>\n",
       "      <td>1</td>\n",
       "      <td>6</td>\n",
       "      <td>3</td>\n",
       "      <td>Right</td>\n",
       "      <td>1</td>\n",
       "      <td>Lower inner</td>\n",
       "      <td>1</td>\n",
       "      <td>Malignant</td>\n",
       "    </tr>\n",
       "    <tr>\n",
       "      <th>209</th>\n",
       "      <td>210</td>\n",
       "      <td>2020</td>\n",
       "      <td>28</td>\n",
       "      <td>1</td>\n",
       "      <td>3</td>\n",
       "      <td>0</td>\n",
       "      <td>Left</td>\n",
       "      <td>0</td>\n",
       "      <td>Upper inner</td>\n",
       "      <td>0</td>\n",
       "      <td>Benign</td>\n",
       "    </tr>\n",
       "    <tr>\n",
       "      <th>210</th>\n",
       "      <td>211</td>\n",
       "      <td>2020</td>\n",
       "      <td>22</td>\n",
       "      <td>1</td>\n",
       "      <td>1</td>\n",
       "      <td>0</td>\n",
       "      <td>Left</td>\n",
       "      <td>0</td>\n",
       "      <td>Upper outer</td>\n",
       "      <td>1</td>\n",
       "      <td>Benign</td>\n",
       "    </tr>\n",
       "    <tr>\n",
       "      <th>211</th>\n",
       "      <td>212</td>\n",
       "      <td>2020</td>\n",
       "      <td>19</td>\n",
       "      <td>1</td>\n",
       "      <td>1</td>\n",
       "      <td>0</td>\n",
       "      <td>Left</td>\n",
       "      <td>0</td>\n",
       "      <td>Lower inner</td>\n",
       "      <td>1</td>\n",
       "      <td>Benign</td>\n",
       "    </tr>\n",
       "    <tr>\n",
       "      <th>212</th>\n",
       "      <td>213</td>\n",
       "      <td>2020</td>\n",
       "      <td>50</td>\n",
       "      <td>0</td>\n",
       "      <td>4</td>\n",
       "      <td>0</td>\n",
       "      <td>Right</td>\n",
       "      <td>0</td>\n",
       "      <td>Lower outer</td>\n",
       "      <td>1</td>\n",
       "      <td>Benign</td>\n",
       "    </tr>\n",
       "  </tbody>\n",
       "</table>\n",
       "</div>"
      ],
      "text/plain": [
       "     S/N  Year  Age  Menopause Tumor Size (cm) Inv-Nodes Breast Metastasis  \\\n",
       "208  209  2020   49          1               6         3  Right          1   \n",
       "209  210  2020   28          1               3         0   Left          0   \n",
       "210  211  2020   22          1               1         0   Left          0   \n",
       "211  212  2020   19          1               1         0   Left          0   \n",
       "212  213  2020   50          0               4         0  Right          0   \n",
       "\n",
       "    Breast Quadrant History Diagnosis Result  \n",
       "208     Lower inner       1        Malignant  \n",
       "209     Upper inner       0           Benign  \n",
       "210     Upper outer       1           Benign  \n",
       "211     Lower inner       1           Benign  \n",
       "212     Lower outer       1           Benign  "
      ]
     },
     "execution_count": 4,
     "metadata": {},
     "output_type": "execute_result"
    }
   ],
   "source": [
    "df.tail()"
   ]
  },
  {
   "cell_type": "code",
   "execution_count": 5,
   "id": "521a9e65-03b7-41e0-87ef-a578fa92f2af",
   "metadata": {},
   "outputs": [
    {
     "name": "stdout",
     "output_type": "stream",
     "text": [
      "total number of rows: 213 => total number of columns: 11\n"
     ]
    }
   ],
   "source": [
    "print(f'total number of rows: {df.shape[0]} => total number of columns: {df.shape[1]}')"
   ]
  },
  {
   "cell_type": "code",
   "execution_count": 6,
   "id": "4fef0f44-c3e0-4e88-afaa-40a2b2d8d0c2",
   "metadata": {},
   "outputs": [
    {
     "name": "stdout",
     "output_type": "stream",
     "text": [
      "<class 'pandas.core.frame.DataFrame'>\n",
      "RangeIndex: 213 entries, 0 to 212\n",
      "Data columns (total 11 columns):\n",
      " #   Column            Non-Null Count  Dtype \n",
      "---  ------            --------------  ----- \n",
      " 0   S/N               213 non-null    int64 \n",
      " 1   Year              213 non-null    object\n",
      " 2   Age               213 non-null    int64 \n",
      " 3   Menopause         213 non-null    int64 \n",
      " 4   Tumor Size (cm)   213 non-null    object\n",
      " 5   Inv-Nodes         213 non-null    object\n",
      " 6   Breast            213 non-null    object\n",
      " 7   Metastasis        213 non-null    object\n",
      " 8   Breast Quadrant   213 non-null    object\n",
      " 9   History           213 non-null    object\n",
      " 10  Diagnosis Result  213 non-null    object\n",
      "dtypes: int64(3), object(8)\n",
      "memory usage: 18.4+ KB\n"
     ]
    }
   ],
   "source": [
    "df.info()"
   ]
  },
  {
   "cell_type": "code",
   "execution_count": 7,
   "id": "188240e0-9dbd-41a4-b19c-36d13a2f4b59",
   "metadata": {},
   "outputs": [
    {
     "data": {
      "text/plain": [
       "S/N                  int64\n",
       "Year                object\n",
       "Age                  int64\n",
       "Menopause            int64\n",
       "Tumor Size (cm)     object\n",
       "Inv-Nodes           object\n",
       "Breast              object\n",
       "Metastasis          object\n",
       "Breast Quadrant     object\n",
       "History             object\n",
       "Diagnosis Result    object\n",
       "dtype: object"
      ]
     },
     "execution_count": 7,
     "metadata": {},
     "output_type": "execute_result"
    }
   ],
   "source": [
    "df.dtypes"
   ]
  },
  {
   "cell_type": "code",
   "execution_count": 8,
   "id": "f62cec02-361c-48b0-97c4-e5107a371b0f",
   "metadata": {},
   "outputs": [
    {
     "data": {
      "text/plain": [
       "S/N                 0\n",
       "Year                0\n",
       "Age                 0\n",
       "Menopause           0\n",
       "Tumor Size (cm)     0\n",
       "Inv-Nodes           0\n",
       "Breast              0\n",
       "Metastasis          0\n",
       "Breast Quadrant     0\n",
       "History             0\n",
       "Diagnosis Result    0\n",
       "dtype: int64"
      ]
     },
     "execution_count": 8,
     "metadata": {},
     "output_type": "execute_result"
    }
   ],
   "source": [
    "df.isnull().sum()"
   ]
  },
  {
   "cell_type": "code",
   "execution_count": 9,
   "id": "af086a0a-612e-4d93-8dc1-76654e265a3a",
   "metadata": {},
   "outputs": [
    {
     "name": "stdout",
     "output_type": "stream",
     "text": [
      "[  1   2   3   4   5   6   7   8   9  10  11  12  13  14  15  16  17  18\n",
      "  19  20  21  22  23  24  25  26  27  28  29  30  31  32  33  34  35  36\n",
      "  37  38  39  40  41  42  43  44  45  46  47  48  49  50  51  52  53  54\n",
      "  55  56  57  58  59  60  61  62  63  64  65  66  67  68  69  70  71  72\n",
      "  73  74  75  76  77  78  79  80  81  82  83  84  85  86  87  88  89  90\n",
      "  91  92  93  94  95  96  97  98  99 100 101 102 103 104 105 106 107 108\n",
      " 109 110 111 112 113 114 115 116 117 118 119 120 121 122 123 124 125 126\n",
      " 127 128 129 130 131 132 133 134 135 136 137 138 139 140 141 142 143 144\n",
      " 145 146 147 148 149 150 151 152 153 154 155 156 157 158 159 160 161 162\n",
      " 163 164 165 166 167 168 169 170 171 172 173 174 175 176 177 178 179 180\n",
      " 181 182 183 184 185 186 187 188 189 190 191 192 193 194 195 196 197 198\n",
      " 199 200 201 202 203 204 205 206 207 208 209 210 211 212 213]\n",
      "['2019' '#' '2020']\n",
      "[40 39 45 26 21 50 58 35 42 41 43 30 33 38 60 47 57 34 31 36 56 48 61 20\n",
      " 37 27 25 17 23 59 67 46 24 49 53 28 68 64 18 14 15 54 71 55 22 65 19 52\n",
      " 51 44 63 29 32 62 69 13 16 77]\n",
      "[1 0]\n",
      "['2' '4' '3' '1' '5' '6' '7' '10' '8' '9' '#' '14' '12']\n",
      "['0' '1' '#' '3']\n",
      "['Right' 'Left' '#']\n",
      "['0' '1' '#']\n",
      "['Upper inner' 'Upper outer' 'Lower outer' 'Lower inner' '#'\n",
      " 'Upper outer ']\n",
      "['0' '1' '#']\n",
      "['Benign' 'Malignant']\n"
     ]
    }
   ],
   "source": [
    "for col in df:\n",
    "  print(df[col].unique())"
   ]
  },
  {
   "cell_type": "markdown",
   "id": "66b267d2-b761-4a5c-95b7-96d796279758",
   "metadata": {},
   "source": [
    "## Data Preprocessing - Step 1\n",
    "- Normalize the column names\n",
    "- Drop the s/n column\n",
    "- Replace special caracters (#) with NaN\n",
    "- Fill all NaN values\n",
    "- Replace categorical columns(diagnosis_result) with integers\n"
   ]
  },
  {
   "cell_type": "code",
   "execution_count": 10,
   "id": "aaf32fd5-fca9-4c99-bc0a-2101331afdf9",
   "metadata": {},
   "outputs": [
    {
     "data": {
      "text/plain": [
       "Index(['s/n', 'year', 'age', 'menopause', 'tumor_size_(cm)', 'inv_nodes',\n",
       "       'breast', 'metastasis', 'breast_quadrant', 'history',\n",
       "       'diagnosis_result'],\n",
       "      dtype='object')"
      ]
     },
     "execution_count": 10,
     "metadata": {},
     "output_type": "execute_result"
    }
   ],
   "source": [
    "df.columns = df.columns.str.lower().str.replace(' ', '_').str.replace('-','_')\n",
    "df.columns"
   ]
  },
  {
   "cell_type": "code",
   "execution_count": 11,
   "id": "144b4900-d69d-4b30-b52d-bb199a6feddd",
   "metadata": {},
   "outputs": [
    {
     "data": {
      "text/plain": [
       "Index(['s/n', 'year', 'age', 'menopause', 'tumor_size', 'inv_nodes', 'breast',\n",
       "       'metastasis', 'breast_quadrant', 'history', 'diagnosis_result'],\n",
       "      dtype='object')"
      ]
     },
     "execution_count": 11,
     "metadata": {},
     "output_type": "execute_result"
    }
   ],
   "source": [
    "df.columns = df.columns.str.replace('_(cm)', '')\n",
    "df.columns"
   ]
  },
  {
   "cell_type": "code",
   "execution_count": 12,
   "id": "148fbcee-3933-48d6-a4b2-ec9c23f4eb88",
   "metadata": {},
   "outputs": [],
   "source": [
    "df = df.drop(['s/n'], axis=1)"
   ]
  },
  {
   "cell_type": "code",
   "execution_count": 13,
   "id": "40564e0c-b74c-4422-9e75-ece98f0cee12",
   "metadata": {},
   "outputs": [
    {
     "name": "stdout",
     "output_type": "stream",
     "text": [
      "['2019' '#' '2020']\n",
      "[40 39 45 26 21 50 58 35 42 41 43 30 33 38 60 47 57 34 31 36 56 48 61 20\n",
      " 37 27 25 17 23 59 67 46 24 49 53 28 68 64 18 14 15 54 71 55 22 65 19 52\n",
      " 51 44 63 29 32 62 69 13 16 77]\n",
      "[1 0]\n",
      "['2' '4' '3' '1' '5' '6' '7' '10' '8' '9' '#' '14' '12']\n",
      "['0' '1' '#' '3']\n",
      "['Right' 'Left' '#']\n",
      "['0' '1' '#']\n",
      "['Upper inner' 'Upper outer' 'Lower outer' 'Lower inner' '#'\n",
      " 'Upper outer ']\n",
      "['0' '1' '#']\n",
      "['Benign' 'Malignant']\n"
     ]
    }
   ],
   "source": [
    "for col in df:\n",
    "  print(df[col].unique())"
   ]
  },
  {
   "cell_type": "code",
   "execution_count": 14,
   "id": "2cf676c2-ecbf-401c-a463-8d5d7b8ab350",
   "metadata": {},
   "outputs": [
    {
     "name": "stdout",
     "output_type": "stream",
     "text": [
      "year\n",
      "age\n",
      "menopause\n",
      "tumor_size\n",
      "inv_nodes\n",
      "breast\n",
      "metastasis\n",
      "breast_quadrant\n",
      "history\n",
      "diagnosis_result\n"
     ]
    }
   ],
   "source": [
    "for col in df:\n",
    "  print (col)"
   ]
  },
  {
   "cell_type": "code",
   "execution_count": 15,
   "id": "140ea0d2-f697-4632-8916-281a43736408",
   "metadata": {},
   "outputs": [],
   "source": [
    "## replacing unsual caracters with NaN\n",
    "df['year'] = df['year'].replace('#', np.nan)"
   ]
  },
  {
   "cell_type": "code",
   "execution_count": 16,
   "id": "d8469f23-4c2e-4def-a05f-5f6869938839",
   "metadata": {},
   "outputs": [],
   "source": [
    "df['tumor_size'] = df['tumor_size'].replace('#', np.nan)"
   ]
  },
  {
   "cell_type": "code",
   "execution_count": 17,
   "id": "c76beff6-cf36-4b96-896e-9799f462426b",
   "metadata": {},
   "outputs": [],
   "source": [
    "df['inv_nodes'] = df['inv_nodes'].replace('#', np.nan)"
   ]
  },
  {
   "cell_type": "code",
   "execution_count": 18,
   "id": "ec21a916-305e-4899-a08a-cf181aacc63a",
   "metadata": {},
   "outputs": [],
   "source": [
    "df['breast'] = df['breast'].replace('#', np.nan)"
   ]
  },
  {
   "cell_type": "code",
   "execution_count": 19,
   "id": "45178e9a-209c-4249-b05a-92889778cbd7",
   "metadata": {},
   "outputs": [],
   "source": [
    "df['metastasis'] = df['metastasis'].replace('#', np.nan)"
   ]
  },
  {
   "cell_type": "code",
   "execution_count": 20,
   "id": "348546aa-4b8b-42b3-8b65-7db63a8637dc",
   "metadata": {},
   "outputs": [],
   "source": [
    "df['breast_quadrant'] = df['breast_quadrant'].replace('#', np.nan)"
   ]
  },
  {
   "cell_type": "code",
   "execution_count": 21,
   "id": "f8111889-bed2-47aa-b6ff-c69dfbcd9fc8",
   "metadata": {},
   "outputs": [],
   "source": [
    "df['history'] = df['history'].replace('#', np.nan)"
   ]
  },
  {
   "cell_type": "code",
   "execution_count": 22,
   "id": "ca2bf327-de04-4387-b6a0-db19cadb5985",
   "metadata": {},
   "outputs": [
    {
     "data": {
      "text/plain": [
       "year                1\n",
       "age                 0\n",
       "menopause           0\n",
       "tumor_size          1\n",
       "inv_nodes           1\n",
       "breast              6\n",
       "metastasis          1\n",
       "breast_quadrant     2\n",
       "history             2\n",
       "diagnosis_result    0\n",
       "dtype: int64"
      ]
     },
     "execution_count": 22,
     "metadata": {},
     "output_type": "execute_result"
    }
   ],
   "source": [
    "df.isnull().sum()"
   ]
  },
  {
   "cell_type": "code",
   "execution_count": 23,
   "id": "5f282556-e555-4fab-b4ef-c60b729e40d7",
   "metadata": {},
   "outputs": [
    {
     "data": {
      "text/plain": [
       "year\n",
       "2020    111\n",
       "2019    101\n",
       "Name: count, dtype: int64"
      ]
     },
     "execution_count": 23,
     "metadata": {},
     "output_type": "execute_result"
    }
   ],
   "source": [
    "## target variable \n",
    "df.year.value_counts()"
   ]
  },
  {
   "cell_type": "code",
   "execution_count": 24,
   "id": "7a1ebe07-763a-492e-8a70-f69708b89fe3",
   "metadata": {},
   "outputs": [],
   "source": [
    "## convert the year column type to float\n",
    "df['year'] = df['year'].astype('float')"
   ]
  },
  {
   "cell_type": "code",
   "execution_count": 25,
   "id": "cec514ce-dc1d-4eab-a0bf-85bd493ac38b",
   "metadata": {},
   "outputs": [],
   "source": [
    "df['year'] = df['year'].fillna(df['year'].mean())"
   ]
  },
  {
   "cell_type": "code",
   "execution_count": 26,
   "id": "5e53e90b-0cbb-4dc0-9ce6-76e1b6ba32e8",
   "metadata": {},
   "outputs": [
    {
     "data": {
      "text/plain": [
       "tumor_size\n",
       "3     34\n",
       "2     32\n",
       "4     32\n",
       "1     29\n",
       "5     27\n",
       "6     17\n",
       "7     14\n",
       "8     11\n",
       "10     7\n",
       "9      7\n",
       "14     1\n",
       "12     1\n",
       "Name: count, dtype: int64"
      ]
     },
     "execution_count": 26,
     "metadata": {},
     "output_type": "execute_result"
    }
   ],
   "source": [
    "df.tumor_size.value_counts()"
   ]
  },
  {
   "cell_type": "code",
   "execution_count": 27,
   "id": "a483a5bd-ca0b-474b-b57e-b261efae85c6",
   "metadata": {},
   "outputs": [],
   "source": [
    "## convert the year column type to float\n",
    "df['tumor_size'] = df['tumor_size'].astype('float')"
   ]
  },
  {
   "cell_type": "code",
   "execution_count": 28,
   "id": "9160003c-9b03-4056-b1af-da8f0ccba279",
   "metadata": {},
   "outputs": [],
   "source": [
    "df['tumor_size'] = df['tumor_size'].fillna(df['tumor_size'].mean())"
   ]
  },
  {
   "cell_type": "code",
   "execution_count": 29,
   "id": "36c54bde-77ce-4e8f-94ae-529b42a5014d",
   "metadata": {},
   "outputs": [
    {
     "data": {
      "text/plain": [
       "inv_nodes\n",
       "0    139\n",
       "1     72\n",
       "3      1\n",
       "Name: count, dtype: int64"
      ]
     },
     "execution_count": 29,
     "metadata": {},
     "output_type": "execute_result"
    }
   ],
   "source": [
    "df.inv_nodes.value_counts()"
   ]
  },
  {
   "cell_type": "code",
   "execution_count": 30,
   "id": "592e4f2f-e1a0-4d73-9d6e-ba8d86531e0e",
   "metadata": {},
   "outputs": [],
   "source": [
    "## convert the year column type to float\n",
    "df['inv_nodes'] = df['inv_nodes'].astype('float')"
   ]
  },
  {
   "cell_type": "code",
   "execution_count": 31,
   "id": "ac8bd6a4-b55e-42fc-80fb-61cf878d972b",
   "metadata": {},
   "outputs": [],
   "source": [
    "df.inv_nodes = df.inv_nodes.fillna(0)"
   ]
  },
  {
   "cell_type": "code",
   "execution_count": 32,
   "id": "80cb62c3-6f53-478c-adfa-814bbcd3e1aa",
   "metadata": {},
   "outputs": [
    {
     "data": {
      "text/plain": [
       "breast\n",
       "Left     107\n",
       "Right    100\n",
       "Name: count, dtype: int64"
      ]
     },
     "execution_count": 32,
     "metadata": {},
     "output_type": "execute_result"
    }
   ],
   "source": [
    "df.breast.value_counts()"
   ]
  },
  {
   "cell_type": "code",
   "execution_count": 33,
   "id": "b1a62525-26be-4374-bee5-f19edd73a085",
   "metadata": {},
   "outputs": [],
   "source": [
    "df.breast = df.breast.fillna('Right')"
   ]
  },
  {
   "cell_type": "code",
   "execution_count": 34,
   "id": "faaa4a88-8ea5-48d8-af9e-04901d509237",
   "metadata": {},
   "outputs": [
    {
     "data": {
      "text/plain": [
       "metastasis\n",
       "0    139\n",
       "1     73\n",
       "Name: count, dtype: int64"
      ]
     },
     "execution_count": 34,
     "metadata": {},
     "output_type": "execute_result"
    }
   ],
   "source": [
    "df.metastasis.value_counts()"
   ]
  },
  {
   "cell_type": "code",
   "execution_count": 35,
   "id": "d6544d1c-2fd7-47d1-a3a0-3e6104b2d37f",
   "metadata": {},
   "outputs": [],
   "source": [
    "df.metastasis = df.metastasis.fillna(0)"
   ]
  },
  {
   "cell_type": "code",
   "execution_count": 36,
   "id": "4c89e008-5c7c-472e-9569-936a6025c492",
   "metadata": {},
   "outputs": [
    {
     "data": {
      "text/plain": [
       "breast_quadrant\n",
       "Upper outer     67\n",
       "Lower outer     54\n",
       "Upper inner     45\n",
       "Lower inner     44\n",
       "Upper outer      1\n",
       "Name: count, dtype: int64"
      ]
     },
     "execution_count": 36,
     "metadata": {},
     "output_type": "execute_result"
    }
   ],
   "source": [
    "df.breast_quadrant.value_counts()"
   ]
  },
  {
   "cell_type": "code",
   "execution_count": 37,
   "id": "04a101a8-741f-45f5-bc07-94659f52b922",
   "metadata": {},
   "outputs": [],
   "source": [
    "df.breast_quadrant = df.breast_quadrant.fillna('Upper outer')"
   ]
  },
  {
   "cell_type": "code",
   "execution_count": 38,
   "id": "d70484ec-060b-430a-99e0-9f54c9f07b5f",
   "metadata": {},
   "outputs": [
    {
     "data": {
      "text/plain": [
       "history\n",
       "0    124\n",
       "1     87\n",
       "Name: count, dtype: int64"
      ]
     },
     "execution_count": 38,
     "metadata": {},
     "output_type": "execute_result"
    }
   ],
   "source": [
    "df.history.value_counts()"
   ]
  },
  {
   "cell_type": "code",
   "execution_count": 39,
   "id": "3953401e-c625-4dc7-8b7a-8121923ff7f2",
   "metadata": {},
   "outputs": [],
   "source": [
    "df.history = df.history.fillna(0)"
   ]
  },
  {
   "cell_type": "code",
   "execution_count": 40,
   "id": "40f03a4c-dd75-4e98-b706-6fac9137aad0",
   "metadata": {},
   "outputs": [
    {
     "data": {
      "text/plain": [
       "year                0\n",
       "age                 0\n",
       "menopause           0\n",
       "tumor_size          0\n",
       "inv_nodes           0\n",
       "breast              0\n",
       "metastasis          0\n",
       "breast_quadrant     0\n",
       "history             0\n",
       "diagnosis_result    0\n",
       "dtype: int64"
      ]
     },
     "execution_count": 40,
     "metadata": {},
     "output_type": "execute_result"
    }
   ],
   "source": [
    "df.isnull().sum()"
   ]
  },
  {
   "cell_type": "code",
   "execution_count": 41,
   "id": "af560aa6-90a5-48c9-9cd1-a7b14c598f6a",
   "metadata": {},
   "outputs": [
    {
     "data": {
      "text/html": [
       "<div>\n",
       "<style scoped>\n",
       "    .dataframe tbody tr th:only-of-type {\n",
       "        vertical-align: middle;\n",
       "    }\n",
       "\n",
       "    .dataframe tbody tr th {\n",
       "        vertical-align: top;\n",
       "    }\n",
       "\n",
       "    .dataframe thead th {\n",
       "        text-align: right;\n",
       "    }\n",
       "</style>\n",
       "<table border=\"1\" class=\"dataframe\">\n",
       "  <thead>\n",
       "    <tr style=\"text-align: right;\">\n",
       "      <th></th>\n",
       "      <th>year</th>\n",
       "      <th>age</th>\n",
       "      <th>menopause</th>\n",
       "      <th>tumor_size</th>\n",
       "      <th>inv_nodes</th>\n",
       "      <th>breast</th>\n",
       "      <th>metastasis</th>\n",
       "      <th>breast_quadrant</th>\n",
       "      <th>history</th>\n",
       "      <th>diagnosis_result</th>\n",
       "    </tr>\n",
       "  </thead>\n",
       "  <tbody>\n",
       "    <tr>\n",
       "      <th>0</th>\n",
       "      <td>2019.0</td>\n",
       "      <td>40</td>\n",
       "      <td>1</td>\n",
       "      <td>2.0</td>\n",
       "      <td>0.0</td>\n",
       "      <td>Right</td>\n",
       "      <td>0</td>\n",
       "      <td>Upper inner</td>\n",
       "      <td>0</td>\n",
       "      <td>Benign</td>\n",
       "    </tr>\n",
       "    <tr>\n",
       "      <th>1</th>\n",
       "      <td>2019.0</td>\n",
       "      <td>39</td>\n",
       "      <td>1</td>\n",
       "      <td>2.0</td>\n",
       "      <td>0.0</td>\n",
       "      <td>Left</td>\n",
       "      <td>0</td>\n",
       "      <td>Upper outer</td>\n",
       "      <td>0</td>\n",
       "      <td>Benign</td>\n",
       "    </tr>\n",
       "    <tr>\n",
       "      <th>2</th>\n",
       "      <td>2019.0</td>\n",
       "      <td>45</td>\n",
       "      <td>0</td>\n",
       "      <td>4.0</td>\n",
       "      <td>0.0</td>\n",
       "      <td>Left</td>\n",
       "      <td>0</td>\n",
       "      <td>Lower outer</td>\n",
       "      <td>0</td>\n",
       "      <td>Benign</td>\n",
       "    </tr>\n",
       "    <tr>\n",
       "      <th>3</th>\n",
       "      <td>2019.0</td>\n",
       "      <td>26</td>\n",
       "      <td>1</td>\n",
       "      <td>3.0</td>\n",
       "      <td>0.0</td>\n",
       "      <td>Left</td>\n",
       "      <td>0</td>\n",
       "      <td>Lower inner</td>\n",
       "      <td>1</td>\n",
       "      <td>Benign</td>\n",
       "    </tr>\n",
       "    <tr>\n",
       "      <th>4</th>\n",
       "      <td>2019.0</td>\n",
       "      <td>21</td>\n",
       "      <td>1</td>\n",
       "      <td>1.0</td>\n",
       "      <td>0.0</td>\n",
       "      <td>Right</td>\n",
       "      <td>0</td>\n",
       "      <td>Upper outer</td>\n",
       "      <td>1</td>\n",
       "      <td>Benign</td>\n",
       "    </tr>\n",
       "  </tbody>\n",
       "</table>\n",
       "</div>"
      ],
      "text/plain": [
       "     year  age  menopause  tumor_size  inv_nodes breast metastasis  \\\n",
       "0  2019.0   40          1         2.0        0.0  Right          0   \n",
       "1  2019.0   39          1         2.0        0.0   Left          0   \n",
       "2  2019.0   45          0         4.0        0.0   Left          0   \n",
       "3  2019.0   26          1         3.0        0.0   Left          0   \n",
       "4  2019.0   21          1         1.0        0.0  Right          0   \n",
       "\n",
       "  breast_quadrant history diagnosis_result  \n",
       "0     Upper inner       0           Benign  \n",
       "1     Upper outer       0           Benign  \n",
       "2     Lower outer       0           Benign  \n",
       "3     Lower inner       1           Benign  \n",
       "4     Upper outer       1           Benign  "
      ]
     },
     "execution_count": 41,
     "metadata": {},
     "output_type": "execute_result"
    }
   ],
   "source": [
    "df.head()"
   ]
  },
  {
   "cell_type": "code",
   "execution_count": 42,
   "id": "c711d877-c528-4f9f-b5c6-2d4549c58062",
   "metadata": {},
   "outputs": [],
   "source": [
    "## convert the year column type to float\n",
    "df['metastasis'] = df['metastasis'].astype('int64')"
   ]
  },
  {
   "cell_type": "code",
   "execution_count": 43,
   "id": "85790efe-c7d9-4057-b45e-f9f652b672a4",
   "metadata": {},
   "outputs": [],
   "source": [
    "## convert the year column type to float\n",
    "df['history'] = df['history'].astype('category')"
   ]
  },
  {
   "cell_type": "code",
   "execution_count": 44,
   "id": "1b90e40e-b0be-4c69-bba0-be15189d11e7",
   "metadata": {},
   "outputs": [],
   "source": [
    "## convert the year column type to float\n",
    "df['year'] = df['year'].astype('int64')"
   ]
  },
  {
   "cell_type": "code",
   "execution_count": 45,
   "id": "767e3493-e49b-4e6e-8eb5-3c2536f99bfe",
   "metadata": {},
   "outputs": [],
   "source": [
    "## convert the year column type to float\n",
    "df['menopause'] = df['menopause'].astype('category')"
   ]
  },
  {
   "cell_type": "code",
   "execution_count": 46,
   "id": "d4523b5b-1263-4343-aca4-3d2add93afea",
   "metadata": {},
   "outputs": [],
   "source": [
    "## convert the year column type to float\n",
    "df['breast'] = df['breast'].astype('category')"
   ]
  },
  {
   "cell_type": "code",
   "execution_count": 47,
   "id": "5c9f1564-3e53-474a-b3cc-71f839092ace",
   "metadata": {},
   "outputs": [
    {
     "data": {
      "text/plain": [
       "0    Benign\n",
       "1    Benign\n",
       "2    Benign\n",
       "3    Benign\n",
       "4    Benign\n",
       "Name: diagnosis_result, dtype: object"
      ]
     },
     "execution_count": 47,
     "metadata": {},
     "output_type": "execute_result"
    }
   ],
   "source": [
    "df.diagnosis_result.head()"
   ]
  },
  {
   "cell_type": "code",
   "execution_count": 48,
   "id": "657304fd-6812-46d1-ac7f-e612f40ca46a",
   "metadata": {},
   "outputs": [
    {
     "data": {
      "text/plain": [
       "diagnosis_result\n",
       "Benign       120\n",
       "Malignant     93\n",
       "Name: count, dtype: int64"
      ]
     },
     "execution_count": 48,
     "metadata": {},
     "output_type": "execute_result"
    }
   ],
   "source": [
    "df.diagnosis_result.value_counts()"
   ]
  },
  {
   "cell_type": "code",
   "execution_count": 49,
   "id": "2eff78dd-2345-4f1b-801f-e47906a8cbbd",
   "metadata": {},
   "outputs": [],
   "source": [
    "df.diagnosis_result = (df.diagnosis_result == 'Malignant').astype(int)"
   ]
  },
  {
   "cell_type": "code",
   "execution_count": 50,
   "id": "a64e6afa-11c0-49c7-b59f-094265e783ee",
   "metadata": {},
   "outputs": [
    {
     "data": {
      "text/plain": [
       "0    0\n",
       "1    0\n",
       "2    0\n",
       "3    0\n",
       "4    0\n",
       "Name: diagnosis_result, dtype: int32"
      ]
     },
     "execution_count": 50,
     "metadata": {},
     "output_type": "execute_result"
    }
   ],
   "source": [
    "df.diagnosis_result.head()"
   ]
  },
  {
   "cell_type": "code",
   "execution_count": 51,
   "id": "f50deb81-5806-4df5-9a9d-0b7efda45a93",
   "metadata": {},
   "outputs": [
    {
     "data": {
      "text/html": [
       "<div>\n",
       "<style scoped>\n",
       "    .dataframe tbody tr th:only-of-type {\n",
       "        vertical-align: middle;\n",
       "    }\n",
       "\n",
       "    .dataframe tbody tr th {\n",
       "        vertical-align: top;\n",
       "    }\n",
       "\n",
       "    .dataframe thead th {\n",
       "        text-align: right;\n",
       "    }\n",
       "</style>\n",
       "<table border=\"1\" class=\"dataframe\">\n",
       "  <thead>\n",
       "    <tr style=\"text-align: right;\">\n",
       "      <th></th>\n",
       "      <th>year</th>\n",
       "      <th>age</th>\n",
       "      <th>menopause</th>\n",
       "      <th>tumor_size</th>\n",
       "      <th>inv_nodes</th>\n",
       "      <th>breast</th>\n",
       "      <th>metastasis</th>\n",
       "      <th>breast_quadrant</th>\n",
       "      <th>history</th>\n",
       "      <th>diagnosis_result</th>\n",
       "    </tr>\n",
       "  </thead>\n",
       "  <tbody>\n",
       "    <tr>\n",
       "      <th>0</th>\n",
       "      <td>2019</td>\n",
       "      <td>40</td>\n",
       "      <td>1</td>\n",
       "      <td>2.0</td>\n",
       "      <td>0.0</td>\n",
       "      <td>Right</td>\n",
       "      <td>0</td>\n",
       "      <td>Upper inner</td>\n",
       "      <td>0</td>\n",
       "      <td>0</td>\n",
       "    </tr>\n",
       "    <tr>\n",
       "      <th>1</th>\n",
       "      <td>2019</td>\n",
       "      <td>39</td>\n",
       "      <td>1</td>\n",
       "      <td>2.0</td>\n",
       "      <td>0.0</td>\n",
       "      <td>Left</td>\n",
       "      <td>0</td>\n",
       "      <td>Upper outer</td>\n",
       "      <td>0</td>\n",
       "      <td>0</td>\n",
       "    </tr>\n",
       "    <tr>\n",
       "      <th>2</th>\n",
       "      <td>2019</td>\n",
       "      <td>45</td>\n",
       "      <td>0</td>\n",
       "      <td>4.0</td>\n",
       "      <td>0.0</td>\n",
       "      <td>Left</td>\n",
       "      <td>0</td>\n",
       "      <td>Lower outer</td>\n",
       "      <td>0</td>\n",
       "      <td>0</td>\n",
       "    </tr>\n",
       "    <tr>\n",
       "      <th>3</th>\n",
       "      <td>2019</td>\n",
       "      <td>26</td>\n",
       "      <td>1</td>\n",
       "      <td>3.0</td>\n",
       "      <td>0.0</td>\n",
       "      <td>Left</td>\n",
       "      <td>0</td>\n",
       "      <td>Lower inner</td>\n",
       "      <td>1</td>\n",
       "      <td>0</td>\n",
       "    </tr>\n",
       "    <tr>\n",
       "      <th>4</th>\n",
       "      <td>2019</td>\n",
       "      <td>21</td>\n",
       "      <td>1</td>\n",
       "      <td>1.0</td>\n",
       "      <td>0.0</td>\n",
       "      <td>Right</td>\n",
       "      <td>0</td>\n",
       "      <td>Upper outer</td>\n",
       "      <td>1</td>\n",
       "      <td>0</td>\n",
       "    </tr>\n",
       "  </tbody>\n",
       "</table>\n",
       "</div>"
      ],
      "text/plain": [
       "   year  age menopause  tumor_size  inv_nodes breast  metastasis  \\\n",
       "0  2019   40         1         2.0        0.0  Right           0   \n",
       "1  2019   39         1         2.0        0.0   Left           0   \n",
       "2  2019   45         0         4.0        0.0   Left           0   \n",
       "3  2019   26         1         3.0        0.0   Left           0   \n",
       "4  2019   21         1         1.0        0.0  Right           0   \n",
       "\n",
       "  breast_quadrant history  diagnosis_result  \n",
       "0     Upper inner       0                 0  \n",
       "1     Upper outer       0                 0  \n",
       "2     Lower outer       0                 0  \n",
       "3     Lower inner       1                 0  \n",
       "4     Upper outer       1                 0  "
      ]
     },
     "execution_count": 51,
     "metadata": {},
     "output_type": "execute_result"
    }
   ],
   "source": [
    "df.head()"
   ]
  },
  {
   "cell_type": "markdown",
   "id": "b3ce1375-b783-4d57-a89c-329df0d1da02",
   "metadata": {},
   "source": [
    "## Exploratory Data Analysis"
   ]
  },
  {
   "cell_type": "code",
   "execution_count": 52,
   "id": "9f422955-3c16-493a-a809-3e3d9f8a1ba7",
   "metadata": {},
   "outputs": [
    {
     "data": {
      "text/plain": [
       "diagnosis_result\n",
       "0    120\n",
       "1     93\n",
       "Name: count, dtype: int64"
      ]
     },
     "execution_count": 52,
     "metadata": {},
     "output_type": "execute_result"
    }
   ],
   "source": [
    "## target variable \n",
    "df.diagnosis_result.value_counts()"
   ]
  },
  {
   "cell_type": "code",
   "execution_count": 53,
   "id": "2748ee72-0ac5-4553-b66d-4bcacf781382",
   "metadata": {},
   "outputs": [
    {
     "ename": "ValueError",
     "evalue": "could not convert string to float: 'Right'",
     "output_type": "error",
     "traceback": [
      "\u001b[1;31m---------------------------------------------------------------------------\u001b[0m",
      "\u001b[1;31mValueError\u001b[0m                                Traceback (most recent call last)",
      "Cell \u001b[1;32mIn[53], line 3\u001b[0m\n\u001b[0;32m      1\u001b[0m numeric_cols \u001b[38;5;241m=\u001b[39m df\u001b[38;5;241m.\u001b[39mselect_dtypes(exclude\u001b[38;5;241m=\u001b[39m[\u001b[38;5;28mobject\u001b[39m])\n\u001b[1;32m----> 3\u001b[0m corr_matrix \u001b[38;5;241m=\u001b[39m \u001b[43mnumeric_cols\u001b[49m\u001b[38;5;241;43m.\u001b[39;49m\u001b[43mcorr\u001b[49m\u001b[43m(\u001b[49m\u001b[43m)\u001b[49m\n\u001b[0;32m      5\u001b[0m corr_matrix[\u001b[38;5;124m'\u001b[39m\u001b[38;5;124mdiagnosis_result\u001b[39m\u001b[38;5;124m'\u001b[39m]\n",
      "File \u001b[1;32m~\\.virtualenvs\\DBCFinalProject-gFWifcgV\\Lib\\site-packages\\pandas\\core\\frame.py:11022\u001b[0m, in \u001b[0;36mDataFrame.corr\u001b[1;34m(self, method, min_periods, numeric_only)\u001b[0m\n\u001b[0;32m  11020\u001b[0m cols \u001b[38;5;241m=\u001b[39m data\u001b[38;5;241m.\u001b[39mcolumns\n\u001b[0;32m  11021\u001b[0m idx \u001b[38;5;241m=\u001b[39m cols\u001b[38;5;241m.\u001b[39mcopy()\n\u001b[1;32m> 11022\u001b[0m mat \u001b[38;5;241m=\u001b[39m \u001b[43mdata\u001b[49m\u001b[38;5;241;43m.\u001b[39;49m\u001b[43mto_numpy\u001b[49m\u001b[43m(\u001b[49m\u001b[43mdtype\u001b[49m\u001b[38;5;241;43m=\u001b[39;49m\u001b[38;5;28;43mfloat\u001b[39;49m\u001b[43m,\u001b[49m\u001b[43m \u001b[49m\u001b[43mna_value\u001b[49m\u001b[38;5;241;43m=\u001b[39;49m\u001b[43mnp\u001b[49m\u001b[38;5;241;43m.\u001b[39;49m\u001b[43mnan\u001b[49m\u001b[43m,\u001b[49m\u001b[43m \u001b[49m\u001b[43mcopy\u001b[49m\u001b[38;5;241;43m=\u001b[39;49m\u001b[38;5;28;43;01mFalse\u001b[39;49;00m\u001b[43m)\u001b[49m\n\u001b[0;32m  11024\u001b[0m \u001b[38;5;28;01mif\u001b[39;00m method \u001b[38;5;241m==\u001b[39m \u001b[38;5;124m\"\u001b[39m\u001b[38;5;124mpearson\u001b[39m\u001b[38;5;124m\"\u001b[39m:\n\u001b[0;32m  11025\u001b[0m     correl \u001b[38;5;241m=\u001b[39m libalgos\u001b[38;5;241m.\u001b[39mnancorr(mat, minp\u001b[38;5;241m=\u001b[39mmin_periods)\n",
      "File \u001b[1;32m~\\.virtualenvs\\DBCFinalProject-gFWifcgV\\Lib\\site-packages\\pandas\\core\\frame.py:1981\u001b[0m, in \u001b[0;36mDataFrame.to_numpy\u001b[1;34m(self, dtype, copy, na_value)\u001b[0m\n\u001b[0;32m   1979\u001b[0m \u001b[38;5;28;01mif\u001b[39;00m dtype \u001b[38;5;129;01mis\u001b[39;00m \u001b[38;5;129;01mnot\u001b[39;00m \u001b[38;5;28;01mNone\u001b[39;00m:\n\u001b[0;32m   1980\u001b[0m     dtype \u001b[38;5;241m=\u001b[39m np\u001b[38;5;241m.\u001b[39mdtype(dtype)\n\u001b[1;32m-> 1981\u001b[0m result \u001b[38;5;241m=\u001b[39m \u001b[38;5;28;43mself\u001b[39;49m\u001b[38;5;241;43m.\u001b[39;49m\u001b[43m_mgr\u001b[49m\u001b[38;5;241;43m.\u001b[39;49m\u001b[43mas_array\u001b[49m\u001b[43m(\u001b[49m\u001b[43mdtype\u001b[49m\u001b[38;5;241;43m=\u001b[39;49m\u001b[43mdtype\u001b[49m\u001b[43m,\u001b[49m\u001b[43m \u001b[49m\u001b[43mcopy\u001b[49m\u001b[38;5;241;43m=\u001b[39;49m\u001b[43mcopy\u001b[49m\u001b[43m,\u001b[49m\u001b[43m \u001b[49m\u001b[43mna_value\u001b[49m\u001b[38;5;241;43m=\u001b[39;49m\u001b[43mna_value\u001b[49m\u001b[43m)\u001b[49m\n\u001b[0;32m   1982\u001b[0m \u001b[38;5;28;01mif\u001b[39;00m result\u001b[38;5;241m.\u001b[39mdtype \u001b[38;5;129;01mis\u001b[39;00m \u001b[38;5;129;01mnot\u001b[39;00m dtype:\n\u001b[0;32m   1983\u001b[0m     result \u001b[38;5;241m=\u001b[39m np\u001b[38;5;241m.\u001b[39marray(result, dtype\u001b[38;5;241m=\u001b[39mdtype, copy\u001b[38;5;241m=\u001b[39m\u001b[38;5;28;01mFalse\u001b[39;00m)\n",
      "File \u001b[1;32m~\\.virtualenvs\\DBCFinalProject-gFWifcgV\\Lib\\site-packages\\pandas\\core\\internals\\managers.py:1693\u001b[0m, in \u001b[0;36mBlockManager.as_array\u001b[1;34m(self, dtype, copy, na_value)\u001b[0m\n\u001b[0;32m   1691\u001b[0m         arr\u001b[38;5;241m.\u001b[39mflags\u001b[38;5;241m.\u001b[39mwriteable \u001b[38;5;241m=\u001b[39m \u001b[38;5;28;01mFalse\u001b[39;00m\n\u001b[0;32m   1692\u001b[0m \u001b[38;5;28;01melse\u001b[39;00m:\n\u001b[1;32m-> 1693\u001b[0m     arr \u001b[38;5;241m=\u001b[39m \u001b[38;5;28;43mself\u001b[39;49m\u001b[38;5;241;43m.\u001b[39;49m\u001b[43m_interleave\u001b[49m\u001b[43m(\u001b[49m\u001b[43mdtype\u001b[49m\u001b[38;5;241;43m=\u001b[39;49m\u001b[43mdtype\u001b[49m\u001b[43m,\u001b[49m\u001b[43m \u001b[49m\u001b[43mna_value\u001b[49m\u001b[38;5;241;43m=\u001b[39;49m\u001b[43mna_value\u001b[49m\u001b[43m)\u001b[49m\n\u001b[0;32m   1694\u001b[0m     \u001b[38;5;66;03m# The underlying data was copied within _interleave, so no need\u001b[39;00m\n\u001b[0;32m   1695\u001b[0m     \u001b[38;5;66;03m# to further copy if copy=True or setting na_value\u001b[39;00m\n\u001b[0;32m   1697\u001b[0m \u001b[38;5;28;01mif\u001b[39;00m na_value \u001b[38;5;129;01mis\u001b[39;00m lib\u001b[38;5;241m.\u001b[39mno_default:\n",
      "File \u001b[1;32m~\\.virtualenvs\\DBCFinalProject-gFWifcgV\\Lib\\site-packages\\pandas\\core\\internals\\managers.py:1746\u001b[0m, in \u001b[0;36mBlockManager._interleave\u001b[1;34m(self, dtype, na_value)\u001b[0m\n\u001b[0;32m   1740\u001b[0m rl \u001b[38;5;241m=\u001b[39m blk\u001b[38;5;241m.\u001b[39mmgr_locs\n\u001b[0;32m   1741\u001b[0m \u001b[38;5;28;01mif\u001b[39;00m blk\u001b[38;5;241m.\u001b[39mis_extension:\n\u001b[0;32m   1742\u001b[0m     \u001b[38;5;66;03m# Avoid implicit conversion of extension blocks to object\u001b[39;00m\n\u001b[0;32m   1743\u001b[0m \n\u001b[0;32m   1744\u001b[0m     \u001b[38;5;66;03m# error: Item \"ndarray\" of \"Union[ndarray, ExtensionArray]\" has no\u001b[39;00m\n\u001b[0;32m   1745\u001b[0m     \u001b[38;5;66;03m# attribute \"to_numpy\"\u001b[39;00m\n\u001b[1;32m-> 1746\u001b[0m     arr \u001b[38;5;241m=\u001b[39m \u001b[43mblk\u001b[49m\u001b[38;5;241;43m.\u001b[39;49m\u001b[43mvalues\u001b[49m\u001b[38;5;241;43m.\u001b[39;49m\u001b[43mto_numpy\u001b[49m\u001b[43m(\u001b[49m\u001b[43m  \u001b[49m\u001b[38;5;66;43;03m# type: ignore[union-attr]\u001b[39;49;00m\n\u001b[0;32m   1747\u001b[0m \u001b[43m        \u001b[49m\u001b[43mdtype\u001b[49m\u001b[38;5;241;43m=\u001b[39;49m\u001b[43mdtype\u001b[49m\u001b[43m,\u001b[49m\n\u001b[0;32m   1748\u001b[0m \u001b[43m        \u001b[49m\u001b[43mna_value\u001b[49m\u001b[38;5;241;43m=\u001b[39;49m\u001b[43mna_value\u001b[49m\u001b[43m,\u001b[49m\n\u001b[0;32m   1749\u001b[0m \u001b[43m    \u001b[49m\u001b[43m)\u001b[49m\n\u001b[0;32m   1750\u001b[0m \u001b[38;5;28;01melse\u001b[39;00m:\n\u001b[0;32m   1751\u001b[0m     arr \u001b[38;5;241m=\u001b[39m blk\u001b[38;5;241m.\u001b[39mget_values(dtype)\n",
      "File \u001b[1;32m~\\.virtualenvs\\DBCFinalProject-gFWifcgV\\Lib\\site-packages\\pandas\\core\\arrays\\base.py:568\u001b[0m, in \u001b[0;36mExtensionArray.to_numpy\u001b[1;34m(self, dtype, copy, na_value)\u001b[0m\n\u001b[0;32m    539\u001b[0m \u001b[38;5;28;01mdef\u001b[39;00m \u001b[38;5;21mto_numpy\u001b[39m(\n\u001b[0;32m    540\u001b[0m     \u001b[38;5;28mself\u001b[39m,\n\u001b[0;32m    541\u001b[0m     dtype: npt\u001b[38;5;241m.\u001b[39mDTypeLike \u001b[38;5;241m|\u001b[39m \u001b[38;5;28;01mNone\u001b[39;00m \u001b[38;5;241m=\u001b[39m \u001b[38;5;28;01mNone\u001b[39;00m,\n\u001b[0;32m    542\u001b[0m     copy: \u001b[38;5;28mbool\u001b[39m \u001b[38;5;241m=\u001b[39m \u001b[38;5;28;01mFalse\u001b[39;00m,\n\u001b[0;32m    543\u001b[0m     na_value: \u001b[38;5;28mobject\u001b[39m \u001b[38;5;241m=\u001b[39m lib\u001b[38;5;241m.\u001b[39mno_default,\n\u001b[0;32m    544\u001b[0m ) \u001b[38;5;241m-\u001b[39m\u001b[38;5;241m>\u001b[39m np\u001b[38;5;241m.\u001b[39mndarray:\n\u001b[0;32m    545\u001b[0m \u001b[38;5;250m    \u001b[39m\u001b[38;5;124;03m\"\"\"\u001b[39;00m\n\u001b[0;32m    546\u001b[0m \u001b[38;5;124;03m    Convert to a NumPy ndarray.\u001b[39;00m\n\u001b[0;32m    547\u001b[0m \n\u001b[1;32m   (...)\u001b[0m\n\u001b[0;32m    566\u001b[0m \u001b[38;5;124;03m    numpy.ndarray\u001b[39;00m\n\u001b[0;32m    567\u001b[0m \u001b[38;5;124;03m    \"\"\"\u001b[39;00m\n\u001b[1;32m--> 568\u001b[0m     result \u001b[38;5;241m=\u001b[39m \u001b[43mnp\u001b[49m\u001b[38;5;241;43m.\u001b[39;49m\u001b[43masarray\u001b[49m\u001b[43m(\u001b[49m\u001b[38;5;28;43mself\u001b[39;49m\u001b[43m,\u001b[49m\u001b[43m \u001b[49m\u001b[43mdtype\u001b[49m\u001b[38;5;241;43m=\u001b[39;49m\u001b[43mdtype\u001b[49m\u001b[43m)\u001b[49m\n\u001b[0;32m    569\u001b[0m     \u001b[38;5;28;01mif\u001b[39;00m copy \u001b[38;5;129;01mor\u001b[39;00m na_value \u001b[38;5;129;01mis\u001b[39;00m \u001b[38;5;129;01mnot\u001b[39;00m lib\u001b[38;5;241m.\u001b[39mno_default:\n\u001b[0;32m    570\u001b[0m         result \u001b[38;5;241m=\u001b[39m result\u001b[38;5;241m.\u001b[39mcopy()\n",
      "File \u001b[1;32m~\\.virtualenvs\\DBCFinalProject-gFWifcgV\\Lib\\site-packages\\pandas\\core\\arrays\\_mixins.py:81\u001b[0m, in \u001b[0;36mravel_compat.<locals>.method\u001b[1;34m(self, *args, **kwargs)\u001b[0m\n\u001b[0;32m     78\u001b[0m \u001b[38;5;129m@wraps\u001b[39m(meth)\n\u001b[0;32m     79\u001b[0m \u001b[38;5;28;01mdef\u001b[39;00m \u001b[38;5;21mmethod\u001b[39m(\u001b[38;5;28mself\u001b[39m, \u001b[38;5;241m*\u001b[39margs, \u001b[38;5;241m*\u001b[39m\u001b[38;5;241m*\u001b[39mkwargs):\n\u001b[0;32m     80\u001b[0m     \u001b[38;5;28;01mif\u001b[39;00m \u001b[38;5;28mself\u001b[39m\u001b[38;5;241m.\u001b[39mndim \u001b[38;5;241m==\u001b[39m \u001b[38;5;241m1\u001b[39m:\n\u001b[1;32m---> 81\u001b[0m         \u001b[38;5;28;01mreturn\u001b[39;00m \u001b[43mmeth\u001b[49m\u001b[43m(\u001b[49m\u001b[38;5;28;43mself\u001b[39;49m\u001b[43m,\u001b[49m\u001b[43m \u001b[49m\u001b[38;5;241;43m*\u001b[39;49m\u001b[43margs\u001b[49m\u001b[43m,\u001b[49m\u001b[43m \u001b[49m\u001b[38;5;241;43m*\u001b[39;49m\u001b[38;5;241;43m*\u001b[39;49m\u001b[43mkwargs\u001b[49m\u001b[43m)\u001b[49m\n\u001b[0;32m     83\u001b[0m     flags \u001b[38;5;241m=\u001b[39m \u001b[38;5;28mself\u001b[39m\u001b[38;5;241m.\u001b[39m_ndarray\u001b[38;5;241m.\u001b[39mflags\n\u001b[0;32m     84\u001b[0m     flat \u001b[38;5;241m=\u001b[39m \u001b[38;5;28mself\u001b[39m\u001b[38;5;241m.\u001b[39mravel(\u001b[38;5;124m\"\u001b[39m\u001b[38;5;124mK\u001b[39m\u001b[38;5;124m\"\u001b[39m)\n",
      "File \u001b[1;32m~\\.virtualenvs\\DBCFinalProject-gFWifcgV\\Lib\\site-packages\\pandas\\core\\arrays\\categorical.py:1662\u001b[0m, in \u001b[0;36mCategorical.__array__\u001b[1;34m(self, dtype)\u001b[0m\n\u001b[0;32m   1660\u001b[0m ret \u001b[38;5;241m=\u001b[39m take_nd(\u001b[38;5;28mself\u001b[39m\u001b[38;5;241m.\u001b[39mcategories\u001b[38;5;241m.\u001b[39m_values, \u001b[38;5;28mself\u001b[39m\u001b[38;5;241m.\u001b[39m_codes)\n\u001b[0;32m   1661\u001b[0m \u001b[38;5;28;01mif\u001b[39;00m dtype \u001b[38;5;129;01mand\u001b[39;00m np\u001b[38;5;241m.\u001b[39mdtype(dtype) \u001b[38;5;241m!=\u001b[39m \u001b[38;5;28mself\u001b[39m\u001b[38;5;241m.\u001b[39mcategories\u001b[38;5;241m.\u001b[39mdtype:\n\u001b[1;32m-> 1662\u001b[0m     \u001b[38;5;28;01mreturn\u001b[39;00m \u001b[43mnp\u001b[49m\u001b[38;5;241;43m.\u001b[39;49m\u001b[43masarray\u001b[49m\u001b[43m(\u001b[49m\u001b[43mret\u001b[49m\u001b[43m,\u001b[49m\u001b[43m \u001b[49m\u001b[43mdtype\u001b[49m\u001b[43m)\u001b[49m\n\u001b[0;32m   1663\u001b[0m \u001b[38;5;66;03m# When we're a Categorical[ExtensionArray], like Interval,\u001b[39;00m\n\u001b[0;32m   1664\u001b[0m \u001b[38;5;66;03m# we need to ensure __array__ gets all the way to an\u001b[39;00m\n\u001b[0;32m   1665\u001b[0m \u001b[38;5;66;03m# ndarray.\u001b[39;00m\n\u001b[0;32m   1666\u001b[0m \u001b[38;5;28;01mreturn\u001b[39;00m np\u001b[38;5;241m.\u001b[39masarray(ret)\n",
      "\u001b[1;31mValueError\u001b[0m: could not convert string to float: 'Right'"
     ]
    }
   ],
   "source": [
    "numeric_cols = df.select_dtypes(exclude=[object])\n",
    "\n",
    "corr_matrix = numeric_cols.corr()\n",
    "\n",
    "corr_matrix['diagnosis_result']"
   ]
  },
  {
   "cell_type": "markdown",
   "id": "510ec67f-e640-4569-93a7-39fc7e180d67",
   "metadata": {},
   "source": [
    "## Data Preprocessing - Step 2"
   ]
  },
  {
   "cell_type": "markdown",
   "id": "9559bbe3-c2eb-439e-95f2-dad02ee3ad43",
   "metadata": {},
   "source": [
    "## Build a Validation Framework\n"
   ]
  },
  {
   "cell_type": "code",
   "execution_count": null,
   "id": "f73c2366-d6e5-411b-9734-adf1eca2566d",
   "metadata": {},
   "outputs": [],
   "source": [
    "## \n",
    "df_train_full , df_test = train_test_split(df, test_size=0.2, random_state=11) \n",
    "df_train, df_valid = train_test_split(df_train_full, test_size=0.25, random_state=11)\n",
    "\n",
    "\n",
    "print(f'Training dataset: {len(df_train)}')\n",
    "print(f'Validation dataset: {len(df_valid)}')\n",
    "print(f'Test dataset: {len(df_test)}')"
   ]
  },
  {
   "cell_type": "code",
   "execution_count": null,
   "id": "c42360ba-ade4-4bb7-b039-71a48c3f1882",
   "metadata": {},
   "outputs": [],
   "source": [
    "y_train = df_train['diagnosis_result'].values\n",
    "y_valid = df_valid['diagnosis_result'].values\n",
    "y_test = df_test['diagnosis_result'].values"
   ]
  },
  {
   "cell_type": "code",
   "execution_count": null,
   "id": "114453f7-8d33-4047-906b-e2269d16c7fc",
   "metadata": {},
   "outputs": [],
   "source": [
    "del df_train['diagnosis_result']\n",
    "del df_valid['diagnosis_result']\n",
    "del df_test['diagnosis_result']"
   ]
  },
  {
   "cell_type": "markdown",
   "id": "2ebf0951-859b-4de1-95dd-277435397ccf",
   "metadata": {},
   "source": [
    "## Feature Engineering \n",
    "- Dividing our data into numerical and categorical\n",
    "- perform the one-hot encoding"
   ]
  },
  {
   "cell_type": "code",
   "execution_count": null,
   "id": "55fa2936-3517-492a-85d0-bb35af9b56a3",
   "metadata": {},
   "outputs": [],
   "source": [
    "numerical_features = ['year','age','menopause','tumor_size','inv_nodes','metastasis','history']\n",
    "\n",
    "categorical_features = ['breast','breast_quadrant']"
   ]
  },
  {
   "cell_type": "code",
   "execution_count": null,
   "id": "2dfe53ee-1871-48ed-abdb-bce9cfd404f7",
   "metadata": {},
   "outputs": [],
   "source": [
    "## convert the dataframe into dict\n",
    "train_dict = df_train[categorical_features + numerical_features].to_dict(orient='records')\n",
    "\n",
    "valid_dict = df_valid[categorical_features + numerical_features].to_dict(orient='records')"
   ]
  },
  {
   "cell_type": "code",
   "execution_count": null,
   "id": "d4bdb2ca-fa97-4ece-acbd-fe6438e218ee",
   "metadata": {},
   "outputs": [],
   "source": [
    "dv = DictVectorizer(sparse=False)\n",
    "dv.fit(train_dict)"
   ]
  },
  {
   "cell_type": "code",
   "execution_count": null,
   "id": "90d2f17e-6e5f-4a41-8cb0-c1fabebc938f",
   "metadata": {},
   "outputs": [],
   "source": [
    "X_train = dv.transform(train_dict)\n",
    "\n",
    "X_valid = dv.transform(valid_dict)"
   ]
  },
  {
   "cell_type": "markdown",
   "id": "5a91aa7b-f783-4524-b5c2-1d0af6663bbb",
   "metadata": {},
   "source": [
    "## Training The Model"
   ]
  },
  {
   "cell_type": "code",
   "execution_count": null,
   "id": "87f18af2-0f60-4792-9db3-e039f62ee0de",
   "metadata": {},
   "outputs": [],
   "source": [
    "model = LogisticRegression(solver='liblinear', random_state=1)\n",
    "model.fit(X_train, y_train)"
   ]
  },
  {
   "cell_type": "code",
   "execution_count": null,
   "id": "56ddb733-0e3d-4537-b919-af38f62a1e0f",
   "metadata": {},
   "outputs": [],
   "source": [
    "y_valid_pred = model.predict_proba(X_valid)"
   ]
  },
  {
   "cell_type": "code",
   "execution_count": null,
   "id": "ceec4319-2a12-4bb8-a9bf-2c8520ee8bdd",
   "metadata": {},
   "outputs": [],
   "source": [
    "y_valid_pred"
   ]
  },
  {
   "cell_type": "code",
   "execution_count": null,
   "id": "586b229f-e326-42b9-8044-5419ee132292",
   "metadata": {},
   "outputs": [],
   "source": [
    "y_valid_pred = model.predict_proba(X_valid)[:, 1]"
   ]
  },
  {
   "cell_type": "code",
   "execution_count": null,
   "id": "73e12c33-2343-4db5-aaeb-26033a78db38",
   "metadata": {},
   "outputs": [],
   "source": [
    "diagnosis_result = y_valid_pred >= 0.5"
   ]
  },
  {
   "cell_type": "code",
   "execution_count": null,
   "id": "3bde3c83-4ed4-4cb1-9af2-38c8d4491a66",
   "metadata": {},
   "outputs": [],
   "source": [
    "(y_valid == diagnosis_result).mean()"
   ]
  },
  {
   "cell_type": "code",
   "execution_count": null,
   "id": "624297b6-4d15-4455-a67a-d2b3d83684f9",
   "metadata": {},
   "outputs": [],
   "source": [
    "acc_score = accuracy_score(y_valid, diagnosis_result)\n",
    "print(f'Validation Accuracy Score: {round(acc_score * 100, 1)}%')"
   ]
  },
  {
   "cell_type": "markdown",
   "id": "a6f310eb-95a4-4e3a-a1b5-2b4ffe009f0a",
   "metadata": {},
   "source": [
    "## Saving The Model"
   ]
  },
  {
   "cell_type": "code",
   "execution_count": null,
   "id": "e670802a-62bf-40b1-a5f4-85bc7b73adcc",
   "metadata": {},
   "outputs": [],
   "source": [
    "import pickle"
   ]
  },
  {
   "cell_type": "code",
   "execution_count": null,
   "id": "b47aa768-4980-4670-bc24-224503f38ca0",
   "metadata": {},
   "outputs": [],
   "source": [
    "## specifyging where to save the file\n",
    "with open('breast-cancer-model.bin', 'wb') as f_out:\n",
    "    ## save the model\n",
    "    pickle.dump((dv,model), f_out)"
   ]
  },
  {
   "cell_type": "markdown",
   "id": "ce43280c-1e20-4ff1-9b81-9229a435abc3",
   "metadata": {},
   "source": [
    "## Loading The Model"
   ]
  },
  {
   "cell_type": "code",
   "execution_count": null,
   "id": "e735da87-31c3-4fa6-91ad-927f81055735",
   "metadata": {},
   "outputs": [],
   "source": [
    "with open('breast-cancer-model.bin', 'rb') as f_in:\n",
    "    dv, model = pickle.load(f_in)"
   ]
  },
  {
   "cell_type": "code",
   "execution_count": null,
   "id": "36af4efe-02ec-4673-82a0-ba697b547975",
   "metadata": {},
   "outputs": [],
   "source": [
    "## patient Data here\n",
    "patient = {\n",
    " 's/n': 0,\n",
    " 'year': 2019,\n",
    " 'age': 40,\n",
    " 'menopause': 0,\n",
    " 'tumor_size': 10.0,\n",
    " 'inv_nodes': 0.0,\n",
    " 'breast': 'Right',    \n",
    " 'metastasis': 0,\n",
    " 'breast_quadrant': 'Upper inner',\n",
    " 'history': 1,\n",
    "}"
   ]
  },
  {
   "cell_type": "code",
   "execution_count": null,
   "id": "71db2669-6d8b-4c1d-a4e9-cd9501cacc2f",
   "metadata": {},
   "outputs": [],
   "source": [
    "def predict_single(df, dv, model):\n",
    "    X = dv.transform([patient])\n",
    "    y_pred = model.predict_proba(X)[:,1]\n",
    "    return y_pred[0]"
   ]
  },
  {
   "cell_type": "code",
   "execution_count": null,
   "id": "7697ad16-752a-4674-960c-9aa090d3db6c",
   "metadata": {},
   "outputs": [],
   "source": [
    "prediction = predict_single(patient, dv, model)"
   ]
  },
  {
   "cell_type": "code",
   "execution_count": null,
   "id": "f9ef23e5-76ec-4511-9206-d096fff770bd",
   "metadata": {},
   "outputs": [],
   "source": [
    "print(f'{prediction}')"
   ]
  },
  {
   "cell_type": "code",
   "execution_count": null,
   "id": "0e4fa150-7adf-4659-8510-83db5ff81b96",
   "metadata": {},
   "outputs": [],
   "source": [
    "if prediction >= 0.5:\n",
    "    print('verdict: Positive')\n",
    "else:\n",
    "    print('verdict: Nagative')"
   ]
  },
  {
   "cell_type": "code",
   "execution_count": null,
   "id": "1f9be393-e231-414c-839d-69e54269185c",
   "metadata": {},
   "outputs": [],
   "source": []
  }
 ],
 "metadata": {
  "kernelspec": {
   "display_name": "Python 3 (ipykernel)",
   "language": "python",
   "name": "python3"
  },
  "language_info": {
   "codemirror_mode": {
    "name": "ipython",
    "version": 3
   },
   "file_extension": ".py",
   "mimetype": "text/x-python",
   "name": "python",
   "nbconvert_exporter": "python",
   "pygments_lexer": "ipython3",
   "version": "3.11.3"
  }
 },
 "nbformat": 4,
 "nbformat_minor": 5
}
