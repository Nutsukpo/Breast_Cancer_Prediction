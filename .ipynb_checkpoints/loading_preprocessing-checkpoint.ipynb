{
 "cells": [
  {
   "cell_type": "markdown",
   "id": "d08aaddd-d129-45b0-9938-753e1b863b88",
   "metadata": {},
   "source": [
    "## Import libraries"
   ]
  },
  {
   "cell_type": "code",
   "execution_count": 1,
   "id": "7362accb-2e29-4d25-bb48-270cf195fee0",
   "metadata": {},
   "outputs": [],
   "source": [
    "import numpy as np\n",
    "import pandas as pd "
   ]
  },
  {
   "cell_type": "markdown",
   "id": "defaa0c1-3078-47a5-aec8-4c2b1537c32e",
   "metadata": {},
   "source": [
    "## Download dataset for data preprocessing"
   ]
  },
  {
   "cell_type": "code",
   "execution_count": 2,
   "id": "7380cd19-37e5-4d72-bc47-a16f1dbc5c20",
   "metadata": {},
   "outputs": [],
   "source": [
    "data = pd.read_csv(\"Dataset/breast-cancer-dataset.csv\")\n",
    "## \n",
    "df = data.copy()"
   ]
  },
  {
   "cell_type": "markdown",
   "id": "66b267d2-b761-4a5c-95b7-96d796279758",
   "metadata": {},
   "source": [
    "## Data Preprocessing\n",
    "- Normalize the column names\n",
    "- Drop the s/n column\n",
    "- Replace special caracters (#) with NaN\n",
    "- Fill all NaN values\n",
    "- Replace categorical columns(diagnosis_result) with integers\n"
   ]
  },
  {
   "cell_type": "code",
   "execution_count": 3,
   "id": "aaf32fd5-fca9-4c99-bc0a-2101331afdf9",
   "metadata": {},
   "outputs": [
    {
     "data": {
      "text/plain": [
       "Index(['s/n', 'year', 'age', 'menopause', 'tumor_size_(cm)', 'inv_nodes',\n",
       "       'breast', 'metastasis', 'breast_quadrant', 'history',\n",
       "       'diagnosis_result'],\n",
       "      dtype='object')"
      ]
     },
     "execution_count": 3,
     "metadata": {},
     "output_type": "execute_result"
    }
   ],
   "source": [
    "df.columns = df.columns.str.lower().str.replace(' ', '_').str.replace('-','_')\n",
    "df.columns"
   ]
  },
  {
   "cell_type": "code",
   "execution_count": 4,
   "id": "144b4900-d69d-4b30-b52d-bb199a6feddd",
   "metadata": {},
   "outputs": [
    {
     "data": {
      "text/plain": [
       "Index(['s/n', 'year', 'age', 'menopause', 'tumor_size', 'inv_nodes', 'breast',\n",
       "       'metastasis', 'breast_quadrant', 'history', 'diagnosis_result'],\n",
       "      dtype='object')"
      ]
     },
     "execution_count": 4,
     "metadata": {},
     "output_type": "execute_result"
    }
   ],
   "source": [
    "df.columns = df.columns.str.replace('_(cm)', '')\n",
    "df.columns"
   ]
  },
  {
   "cell_type": "code",
   "execution_count": 5,
   "id": "148fbcee-3933-48d6-a4b2-ec9c23f4eb88",
   "metadata": {},
   "outputs": [],
   "source": [
    "df = df.drop(['s/n'], axis=1)"
   ]
  },
  {
   "cell_type": "code",
   "execution_count": 6,
   "id": "40564e0c-b74c-4422-9e75-ece98f0cee12",
   "metadata": {},
   "outputs": [
    {
     "name": "stdout",
     "output_type": "stream",
     "text": [
      "['2019' '#' '2020']\n",
      "[40 39 45 26 21 50 58 35 42 41 43 30 33 38 60 47 57 34 31 36 56 48 61 20\n",
      " 37 27 25 17 23 59 67 46 24 49 53 28 68 64 18 14 15 54 71 55 22 65 19 52\n",
      " 51 44 63 29 32 62 69 13 16 77]\n",
      "[1 0]\n",
      "['2' '4' '3' '1' '5' '6' '7' '10' '8' '9' '#' '14' '12']\n",
      "['0' '1' '#' '3']\n",
      "['Right' 'Left' '#']\n",
      "['0' '1' '#']\n",
      "['Upper inner' 'Upper outer' 'Lower outer' 'Lower inner' '#'\n",
      " 'Upper outer ']\n",
      "['0' '1' '#']\n",
      "['Benign' 'Malignant']\n"
     ]
    }
   ],
   "source": [
    "for col in df:\n",
    "  print(df[col].unique())"
   ]
  },
  {
   "cell_type": "code",
   "execution_count": 7,
   "id": "2cf676c2-ecbf-401c-a463-8d5d7b8ab350",
   "metadata": {},
   "outputs": [
    {
     "name": "stdout",
     "output_type": "stream",
     "text": [
      "year\n",
      "age\n",
      "menopause\n",
      "tumor_size\n",
      "inv_nodes\n",
      "breast\n",
      "metastasis\n",
      "breast_quadrant\n",
      "history\n",
      "diagnosis_result\n"
     ]
    }
   ],
   "source": [
    "for col in df:\n",
    "  print (col)"
   ]
  },
  {
   "cell_type": "code",
   "execution_count": 8,
   "id": "140ea0d2-f697-4632-8916-281a43736408",
   "metadata": {},
   "outputs": [],
   "source": [
    "## replacing unsual caracters with NaN\n",
    "df['year'] = df['year'].replace('#', np.nan)"
   ]
  },
  {
   "cell_type": "code",
   "execution_count": 9,
   "id": "d8469f23-4c2e-4def-a05f-5f6869938839",
   "metadata": {},
   "outputs": [],
   "source": [
    "df['tumor_size'] = df['tumor_size'].replace('#', np.nan)"
   ]
  },
  {
   "cell_type": "code",
   "execution_count": 10,
   "id": "c76beff6-cf36-4b96-896e-9799f462426b",
   "metadata": {},
   "outputs": [],
   "source": [
    "df['inv_nodes'] = df['inv_nodes'].replace('#', np.nan)"
   ]
  },
  {
   "cell_type": "code",
   "execution_count": 11,
   "id": "ec21a916-305e-4899-a08a-cf181aacc63a",
   "metadata": {},
   "outputs": [],
   "source": [
    "df['breast'] = df['breast'].replace('#', np.nan)"
   ]
  },
  {
   "cell_type": "code",
   "execution_count": 12,
   "id": "45178e9a-209c-4249-b05a-92889778cbd7",
   "metadata": {},
   "outputs": [],
   "source": [
    "df['metastasis'] = df['metastasis'].replace('#', np.nan)"
   ]
  },
  {
   "cell_type": "code",
   "execution_count": 13,
   "id": "348546aa-4b8b-42b3-8b65-7db63a8637dc",
   "metadata": {},
   "outputs": [],
   "source": [
    "df['breast_quadrant'] = df['breast_quadrant'].replace('#', np.nan)"
   ]
  },
  {
   "cell_type": "code",
   "execution_count": 14,
   "id": "f8111889-bed2-47aa-b6ff-c69dfbcd9fc8",
   "metadata": {},
   "outputs": [],
   "source": [
    "df['history'] = df['history'].replace('#', np.nan)"
   ]
  },
  {
   "cell_type": "code",
   "execution_count": 15,
   "id": "ca2bf327-de04-4387-b6a0-db19cadb5985",
   "metadata": {},
   "outputs": [
    {
     "data": {
      "text/plain": [
       "year                1\n",
       "age                 0\n",
       "menopause           0\n",
       "tumor_size          1\n",
       "inv_nodes           1\n",
       "breast              6\n",
       "metastasis          1\n",
       "breast_quadrant     2\n",
       "history             2\n",
       "diagnosis_result    0\n",
       "dtype: int64"
      ]
     },
     "execution_count": 15,
     "metadata": {},
     "output_type": "execute_result"
    }
   ],
   "source": [
    "df.isnull().sum()"
   ]
  },
  {
   "cell_type": "code",
   "execution_count": 16,
   "id": "5f282556-e555-4fab-b4ef-c60b729e40d7",
   "metadata": {},
   "outputs": [
    {
     "data": {
      "text/plain": [
       "year\n",
       "2020    111\n",
       "2019    101\n",
       "Name: count, dtype: int64"
      ]
     },
     "execution_count": 16,
     "metadata": {},
     "output_type": "execute_result"
    }
   ],
   "source": [
    "## target variable \n",
    "df.year.value_counts()"
   ]
  },
  {
   "cell_type": "code",
   "execution_count": 17,
   "id": "7a1ebe07-763a-492e-8a70-f69708b89fe3",
   "metadata": {},
   "outputs": [],
   "source": [
    "## convert the year column type to float\n",
    "df['year'] = df['year'].astype('float')"
   ]
  },
  {
   "cell_type": "code",
   "execution_count": 18,
   "id": "cec514ce-dc1d-4eab-a0bf-85bd493ac38b",
   "metadata": {},
   "outputs": [],
   "source": [
    "df['year'] = df['year'].fillna(df['year'].mean())"
   ]
  },
  {
   "cell_type": "code",
   "execution_count": 19,
   "id": "5e53e90b-0cbb-4dc0-9ce6-76e1b6ba32e8",
   "metadata": {},
   "outputs": [
    {
     "data": {
      "text/plain": [
       "tumor_size\n",
       "3     34\n",
       "2     32\n",
       "4     32\n",
       "1     29\n",
       "5     27\n",
       "6     17\n",
       "7     14\n",
       "8     11\n",
       "10     7\n",
       "9      7\n",
       "14     1\n",
       "12     1\n",
       "Name: count, dtype: int64"
      ]
     },
     "execution_count": 19,
     "metadata": {},
     "output_type": "execute_result"
    }
   ],
   "source": [
    "df.tumor_size.value_counts()"
   ]
  },
  {
   "cell_type": "code",
   "execution_count": 20,
   "id": "a483a5bd-ca0b-474b-b57e-b261efae85c6",
   "metadata": {},
   "outputs": [],
   "source": [
    "## convert the year column type to float\n",
    "df['tumor_size'] = df['tumor_size'].astype('float')"
   ]
  },
  {
   "cell_type": "code",
   "execution_count": 21,
   "id": "9160003c-9b03-4056-b1af-da8f0ccba279",
   "metadata": {},
   "outputs": [],
   "source": [
    "df['tumor_size'] = df['tumor_size'].fillna(df['tumor_size'].mean())"
   ]
  },
  {
   "cell_type": "code",
   "execution_count": 22,
   "id": "36c54bde-77ce-4e8f-94ae-529b42a5014d",
   "metadata": {},
   "outputs": [
    {
     "data": {
      "text/plain": [
       "inv_nodes\n",
       "0    139\n",
       "1     72\n",
       "3      1\n",
       "Name: count, dtype: int64"
      ]
     },
     "execution_count": 22,
     "metadata": {},
     "output_type": "execute_result"
    }
   ],
   "source": [
    "df.inv_nodes.value_counts()"
   ]
  },
  {
   "cell_type": "code",
   "execution_count": 23,
   "id": "592e4f2f-e1a0-4d73-9d6e-ba8d86531e0e",
   "metadata": {},
   "outputs": [],
   "source": [
    "## convert the year column type to float\n",
    "df['inv_nodes'] = df['inv_nodes'].astype('float')"
   ]
  },
  {
   "cell_type": "code",
   "execution_count": 24,
   "id": "ac8bd6a4-b55e-42fc-80fb-61cf878d972b",
   "metadata": {},
   "outputs": [],
   "source": [
    "df.inv_nodes = df.inv_nodes.fillna(0)"
   ]
  },
  {
   "cell_type": "code",
   "execution_count": 25,
   "id": "80cb62c3-6f53-478c-adfa-814bbcd3e1aa",
   "metadata": {},
   "outputs": [
    {
     "data": {
      "text/plain": [
       "breast\n",
       "Left     107\n",
       "Right    100\n",
       "Name: count, dtype: int64"
      ]
     },
     "execution_count": 25,
     "metadata": {},
     "output_type": "execute_result"
    }
   ],
   "source": [
    "df.breast.value_counts()"
   ]
  },
  {
   "cell_type": "code",
   "execution_count": 26,
   "id": "b1a62525-26be-4374-bee5-f19edd73a085",
   "metadata": {},
   "outputs": [],
   "source": [
    "df.breast = df.breast.fillna('Right')"
   ]
  },
  {
   "cell_type": "code",
   "execution_count": 27,
   "id": "faaa4a88-8ea5-48d8-af9e-04901d509237",
   "metadata": {},
   "outputs": [
    {
     "data": {
      "text/plain": [
       "metastasis\n",
       "0    139\n",
       "1     73\n",
       "Name: count, dtype: int64"
      ]
     },
     "execution_count": 27,
     "metadata": {},
     "output_type": "execute_result"
    }
   ],
   "source": [
    "df.metastasis.value_counts()"
   ]
  },
  {
   "cell_type": "code",
   "execution_count": 28,
   "id": "d6544d1c-2fd7-47d1-a3a0-3e6104b2d37f",
   "metadata": {},
   "outputs": [],
   "source": [
    "df.metastasis = df.metastasis.fillna(0)"
   ]
  },
  {
   "cell_type": "code",
   "execution_count": 29,
   "id": "4c89e008-5c7c-472e-9569-936a6025c492",
   "metadata": {},
   "outputs": [
    {
     "data": {
      "text/plain": [
       "breast_quadrant\n",
       "Upper outer     67\n",
       "Lower outer     54\n",
       "Upper inner     45\n",
       "Lower inner     44\n",
       "Upper outer      1\n",
       "Name: count, dtype: int64"
      ]
     },
     "execution_count": 29,
     "metadata": {},
     "output_type": "execute_result"
    }
   ],
   "source": [
    "df.breast_quadrant.value_counts()"
   ]
  },
  {
   "cell_type": "code",
   "execution_count": 30,
   "id": "04a101a8-741f-45f5-bc07-94659f52b922",
   "metadata": {},
   "outputs": [],
   "source": [
    "df.breast_quadrant = df.breast_quadrant.fillna('Upper outer')"
   ]
  },
  {
   "cell_type": "code",
   "execution_count": 31,
   "id": "d70484ec-060b-430a-99e0-9f54c9f07b5f",
   "metadata": {},
   "outputs": [
    {
     "data": {
      "text/plain": [
       "history\n",
       "0    124\n",
       "1     87\n",
       "Name: count, dtype: int64"
      ]
     },
     "execution_count": 31,
     "metadata": {},
     "output_type": "execute_result"
    }
   ],
   "source": [
    "df.history.value_counts()"
   ]
  },
  {
   "cell_type": "code",
   "execution_count": 32,
   "id": "3953401e-c625-4dc7-8b7a-8121923ff7f2",
   "metadata": {},
   "outputs": [],
   "source": [
    "df.history = df.history.fillna(0)"
   ]
  },
  {
   "cell_type": "code",
   "execution_count": 33,
   "id": "40f03a4c-dd75-4e98-b706-6fac9137aad0",
   "metadata": {},
   "outputs": [
    {
     "data": {
      "text/plain": [
       "year                0\n",
       "age                 0\n",
       "menopause           0\n",
       "tumor_size          0\n",
       "inv_nodes           0\n",
       "breast              0\n",
       "metastasis          0\n",
       "breast_quadrant     0\n",
       "history             0\n",
       "diagnosis_result    0\n",
       "dtype: int64"
      ]
     },
     "execution_count": 33,
     "metadata": {},
     "output_type": "execute_result"
    }
   ],
   "source": [
    "df.isnull().sum()"
   ]
  },
  {
   "cell_type": "code",
   "execution_count": 34,
   "id": "af560aa6-90a5-48c9-9cd1-a7b14c598f6a",
   "metadata": {},
   "outputs": [
    {
     "data": {
      "text/html": [
       "<div>\n",
       "<style scoped>\n",
       "    .dataframe tbody tr th:only-of-type {\n",
       "        vertical-align: middle;\n",
       "    }\n",
       "\n",
       "    .dataframe tbody tr th {\n",
       "        vertical-align: top;\n",
       "    }\n",
       "\n",
       "    .dataframe thead th {\n",
       "        text-align: right;\n",
       "    }\n",
       "</style>\n",
       "<table border=\"1\" class=\"dataframe\">\n",
       "  <thead>\n",
       "    <tr style=\"text-align: right;\">\n",
       "      <th></th>\n",
       "      <th>year</th>\n",
       "      <th>age</th>\n",
       "      <th>menopause</th>\n",
       "      <th>tumor_size</th>\n",
       "      <th>inv_nodes</th>\n",
       "      <th>breast</th>\n",
       "      <th>metastasis</th>\n",
       "      <th>breast_quadrant</th>\n",
       "      <th>history</th>\n",
       "      <th>diagnosis_result</th>\n",
       "    </tr>\n",
       "  </thead>\n",
       "  <tbody>\n",
       "    <tr>\n",
       "      <th>0</th>\n",
       "      <td>2019.0</td>\n",
       "      <td>40</td>\n",
       "      <td>1</td>\n",
       "      <td>2.0</td>\n",
       "      <td>0.0</td>\n",
       "      <td>Right</td>\n",
       "      <td>0</td>\n",
       "      <td>Upper inner</td>\n",
       "      <td>0</td>\n",
       "      <td>Benign</td>\n",
       "    </tr>\n",
       "    <tr>\n",
       "      <th>1</th>\n",
       "      <td>2019.0</td>\n",
       "      <td>39</td>\n",
       "      <td>1</td>\n",
       "      <td>2.0</td>\n",
       "      <td>0.0</td>\n",
       "      <td>Left</td>\n",
       "      <td>0</td>\n",
       "      <td>Upper outer</td>\n",
       "      <td>0</td>\n",
       "      <td>Benign</td>\n",
       "    </tr>\n",
       "    <tr>\n",
       "      <th>2</th>\n",
       "      <td>2019.0</td>\n",
       "      <td>45</td>\n",
       "      <td>0</td>\n",
       "      <td>4.0</td>\n",
       "      <td>0.0</td>\n",
       "      <td>Left</td>\n",
       "      <td>0</td>\n",
       "      <td>Lower outer</td>\n",
       "      <td>0</td>\n",
       "      <td>Benign</td>\n",
       "    </tr>\n",
       "    <tr>\n",
       "      <th>3</th>\n",
       "      <td>2019.0</td>\n",
       "      <td>26</td>\n",
       "      <td>1</td>\n",
       "      <td>3.0</td>\n",
       "      <td>0.0</td>\n",
       "      <td>Left</td>\n",
       "      <td>0</td>\n",
       "      <td>Lower inner</td>\n",
       "      <td>1</td>\n",
       "      <td>Benign</td>\n",
       "    </tr>\n",
       "    <tr>\n",
       "      <th>4</th>\n",
       "      <td>2019.0</td>\n",
       "      <td>21</td>\n",
       "      <td>1</td>\n",
       "      <td>1.0</td>\n",
       "      <td>0.0</td>\n",
       "      <td>Right</td>\n",
       "      <td>0</td>\n",
       "      <td>Upper outer</td>\n",
       "      <td>1</td>\n",
       "      <td>Benign</td>\n",
       "    </tr>\n",
       "  </tbody>\n",
       "</table>\n",
       "</div>"
      ],
      "text/plain": [
       "     year  age  menopause  tumor_size  inv_nodes breast metastasis  \\\n",
       "0  2019.0   40          1         2.0        0.0  Right          0   \n",
       "1  2019.0   39          1         2.0        0.0   Left          0   \n",
       "2  2019.0   45          0         4.0        0.0   Left          0   \n",
       "3  2019.0   26          1         3.0        0.0   Left          0   \n",
       "4  2019.0   21          1         1.0        0.0  Right          0   \n",
       "\n",
       "  breast_quadrant history diagnosis_result  \n",
       "0     Upper inner       0           Benign  \n",
       "1     Upper outer       0           Benign  \n",
       "2     Lower outer       0           Benign  \n",
       "3     Lower inner       1           Benign  \n",
       "4     Upper outer       1           Benign  "
      ]
     },
     "execution_count": 34,
     "metadata": {},
     "output_type": "execute_result"
    }
   ],
   "source": [
    "df.head()"
   ]
  },
  {
   "cell_type": "code",
   "execution_count": 35,
   "id": "c711d877-c528-4f9f-b5c6-2d4549c58062",
   "metadata": {},
   "outputs": [],
   "source": [
    "## convert the year column type to float\n",
    "## df['metastasis'] = df['metastasis'].astype('int64')"
   ]
  },
  {
   "cell_type": "code",
   "execution_count": 36,
   "id": "85790efe-c7d9-4057-b45e-f9f652b672a4",
   "metadata": {},
   "outputs": [],
   "source": [
    "## convert the year column type to float\n",
    "## df['history'] = df['history'].astype('category')"
   ]
  },
  {
   "cell_type": "code",
   "execution_count": 37,
   "id": "1b90e40e-b0be-4c69-bba0-be15189d11e7",
   "metadata": {},
   "outputs": [],
   "source": [
    "## convert the year column type to float\n",
    "## df['year'] = df['year'].astype('int64')"
   ]
  },
  {
   "cell_type": "code",
   "execution_count": 38,
   "id": "767e3493-e49b-4e6e-8eb5-3c2536f99bfe",
   "metadata": {},
   "outputs": [],
   "source": [
    "## convert the year column type to float\n",
    "## df['menopause'] = df['menopause'].astype('category')"
   ]
  },
  {
   "cell_type": "code",
   "execution_count": 39,
   "id": "d4523b5b-1263-4343-aca4-3d2add93afea",
   "metadata": {},
   "outputs": [],
   "source": [
    "## convert the year column type to float\n",
    "## df['breast'] = df['breast'].astype('category')"
   ]
  },
  {
   "cell_type": "code",
   "execution_count": 40,
   "id": "5c9f1564-3e53-474a-b3cc-71f839092ace",
   "metadata": {},
   "outputs": [
    {
     "data": {
      "text/plain": [
       "0    Benign\n",
       "1    Benign\n",
       "2    Benign\n",
       "3    Benign\n",
       "4    Benign\n",
       "Name: diagnosis_result, dtype: object"
      ]
     },
     "execution_count": 40,
     "metadata": {},
     "output_type": "execute_result"
    }
   ],
   "source": [
    "df.diagnosis_result.head()"
   ]
  },
  {
   "cell_type": "code",
   "execution_count": 41,
   "id": "657304fd-6812-46d1-ac7f-e612f40ca46a",
   "metadata": {},
   "outputs": [
    {
     "data": {
      "text/plain": [
       "diagnosis_result\n",
       "Benign       120\n",
       "Malignant     93\n",
       "Name: count, dtype: int64"
      ]
     },
     "execution_count": 41,
     "metadata": {},
     "output_type": "execute_result"
    }
   ],
   "source": [
    "df.diagnosis_result.value_counts()"
   ]
  },
  {
   "cell_type": "code",
   "execution_count": 42,
   "id": "2eff78dd-2345-4f1b-801f-e47906a8cbbd",
   "metadata": {},
   "outputs": [],
   "source": [
    "df.diagnosis_result = (df.diagnosis_result == 'Malignant').astype(int)"
   ]
  },
  {
   "cell_type": "code",
   "execution_count": 43,
   "id": "a64e6afa-11c0-49c7-b59f-094265e783ee",
   "metadata": {},
   "outputs": [
    {
     "data": {
      "text/plain": [
       "0    0\n",
       "1    0\n",
       "2    0\n",
       "3    0\n",
       "4    0\n",
       "Name: diagnosis_result, dtype: int32"
      ]
     },
     "execution_count": 43,
     "metadata": {},
     "output_type": "execute_result"
    }
   ],
   "source": [
    "df.diagnosis_result.head()"
   ]
  },
  {
   "cell_type": "code",
   "execution_count": 44,
   "id": "64030cb7-b548-4e3b-8cf0-b075b69cc93e",
   "metadata": {},
   "outputs": [
    {
     "data": {
      "text/plain": [
       "0    0\n",
       "1    0\n",
       "2    0\n",
       "3    0\n",
       "4    0\n",
       "Name: diagnosis_result, dtype: int32"
      ]
     },
     "execution_count": 44,
     "metadata": {},
     "output_type": "execute_result"
    }
   ],
   "source": [
    "df.diagnosis_result.head()"
   ]
  },
  {
   "cell_type": "code",
   "execution_count": 45,
   "id": "d168fe88-7468-4138-80f2-ad26ba247af0",
   "metadata": {},
   "outputs": [
    {
     "data": {
      "text/html": [
       "<div>\n",
       "<style scoped>\n",
       "    .dataframe tbody tr th:only-of-type {\n",
       "        vertical-align: middle;\n",
       "    }\n",
       "\n",
       "    .dataframe tbody tr th {\n",
       "        vertical-align: top;\n",
       "    }\n",
       "\n",
       "    .dataframe thead th {\n",
       "        text-align: right;\n",
       "    }\n",
       "</style>\n",
       "<table border=\"1\" class=\"dataframe\">\n",
       "  <thead>\n",
       "    <tr style=\"text-align: right;\">\n",
       "      <th></th>\n",
       "      <th>year</th>\n",
       "      <th>age</th>\n",
       "      <th>menopause</th>\n",
       "      <th>tumor_size</th>\n",
       "      <th>inv_nodes</th>\n",
       "      <th>breast</th>\n",
       "      <th>metastasis</th>\n",
       "      <th>breast_quadrant</th>\n",
       "      <th>history</th>\n",
       "      <th>diagnosis_result</th>\n",
       "    </tr>\n",
       "  </thead>\n",
       "  <tbody>\n",
       "    <tr>\n",
       "      <th>0</th>\n",
       "      <td>2019.0</td>\n",
       "      <td>40</td>\n",
       "      <td>1</td>\n",
       "      <td>2.0</td>\n",
       "      <td>0.0</td>\n",
       "      <td>Right</td>\n",
       "      <td>0</td>\n",
       "      <td>Upper inner</td>\n",
       "      <td>0</td>\n",
       "      <td>0</td>\n",
       "    </tr>\n",
       "    <tr>\n",
       "      <th>1</th>\n",
       "      <td>2019.0</td>\n",
       "      <td>39</td>\n",
       "      <td>1</td>\n",
       "      <td>2.0</td>\n",
       "      <td>0.0</td>\n",
       "      <td>Left</td>\n",
       "      <td>0</td>\n",
       "      <td>Upper outer</td>\n",
       "      <td>0</td>\n",
       "      <td>0</td>\n",
       "    </tr>\n",
       "    <tr>\n",
       "      <th>2</th>\n",
       "      <td>2019.0</td>\n",
       "      <td>45</td>\n",
       "      <td>0</td>\n",
       "      <td>4.0</td>\n",
       "      <td>0.0</td>\n",
       "      <td>Left</td>\n",
       "      <td>0</td>\n",
       "      <td>Lower outer</td>\n",
       "      <td>0</td>\n",
       "      <td>0</td>\n",
       "    </tr>\n",
       "    <tr>\n",
       "      <th>3</th>\n",
       "      <td>2019.0</td>\n",
       "      <td>26</td>\n",
       "      <td>1</td>\n",
       "      <td>3.0</td>\n",
       "      <td>0.0</td>\n",
       "      <td>Left</td>\n",
       "      <td>0</td>\n",
       "      <td>Lower inner</td>\n",
       "      <td>1</td>\n",
       "      <td>0</td>\n",
       "    </tr>\n",
       "    <tr>\n",
       "      <th>4</th>\n",
       "      <td>2019.0</td>\n",
       "      <td>21</td>\n",
       "      <td>1</td>\n",
       "      <td>1.0</td>\n",
       "      <td>0.0</td>\n",
       "      <td>Right</td>\n",
       "      <td>0</td>\n",
       "      <td>Upper outer</td>\n",
       "      <td>1</td>\n",
       "      <td>0</td>\n",
       "    </tr>\n",
       "  </tbody>\n",
       "</table>\n",
       "</div>"
      ],
      "text/plain": [
       "     year  age  menopause  tumor_size  inv_nodes breast metastasis  \\\n",
       "0  2019.0   40          1         2.0        0.0  Right          0   \n",
       "1  2019.0   39          1         2.0        0.0   Left          0   \n",
       "2  2019.0   45          0         4.0        0.0   Left          0   \n",
       "3  2019.0   26          1         3.0        0.0   Left          0   \n",
       "4  2019.0   21          1         1.0        0.0  Right          0   \n",
       "\n",
       "  breast_quadrant history  diagnosis_result  \n",
       "0     Upper inner       0                 0  \n",
       "1     Upper outer       0                 0  \n",
       "2     Lower outer       0                 0  \n",
       "3     Lower inner       1                 0  \n",
       "4     Upper outer       1                 0  "
      ]
     },
     "execution_count": 45,
     "metadata": {},
     "output_type": "execute_result"
    }
   ],
   "source": [
    "df.head()"
   ]
  },
  {
   "cell_type": "code",
   "execution_count": 46,
   "id": "bcd27b84-3fab-4ff2-b494-f96d44e7b502",
   "metadata": {},
   "outputs": [],
   "source": [
    "## saving the cleaned loan dataset\n",
    "df.to_csv(\"Dataset/cleaned_breast_cancer_dataset.csv\")"
   ]
  }
 ],
 "metadata": {
  "kernelspec": {
   "display_name": "Python 3 (ipykernel)",
   "language": "python",
   "name": "python3"
  },
  "language_info": {
   "codemirror_mode": {
    "name": "ipython",
    "version": 3
   },
   "file_extension": ".py",
   "mimetype": "text/x-python",
   "name": "python",
   "nbconvert_exporter": "python",
   "pygments_lexer": "ipython3",
   "version": "3.11.3"
  }
 },
 "nbformat": 4,
 "nbformat_minor": 5
}
