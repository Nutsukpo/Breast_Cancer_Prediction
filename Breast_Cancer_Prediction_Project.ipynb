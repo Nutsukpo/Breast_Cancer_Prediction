{
 "cells": [
  {
   "cell_type": "markdown",
   "id": "d08aaddd-d129-45b0-9938-753e1b863b88",
   "metadata": {},
   "source": [
    "## IMPORTATION OF LIBRARIES "
   ]
  },
  {
   "cell_type": "code",
   "execution_count": 37,
   "id": "7362accb-2e29-4d25-bb48-270cf195fee0",
   "metadata": {},
   "outputs": [],
   "source": [
    "import numpy as np\n",
    "import pandas as pd \n",
    "\n",
    "import matplotlib.pyplot as plt\n",
    "import seaborn as sns\n",
    "\n",
    "from sklearn.model_selection import train_test_split\n",
    "from sklearn.feature_extraction import DictVectorizer\n",
    "from sklearn.linear_model import LogisticRegression\n",
    "from sklearn.metrics import accuracy_score\n",
    "import pickle"
   ]
  },
  {
   "cell_type": "markdown",
   "id": "5385a9cf-521c-4fd2-aefe-0de23cec5cd2",
   "metadata": {},
   "source": [
    "# LOADING AND OVERVIEW OF DATASET \t                                                            "
   ]
  },
  {
   "cell_type": "code",
   "execution_count": 38,
   "id": "37478b3d-7de6-4f85-958e-e03c86fec84d",
   "metadata": {},
   "outputs": [],
   "source": [
    "data = pd.read_csv(\"Dataset/breast-cancer-dataset.csv\")\n",
    "## \n",
    "df = data.copy()"
   ]
  },
  {
   "cell_type": "code",
   "execution_count": 39,
   "id": "8c06b244-7423-4d30-b7e2-ffa33d6a6eb9",
   "metadata": {},
   "outputs": [
    {
     "data": {
      "text/html": [
       "<div>\n",
       "<style scoped>\n",
       "    .dataframe tbody tr th:only-of-type {\n",
       "        vertical-align: middle;\n",
       "    }\n",
       "\n",
       "    .dataframe tbody tr th {\n",
       "        vertical-align: top;\n",
       "    }\n",
       "\n",
       "    .dataframe thead th {\n",
       "        text-align: right;\n",
       "    }\n",
       "</style>\n",
       "<table border=\"1\" class=\"dataframe\">\n",
       "  <thead>\n",
       "    <tr style=\"text-align: right;\">\n",
       "      <th></th>\n",
       "      <th>S/N</th>\n",
       "      <th>Year</th>\n",
       "      <th>Age</th>\n",
       "      <th>Menopause</th>\n",
       "      <th>Tumor Size (cm)</th>\n",
       "      <th>Inv-Nodes</th>\n",
       "      <th>Breast</th>\n",
       "      <th>Metastasis</th>\n",
       "      <th>Breast Quadrant</th>\n",
       "      <th>History</th>\n",
       "      <th>Diagnosis Result</th>\n",
       "    </tr>\n",
       "  </thead>\n",
       "  <tbody>\n",
       "    <tr>\n",
       "      <th>0</th>\n",
       "      <td>1</td>\n",
       "      <td>2019</td>\n",
       "      <td>40</td>\n",
       "      <td>1</td>\n",
       "      <td>2</td>\n",
       "      <td>0</td>\n",
       "      <td>Right</td>\n",
       "      <td>0</td>\n",
       "      <td>Upper inner</td>\n",
       "      <td>0</td>\n",
       "      <td>Benign</td>\n",
       "    </tr>\n",
       "    <tr>\n",
       "      <th>1</th>\n",
       "      <td>2</td>\n",
       "      <td>2019</td>\n",
       "      <td>39</td>\n",
       "      <td>1</td>\n",
       "      <td>2</td>\n",
       "      <td>0</td>\n",
       "      <td>Left</td>\n",
       "      <td>0</td>\n",
       "      <td>Upper outer</td>\n",
       "      <td>0</td>\n",
       "      <td>Benign</td>\n",
       "    </tr>\n",
       "    <tr>\n",
       "      <th>2</th>\n",
       "      <td>3</td>\n",
       "      <td>2019</td>\n",
       "      <td>45</td>\n",
       "      <td>0</td>\n",
       "      <td>4</td>\n",
       "      <td>0</td>\n",
       "      <td>Left</td>\n",
       "      <td>0</td>\n",
       "      <td>Lower outer</td>\n",
       "      <td>0</td>\n",
       "      <td>Benign</td>\n",
       "    </tr>\n",
       "    <tr>\n",
       "      <th>3</th>\n",
       "      <td>4</td>\n",
       "      <td>2019</td>\n",
       "      <td>26</td>\n",
       "      <td>1</td>\n",
       "      <td>3</td>\n",
       "      <td>0</td>\n",
       "      <td>Left</td>\n",
       "      <td>0</td>\n",
       "      <td>Lower inner</td>\n",
       "      <td>1</td>\n",
       "      <td>Benign</td>\n",
       "    </tr>\n",
       "    <tr>\n",
       "      <th>4</th>\n",
       "      <td>5</td>\n",
       "      <td>2019</td>\n",
       "      <td>21</td>\n",
       "      <td>1</td>\n",
       "      <td>1</td>\n",
       "      <td>0</td>\n",
       "      <td>Right</td>\n",
       "      <td>0</td>\n",
       "      <td>Upper outer</td>\n",
       "      <td>1</td>\n",
       "      <td>Benign</td>\n",
       "    </tr>\n",
       "  </tbody>\n",
       "</table>\n",
       "</div>"
      ],
      "text/plain": [
       "   S/N  Year  Age  Menopause Tumor Size (cm) Inv-Nodes Breast Metastasis  \\\n",
       "0    1  2019   40          1               2         0  Right          0   \n",
       "1    2  2019   39          1               2         0   Left          0   \n",
       "2    3  2019   45          0               4         0   Left          0   \n",
       "3    4  2019   26          1               3         0   Left          0   \n",
       "4    5  2019   21          1               1         0  Right          0   \n",
       "\n",
       "  Breast Quadrant History Diagnosis Result  \n",
       "0     Upper inner       0           Benign  \n",
       "1     Upper outer       0           Benign  \n",
       "2     Lower outer       0           Benign  \n",
       "3     Lower inner       1           Benign  \n",
       "4     Upper outer       1           Benign  "
      ]
     },
     "execution_count": 39,
     "metadata": {},
     "output_type": "execute_result"
    }
   ],
   "source": [
    "df.head()"
   ]
  },
  {
   "cell_type": "code",
   "execution_count": 40,
   "id": "6b55541a-0591-44a5-a4d6-9501d906c109",
   "metadata": {},
   "outputs": [
    {
     "data": {
      "text/html": [
       "<div>\n",
       "<style scoped>\n",
       "    .dataframe tbody tr th:only-of-type {\n",
       "        vertical-align: middle;\n",
       "    }\n",
       "\n",
       "    .dataframe tbody tr th {\n",
       "        vertical-align: top;\n",
       "    }\n",
       "\n",
       "    .dataframe thead th {\n",
       "        text-align: right;\n",
       "    }\n",
       "</style>\n",
       "<table border=\"1\" class=\"dataframe\">\n",
       "  <thead>\n",
       "    <tr style=\"text-align: right;\">\n",
       "      <th></th>\n",
       "      <th>S/N</th>\n",
       "      <th>Year</th>\n",
       "      <th>Age</th>\n",
       "      <th>Menopause</th>\n",
       "      <th>Tumor Size (cm)</th>\n",
       "      <th>Inv-Nodes</th>\n",
       "      <th>Breast</th>\n",
       "      <th>Metastasis</th>\n",
       "      <th>Breast Quadrant</th>\n",
       "      <th>History</th>\n",
       "      <th>Diagnosis Result</th>\n",
       "    </tr>\n",
       "  </thead>\n",
       "  <tbody>\n",
       "    <tr>\n",
       "      <th>208</th>\n",
       "      <td>209</td>\n",
       "      <td>2020</td>\n",
       "      <td>49</td>\n",
       "      <td>1</td>\n",
       "      <td>6</td>\n",
       "      <td>3</td>\n",
       "      <td>Right</td>\n",
       "      <td>1</td>\n",
       "      <td>Lower inner</td>\n",
       "      <td>1</td>\n",
       "      <td>Malignant</td>\n",
       "    </tr>\n",
       "    <tr>\n",
       "      <th>209</th>\n",
       "      <td>210</td>\n",
       "      <td>2020</td>\n",
       "      <td>28</td>\n",
       "      <td>1</td>\n",
       "      <td>3</td>\n",
       "      <td>0</td>\n",
       "      <td>Left</td>\n",
       "      <td>0</td>\n",
       "      <td>Upper inner</td>\n",
       "      <td>0</td>\n",
       "      <td>Benign</td>\n",
       "    </tr>\n",
       "    <tr>\n",
       "      <th>210</th>\n",
       "      <td>211</td>\n",
       "      <td>2020</td>\n",
       "      <td>22</td>\n",
       "      <td>1</td>\n",
       "      <td>1</td>\n",
       "      <td>0</td>\n",
       "      <td>Left</td>\n",
       "      <td>0</td>\n",
       "      <td>Upper outer</td>\n",
       "      <td>1</td>\n",
       "      <td>Benign</td>\n",
       "    </tr>\n",
       "    <tr>\n",
       "      <th>211</th>\n",
       "      <td>212</td>\n",
       "      <td>2020</td>\n",
       "      <td>19</td>\n",
       "      <td>1</td>\n",
       "      <td>1</td>\n",
       "      <td>0</td>\n",
       "      <td>Left</td>\n",
       "      <td>0</td>\n",
       "      <td>Lower inner</td>\n",
       "      <td>1</td>\n",
       "      <td>Benign</td>\n",
       "    </tr>\n",
       "    <tr>\n",
       "      <th>212</th>\n",
       "      <td>213</td>\n",
       "      <td>2020</td>\n",
       "      <td>50</td>\n",
       "      <td>0</td>\n",
       "      <td>4</td>\n",
       "      <td>0</td>\n",
       "      <td>Right</td>\n",
       "      <td>0</td>\n",
       "      <td>Lower outer</td>\n",
       "      <td>1</td>\n",
       "      <td>Benign</td>\n",
       "    </tr>\n",
       "  </tbody>\n",
       "</table>\n",
       "</div>"
      ],
      "text/plain": [
       "     S/N  Year  Age  Menopause Tumor Size (cm) Inv-Nodes Breast Metastasis  \\\n",
       "208  209  2020   49          1               6         3  Right          1   \n",
       "209  210  2020   28          1               3         0   Left          0   \n",
       "210  211  2020   22          1               1         0   Left          0   \n",
       "211  212  2020   19          1               1         0   Left          0   \n",
       "212  213  2020   50          0               4         0  Right          0   \n",
       "\n",
       "    Breast Quadrant History Diagnosis Result  \n",
       "208     Lower inner       1        Malignant  \n",
       "209     Upper inner       0           Benign  \n",
       "210     Upper outer       1           Benign  \n",
       "211     Lower inner       1           Benign  \n",
       "212     Lower outer       1           Benign  "
      ]
     },
     "execution_count": 40,
     "metadata": {},
     "output_type": "execute_result"
    }
   ],
   "source": [
    "df.tail()"
   ]
  },
  {
   "cell_type": "code",
   "execution_count": 41,
   "id": "521a9e65-03b7-41e0-87ef-a578fa92f2af",
   "metadata": {},
   "outputs": [
    {
     "name": "stdout",
     "output_type": "stream",
     "text": [
      "total number of rows: 213 => total number of columns: 11\n"
     ]
    }
   ],
   "source": [
    "print(f'total number of rows: {df.shape[0]} => total number of columns: {df.shape[1]}')"
   ]
  },
  {
   "cell_type": "code",
   "execution_count": 42,
   "id": "4fef0f44-c3e0-4e88-afaa-40a2b2d8d0c2",
   "metadata": {},
   "outputs": [
    {
     "name": "stdout",
     "output_type": "stream",
     "text": [
      "<class 'pandas.core.frame.DataFrame'>\n",
      "RangeIndex: 213 entries, 0 to 212\n",
      "Data columns (total 11 columns):\n",
      " #   Column            Non-Null Count  Dtype \n",
      "---  ------            --------------  ----- \n",
      " 0   S/N               213 non-null    int64 \n",
      " 1   Year              213 non-null    object\n",
      " 2   Age               213 non-null    int64 \n",
      " 3   Menopause         213 non-null    int64 \n",
      " 4   Tumor Size (cm)   213 non-null    object\n",
      " 5   Inv-Nodes         213 non-null    object\n",
      " 6   Breast            213 non-null    object\n",
      " 7   Metastasis        213 non-null    object\n",
      " 8   Breast Quadrant   213 non-null    object\n",
      " 9   History           213 non-null    object\n",
      " 10  Diagnosis Result  213 non-null    object\n",
      "dtypes: int64(3), object(8)\n",
      "memory usage: 18.4+ KB\n"
     ]
    }
   ],
   "source": [
    "df.info()"
   ]
  },
  {
   "cell_type": "code",
   "execution_count": 43,
   "id": "188240e0-9dbd-41a4-b19c-36d13a2f4b59",
   "metadata": {},
   "outputs": [
    {
     "data": {
      "text/plain": [
       "S/N                  int64\n",
       "Year                object\n",
       "Age                  int64\n",
       "Menopause            int64\n",
       "Tumor Size (cm)     object\n",
       "Inv-Nodes           object\n",
       "Breast              object\n",
       "Metastasis          object\n",
       "Breast Quadrant     object\n",
       "History             object\n",
       "Diagnosis Result    object\n",
       "dtype: object"
      ]
     },
     "execution_count": 43,
     "metadata": {},
     "output_type": "execute_result"
    }
   ],
   "source": [
    "df.dtypes"
   ]
  },
  {
   "cell_type": "code",
   "execution_count": 44,
   "id": "f62cec02-361c-48b0-97c4-e5107a371b0f",
   "metadata": {},
   "outputs": [
    {
     "data": {
      "text/plain": [
       "S/N                 0\n",
       "Year                0\n",
       "Age                 0\n",
       "Menopause           0\n",
       "Tumor Size (cm)     0\n",
       "Inv-Nodes           0\n",
       "Breast              0\n",
       "Metastasis          0\n",
       "Breast Quadrant     0\n",
       "History             0\n",
       "Diagnosis Result    0\n",
       "dtype: int64"
      ]
     },
     "execution_count": 44,
     "metadata": {},
     "output_type": "execute_result"
    }
   ],
   "source": [
    "df.isnull().sum()"
   ]
  },
  {
   "cell_type": "code",
   "execution_count": 45,
   "id": "af086a0a-612e-4d93-8dc1-76654e265a3a",
   "metadata": {},
   "outputs": [
    {
     "name": "stdout",
     "output_type": "stream",
     "text": [
      "[  1   2   3   4   5   6   7   8   9  10  11  12  13  14  15  16  17  18\n",
      "  19  20  21  22  23  24  25  26  27  28  29  30  31  32  33  34  35  36\n",
      "  37  38  39  40  41  42  43  44  45  46  47  48  49  50  51  52  53  54\n",
      "  55  56  57  58  59  60  61  62  63  64  65  66  67  68  69  70  71  72\n",
      "  73  74  75  76  77  78  79  80  81  82  83  84  85  86  87  88  89  90\n",
      "  91  92  93  94  95  96  97  98  99 100 101 102 103 104 105 106 107 108\n",
      " 109 110 111 112 113 114 115 116 117 118 119 120 121 122 123 124 125 126\n",
      " 127 128 129 130 131 132 133 134 135 136 137 138 139 140 141 142 143 144\n",
      " 145 146 147 148 149 150 151 152 153 154 155 156 157 158 159 160 161 162\n",
      " 163 164 165 166 167 168 169 170 171 172 173 174 175 176 177 178 179 180\n",
      " 181 182 183 184 185 186 187 188 189 190 191 192 193 194 195 196 197 198\n",
      " 199 200 201 202 203 204 205 206 207 208 209 210 211 212 213]\n",
      "['2019' '#' '2020']\n",
      "[40 39 45 26 21 50 58 35 42 41 43 30 33 38 60 47 57 34 31 36 56 48 61 20\n",
      " 37 27 25 17 23 59 67 46 24 49 53 28 68 64 18 14 15 54 71 55 22 65 19 52\n",
      " 51 44 63 29 32 62 69 13 16 77]\n",
      "[1 0]\n",
      "['2' '4' '3' '1' '5' '6' '7' '10' '8' '9' '#' '14' '12']\n",
      "['0' '1' '#' '3']\n",
      "['Right' 'Left' '#']\n",
      "['0' '1' '#']\n",
      "['Upper inner' 'Upper outer' 'Lower outer' 'Lower inner' '#'\n",
      " 'Upper outer ']\n",
      "['0' '1' '#']\n",
      "['Benign' 'Malignant']\n"
     ]
    }
   ],
   "source": [
    "for col in df:\n",
    "  print(df[col].unique())"
   ]
  },
  {
   "cell_type": "markdown",
   "id": "048b1539-90ca-4131-9dfa-9686d1e78023",
   "metadata": {},
   "source": [
    "# DATA PREPROCESSING\n",
    "\n"
   ]
  },
  {
   "cell_type": "markdown",
   "id": "70000836-8706-4a3c-b8e5-2791fff4244b",
   "metadata": {},
   "source": [
    "###Data Preprocessing\n",
    "Normalize the column names\n",
    "Drop the s/n column\n",
    "Replace special caracters (#) with NaN\n",
    "Fill all NaN values\n",
    "Replace categorical columns(diagnosis_result) with integers\n"
   ]
  },
  {
   "cell_type": "code",
   "execution_count": 46,
   "id": "f0f0ac8e-b54a-4218-acd9-9ee5f55365a6",
   "metadata": {},
   "outputs": [
    {
     "data": {
      "text/plain": [
       "Index(['s/n', 'year', 'age', 'menopause', 'tumor_size_(cm)', 'inv_nodes',\n",
       "       'breast', 'metastasis', 'breast_quadrant', 'history',\n",
       "       'diagnosis_result'],\n",
       "      dtype='object')"
      ]
     },
     "execution_count": 46,
     "metadata": {},
     "output_type": "execute_result"
    }
   ],
   "source": [
    "df.columns = df.columns.str.lower().str.replace(' ', '_').str.replace('-','_')\n",
    "df.columns"
   ]
  },
  {
   "cell_type": "code",
   "execution_count": 47,
   "id": "9284fe1f-4903-4403-a840-27ccacd3a0bc",
   "metadata": {},
   "outputs": [
    {
     "data": {
      "text/plain": [
       "Index(['s/n', 'year', 'age', 'menopause', 'tumor_size', 'inv_nodes', 'breast',\n",
       "       'metastasis', 'breast_quadrant', 'history', 'diagnosis_result'],\n",
       "      dtype='object')"
      ]
     },
     "execution_count": 47,
     "metadata": {},
     "output_type": "execute_result"
    }
   ],
   "source": [
    "df.columns = df.columns.str.replace('_(cm)', '')\n",
    "df.columns"
   ]
  },
  {
   "cell_type": "code",
   "execution_count": 48,
   "id": "84a3722e-919f-4f90-a4aa-7f52ba1c94d9",
   "metadata": {},
   "outputs": [],
   "source": [
    "df = df.drop(['s/n'], axis=1)"
   ]
  },
  {
   "cell_type": "code",
   "execution_count": 49,
   "id": "46968031-0469-4614-b35d-2ef8a82937a4",
   "metadata": {},
   "outputs": [
    {
     "name": "stdout",
     "output_type": "stream",
     "text": [
      "['2019' '#' '2020']\n",
      "[40 39 45 26 21 50 58 35 42 41 43 30 33 38 60 47 57 34 31 36 56 48 61 20\n",
      " 37 27 25 17 23 59 67 46 24 49 53 28 68 64 18 14 15 54 71 55 22 65 19 52\n",
      " 51 44 63 29 32 62 69 13 16 77]\n",
      "[1 0]\n",
      "['2' '4' '3' '1' '5' '6' '7' '10' '8' '9' '#' '14' '12']\n",
      "['0' '1' '#' '3']\n",
      "['Right' 'Left' '#']\n",
      "['0' '1' '#']\n",
      "['Upper inner' 'Upper outer' 'Lower outer' 'Lower inner' '#'\n",
      " 'Upper outer ']\n",
      "['0' '1' '#']\n",
      "['Benign' 'Malignant']\n"
     ]
    }
   ],
   "source": [
    "for col in df:\n",
    "  print(df[col].unique())"
   ]
  },
  {
   "cell_type": "code",
   "execution_count": 50,
   "id": "1f69b89a-cecb-4c20-b46e-feb908070706",
   "metadata": {},
   "outputs": [
    {
     "name": "stdout",
     "output_type": "stream",
     "text": [
      "year\n",
      "age\n",
      "menopause\n",
      "tumor_size\n",
      "inv_nodes\n",
      "breast\n",
      "metastasis\n",
      "breast_quadrant\n",
      "history\n",
      "diagnosis_result\n"
     ]
    }
   ],
   "source": [
    "for col in df:\n",
    "  print (col)"
   ]
  },
  {
   "cell_type": "code",
   "execution_count": 51,
   "id": "32a75107-795e-4a93-972b-bd200d1ab15c",
   "metadata": {},
   "outputs": [],
   "source": [
    "## replacing unsual caracters with NaN\n",
    "df['year'] = df['year'].replace('#', np.nan)\n",
    "df['tumor_size'] = df['tumor_size'].replace('#', np.nan)\n",
    "df['inv_nodes'] = df['inv_nodes'].replace('#', np.nan)\n",
    "df['breast'] = df['breast'].replace('#', np.nan)\n",
    "df['metastasis'] = df['metastasis'].replace('#', np.nan)\n",
    "df['breast_quadrant'] = df['breast_quadrant'].replace('#', np.nan)\n",
    "df['history'] = df['history'].replace('#', np.nan)"
   ]
  },
  {
   "cell_type": "code",
   "execution_count": 52,
   "id": "2ad96880-c6db-4bf0-bf0f-796ffed0a876",
   "metadata": {},
   "outputs": [
    {
     "data": {
      "text/plain": [
       "year                1\n",
       "age                 0\n",
       "menopause           0\n",
       "tumor_size          1\n",
       "inv_nodes           1\n",
       "breast              6\n",
       "metastasis          1\n",
       "breast_quadrant     2\n",
       "history             2\n",
       "diagnosis_result    0\n",
       "dtype: int64"
      ]
     },
     "execution_count": 52,
     "metadata": {},
     "output_type": "execute_result"
    }
   ],
   "source": [
    "df.isnull().sum()"
   ]
  },
  {
   "cell_type": "code",
   "execution_count": 53,
   "id": "52e778f1-c1fb-451f-b750-0a1e2138af6e",
   "metadata": {},
   "outputs": [
    {
     "data": {
      "text/plain": [
       "year\n",
       "2020    111\n",
       "2019    101\n",
       "Name: count, dtype: int64"
      ]
     },
     "execution_count": 53,
     "metadata": {},
     "output_type": "execute_result"
    }
   ],
   "source": [
    "## target variable \n",
    "df.year.value_counts()"
   ]
  },
  {
   "cell_type": "code",
   "execution_count": 54,
   "id": "b540a5ac-06d2-4821-a11d-8cd562aadde8",
   "metadata": {},
   "outputs": [],
   "source": [
    "## convert the year column type to float\n",
    "df['year'] = df['year'].astype('float')\n",
    "df['year'] = df['year'].fillna(df['year'].mean())"
   ]
  },
  {
   "cell_type": "code",
   "execution_count": 55,
   "id": "56651761-9097-4435-b2ae-f59f38b143a5",
   "metadata": {},
   "outputs": [
    {
     "data": {
      "text/plain": [
       "tumor_size\n",
       "3     34\n",
       "2     32\n",
       "4     32\n",
       "1     29\n",
       "5     27\n",
       "6     17\n",
       "7     14\n",
       "8     11\n",
       "10     7\n",
       "9      7\n",
       "14     1\n",
       "12     1\n",
       "Name: count, dtype: int64"
      ]
     },
     "execution_count": 55,
     "metadata": {},
     "output_type": "execute_result"
    }
   ],
   "source": [
    "df.tumor_size.value_counts()"
   ]
  },
  {
   "cell_type": "code",
   "execution_count": 56,
   "id": "cca9b0d7-fda9-445b-a404-eeeab56b3260",
   "metadata": {},
   "outputs": [],
   "source": [
    "## convert the year column type to float\n",
    "df['tumor_size'] = df['tumor_size'].astype('float')\n",
    "df['tumor_size'] = df['tumor_size'].fillna(df['tumor_size'].mean())"
   ]
  },
  {
   "cell_type": "code",
   "execution_count": 57,
   "id": "528b644d-9978-4af4-8b4b-afe4eb33a302",
   "metadata": {},
   "outputs": [
    {
     "data": {
      "text/plain": [
       "inv_nodes\n",
       "0    139\n",
       "1     72\n",
       "3      1\n",
       "Name: count, dtype: int64"
      ]
     },
     "execution_count": 57,
     "metadata": {},
     "output_type": "execute_result"
    }
   ],
   "source": [
    "df.inv_nodes.value_counts()"
   ]
  },
  {
   "cell_type": "code",
   "execution_count": 58,
   "id": "33234eaf-e1e7-4ba3-95fc-051844ef016c",
   "metadata": {},
   "outputs": [],
   "source": [
    "## convert the year column type to float\n",
    "df['inv_nodes'] = df['inv_nodes'].astype('float')\n",
    "df.inv_nodes = df.inv_nodes.fillna(0)"
   ]
  },
  {
   "cell_type": "code",
   "execution_count": 59,
   "id": "4c99ddb2-60b6-42dd-b7a5-f81a0c65f6ad",
   "metadata": {},
   "outputs": [
    {
     "data": {
      "text/plain": [
       "breast\n",
       "Left     107\n",
       "Right    100\n",
       "Name: count, dtype: int64"
      ]
     },
     "execution_count": 59,
     "metadata": {},
     "output_type": "execute_result"
    }
   ],
   "source": [
    "df.breast.value_counts()"
   ]
  },
  {
   "cell_type": "code",
   "execution_count": 60,
   "id": "b008db7c-269f-424e-af16-49425cda2d52",
   "metadata": {},
   "outputs": [],
   "source": [
    "df.breast = df.breast.fillna('Right')"
   ]
  },
  {
   "cell_type": "code",
   "execution_count": 61,
   "id": "9cfe38dd-043e-49d0-aaf3-f01664c195d2",
   "metadata": {},
   "outputs": [
    {
     "data": {
      "text/plain": [
       "metastasis\n",
       "0    139\n",
       "1     73\n",
       "Name: count, dtype: int64"
      ]
     },
     "execution_count": 61,
     "metadata": {},
     "output_type": "execute_result"
    }
   ],
   "source": [
    "df.metastasis.value_counts()"
   ]
  },
  {
   "cell_type": "code",
   "execution_count": 62,
   "id": "1b1a968a-cc3e-4231-9c6a-7d7abcc77109",
   "metadata": {},
   "outputs": [],
   "source": [
    "df.metastasis = df.metastasis.fillna(0)"
   ]
  },
  {
   "cell_type": "code",
   "execution_count": 63,
   "id": "65090ed1-5ce1-44ad-a9d4-4ea30dc3e558",
   "metadata": {},
   "outputs": [
    {
     "data": {
      "text/plain": [
       "breast_quadrant\n",
       "Upper outer     67\n",
       "Lower outer     54\n",
       "Upper inner     45\n",
       "Lower inner     44\n",
       "Upper outer      1\n",
       "Name: count, dtype: int64"
      ]
     },
     "execution_count": 63,
     "metadata": {},
     "output_type": "execute_result"
    }
   ],
   "source": [
    "df.breast_quadrant.value_counts()"
   ]
  },
  {
   "cell_type": "code",
   "execution_count": 64,
   "id": "344a8a22-f376-4e86-a09f-41bf0dc4f779",
   "metadata": {},
   "outputs": [],
   "source": [
    "df.breast_quadrant = df.breast_quadrant.fillna('Upper outer')"
   ]
  },
  {
   "cell_type": "code",
   "execution_count": 65,
   "id": "c804a877-b8c1-4335-8217-9d8fd95c781b",
   "metadata": {},
   "outputs": [
    {
     "data": {
      "text/plain": [
       "history\n",
       "0    124\n",
       "1     87\n",
       "Name: count, dtype: int64"
      ]
     },
     "execution_count": 65,
     "metadata": {},
     "output_type": "execute_result"
    }
   ],
   "source": [
    "df.history.value_counts()"
   ]
  },
  {
   "cell_type": "code",
   "execution_count": 66,
   "id": "e8c98fce-136c-4cfb-876c-083569a8a54a",
   "metadata": {},
   "outputs": [
    {
     "data": {
      "text/plain": [
       "year                0\n",
       "age                 0\n",
       "menopause           0\n",
       "tumor_size          0\n",
       "inv_nodes           0\n",
       "breast              0\n",
       "metastasis          0\n",
       "breast_quadrant     0\n",
       "history             0\n",
       "diagnosis_result    0\n",
       "dtype: int64"
      ]
     },
     "execution_count": 66,
     "metadata": {},
     "output_type": "execute_result"
    }
   ],
   "source": [
    "df.history = df.history.fillna(0)\n",
    "df.isnull().sum()"
   ]
  },
  {
   "cell_type": "code",
   "execution_count": 67,
   "id": "39270999-2896-4364-9852-720d0a44d15c",
   "metadata": {},
   "outputs": [
    {
     "data": {
      "text/html": [
       "<div>\n",
       "<style scoped>\n",
       "    .dataframe tbody tr th:only-of-type {\n",
       "        vertical-align: middle;\n",
       "    }\n",
       "\n",
       "    .dataframe tbody tr th {\n",
       "        vertical-align: top;\n",
       "    }\n",
       "\n",
       "    .dataframe thead th {\n",
       "        text-align: right;\n",
       "    }\n",
       "</style>\n",
       "<table border=\"1\" class=\"dataframe\">\n",
       "  <thead>\n",
       "    <tr style=\"text-align: right;\">\n",
       "      <th></th>\n",
       "      <th>year</th>\n",
       "      <th>age</th>\n",
       "      <th>menopause</th>\n",
       "      <th>tumor_size</th>\n",
       "      <th>inv_nodes</th>\n",
       "      <th>breast</th>\n",
       "      <th>metastasis</th>\n",
       "      <th>breast_quadrant</th>\n",
       "      <th>history</th>\n",
       "      <th>diagnosis_result</th>\n",
       "    </tr>\n",
       "  </thead>\n",
       "  <tbody>\n",
       "    <tr>\n",
       "      <th>0</th>\n",
       "      <td>2019.0</td>\n",
       "      <td>40</td>\n",
       "      <td>1</td>\n",
       "      <td>2.0</td>\n",
       "      <td>0.0</td>\n",
       "      <td>Right</td>\n",
       "      <td>0</td>\n",
       "      <td>Upper inner</td>\n",
       "      <td>0</td>\n",
       "      <td>Benign</td>\n",
       "    </tr>\n",
       "    <tr>\n",
       "      <th>1</th>\n",
       "      <td>2019.0</td>\n",
       "      <td>39</td>\n",
       "      <td>1</td>\n",
       "      <td>2.0</td>\n",
       "      <td>0.0</td>\n",
       "      <td>Left</td>\n",
       "      <td>0</td>\n",
       "      <td>Upper outer</td>\n",
       "      <td>0</td>\n",
       "      <td>Benign</td>\n",
       "    </tr>\n",
       "    <tr>\n",
       "      <th>2</th>\n",
       "      <td>2019.0</td>\n",
       "      <td>45</td>\n",
       "      <td>0</td>\n",
       "      <td>4.0</td>\n",
       "      <td>0.0</td>\n",
       "      <td>Left</td>\n",
       "      <td>0</td>\n",
       "      <td>Lower outer</td>\n",
       "      <td>0</td>\n",
       "      <td>Benign</td>\n",
       "    </tr>\n",
       "    <tr>\n",
       "      <th>3</th>\n",
       "      <td>2019.0</td>\n",
       "      <td>26</td>\n",
       "      <td>1</td>\n",
       "      <td>3.0</td>\n",
       "      <td>0.0</td>\n",
       "      <td>Left</td>\n",
       "      <td>0</td>\n",
       "      <td>Lower inner</td>\n",
       "      <td>1</td>\n",
       "      <td>Benign</td>\n",
       "    </tr>\n",
       "    <tr>\n",
       "      <th>4</th>\n",
       "      <td>2019.0</td>\n",
       "      <td>21</td>\n",
       "      <td>1</td>\n",
       "      <td>1.0</td>\n",
       "      <td>0.0</td>\n",
       "      <td>Right</td>\n",
       "      <td>0</td>\n",
       "      <td>Upper outer</td>\n",
       "      <td>1</td>\n",
       "      <td>Benign</td>\n",
       "    </tr>\n",
       "  </tbody>\n",
       "</table>\n",
       "</div>"
      ],
      "text/plain": [
       "     year  age  menopause  tumor_size  inv_nodes breast metastasis  \\\n",
       "0  2019.0   40          1         2.0        0.0  Right          0   \n",
       "1  2019.0   39          1         2.0        0.0   Left          0   \n",
       "2  2019.0   45          0         4.0        0.0   Left          0   \n",
       "3  2019.0   26          1         3.0        0.0   Left          0   \n",
       "4  2019.0   21          1         1.0        0.0  Right          0   \n",
       "\n",
       "  breast_quadrant history diagnosis_result  \n",
       "0     Upper inner       0           Benign  \n",
       "1     Upper outer       0           Benign  \n",
       "2     Lower outer       0           Benign  \n",
       "3     Lower inner       1           Benign  \n",
       "4     Upper outer       1           Benign  "
      ]
     },
     "execution_count": 67,
     "metadata": {},
     "output_type": "execute_result"
    }
   ],
   "source": [
    "df.head()"
   ]
  },
  {
   "cell_type": "code",
   "execution_count": 68,
   "id": "c4887eb5-749e-4ac8-8034-190ca611c01c",
   "metadata": {},
   "outputs": [
    {
     "data": {
      "text/plain": [
       "0    Benign\n",
       "1    Benign\n",
       "2    Benign\n",
       "3    Benign\n",
       "4    Benign\n",
       "Name: diagnosis_result, dtype: object"
      ]
     },
     "execution_count": 68,
     "metadata": {},
     "output_type": "execute_result"
    }
   ],
   "source": [
    "df.diagnosis_result.head()"
   ]
  },
  {
   "cell_type": "code",
   "execution_count": 69,
   "id": "6d83f3a8-9250-4387-9ffa-4ff2f42562f6",
   "metadata": {},
   "outputs": [
    {
     "data": {
      "text/plain": [
       "diagnosis_result\n",
       "Benign       120\n",
       "Malignant     93\n",
       "Name: count, dtype: int64"
      ]
     },
     "execution_count": 69,
     "metadata": {},
     "output_type": "execute_result"
    }
   ],
   "source": [
    "df.diagnosis_result.value_counts()"
   ]
  },
  {
   "cell_type": "code",
   "execution_count": 70,
   "id": "55dabc0e-51ff-4184-9579-d5cfec0e9def",
   "metadata": {},
   "outputs": [
    {
     "data": {
      "text/plain": [
       "0    0\n",
       "1    0\n",
       "2    0\n",
       "3    0\n",
       "4    0\n",
       "Name: diagnosis_result, dtype: int32"
      ]
     },
     "execution_count": 70,
     "metadata": {},
     "output_type": "execute_result"
    }
   ],
   "source": [
    "df.diagnosis_result = (df.diagnosis_result == 'Malignant').astype(int)\n",
    "df.diagnosis_result.head()"
   ]
  },
  {
   "cell_type": "code",
   "execution_count": 71,
   "id": "329cb610-79fc-40bd-be2f-dd4f8ee6feba",
   "metadata": {},
   "outputs": [
    {
     "data": {
      "text/html": [
       "<div>\n",
       "<style scoped>\n",
       "    .dataframe tbody tr th:only-of-type {\n",
       "        vertical-align: middle;\n",
       "    }\n",
       "\n",
       "    .dataframe tbody tr th {\n",
       "        vertical-align: top;\n",
       "    }\n",
       "\n",
       "    .dataframe thead th {\n",
       "        text-align: right;\n",
       "    }\n",
       "</style>\n",
       "<table border=\"1\" class=\"dataframe\">\n",
       "  <thead>\n",
       "    <tr style=\"text-align: right;\">\n",
       "      <th></th>\n",
       "      <th>year</th>\n",
       "      <th>age</th>\n",
       "      <th>menopause</th>\n",
       "      <th>tumor_size</th>\n",
       "      <th>inv_nodes</th>\n",
       "      <th>breast</th>\n",
       "      <th>metastasis</th>\n",
       "      <th>breast_quadrant</th>\n",
       "      <th>history</th>\n",
       "      <th>diagnosis_result</th>\n",
       "    </tr>\n",
       "  </thead>\n",
       "  <tbody>\n",
       "    <tr>\n",
       "      <th>0</th>\n",
       "      <td>2019.0</td>\n",
       "      <td>40</td>\n",
       "      <td>1</td>\n",
       "      <td>2.0</td>\n",
       "      <td>0.0</td>\n",
       "      <td>Right</td>\n",
       "      <td>0</td>\n",
       "      <td>Upper inner</td>\n",
       "      <td>0</td>\n",
       "      <td>0</td>\n",
       "    </tr>\n",
       "    <tr>\n",
       "      <th>1</th>\n",
       "      <td>2019.0</td>\n",
       "      <td>39</td>\n",
       "      <td>1</td>\n",
       "      <td>2.0</td>\n",
       "      <td>0.0</td>\n",
       "      <td>Left</td>\n",
       "      <td>0</td>\n",
       "      <td>Upper outer</td>\n",
       "      <td>0</td>\n",
       "      <td>0</td>\n",
       "    </tr>\n",
       "    <tr>\n",
       "      <th>2</th>\n",
       "      <td>2019.0</td>\n",
       "      <td>45</td>\n",
       "      <td>0</td>\n",
       "      <td>4.0</td>\n",
       "      <td>0.0</td>\n",
       "      <td>Left</td>\n",
       "      <td>0</td>\n",
       "      <td>Lower outer</td>\n",
       "      <td>0</td>\n",
       "      <td>0</td>\n",
       "    </tr>\n",
       "    <tr>\n",
       "      <th>3</th>\n",
       "      <td>2019.0</td>\n",
       "      <td>26</td>\n",
       "      <td>1</td>\n",
       "      <td>3.0</td>\n",
       "      <td>0.0</td>\n",
       "      <td>Left</td>\n",
       "      <td>0</td>\n",
       "      <td>Lower inner</td>\n",
       "      <td>1</td>\n",
       "      <td>0</td>\n",
       "    </tr>\n",
       "    <tr>\n",
       "      <th>4</th>\n",
       "      <td>2019.0</td>\n",
       "      <td>21</td>\n",
       "      <td>1</td>\n",
       "      <td>1.0</td>\n",
       "      <td>0.0</td>\n",
       "      <td>Right</td>\n",
       "      <td>0</td>\n",
       "      <td>Upper outer</td>\n",
       "      <td>1</td>\n",
       "      <td>0</td>\n",
       "    </tr>\n",
       "  </tbody>\n",
       "</table>\n",
       "</div>"
      ],
      "text/plain": [
       "     year  age  menopause  tumor_size  inv_nodes breast metastasis  \\\n",
       "0  2019.0   40          1         2.0        0.0  Right          0   \n",
       "1  2019.0   39          1         2.0        0.0   Left          0   \n",
       "2  2019.0   45          0         4.0        0.0   Left          0   \n",
       "3  2019.0   26          1         3.0        0.0   Left          0   \n",
       "4  2019.0   21          1         1.0        0.0  Right          0   \n",
       "\n",
       "  breast_quadrant history  diagnosis_result  \n",
       "0     Upper inner       0                 0  \n",
       "1     Upper outer       0                 0  \n",
       "2     Lower outer       0                 0  \n",
       "3     Lower inner       1                 0  \n",
       "4     Upper outer       1                 0  "
      ]
     },
     "execution_count": 71,
     "metadata": {},
     "output_type": "execute_result"
    }
   ],
   "source": [
    "df.head()"
   ]
  },
  {
   "cell_type": "markdown",
   "id": "2ed6cd34-86c4-4025-ac64-141fcd322201",
   "metadata": {},
   "source": [
    "# EXPLORATORY DATA ANALYSIS"
   ]
  },
  {
   "cell_type": "code",
   "execution_count": 74,
   "id": "d001f03b-0e86-4978-839c-bf781d7eb03a",
   "metadata": {},
   "outputs": [
    {
     "data": {
      "text/plain": [
       "diagnosis_result\n",
       "0    120\n",
       "1     93\n",
       "Name: count, dtype: int64"
      ]
     },
     "execution_count": 74,
     "metadata": {},
     "output_type": "execute_result"
    }
   ],
   "source": [
    "## target variable \n",
    "df.diagnosis_result.value_counts()"
   ]
  },
  {
   "cell_type": "code",
   "execution_count": 75,
   "id": "56bd70d0-4db6-4d44-8136-76bb95e935de",
   "metadata": {},
   "outputs": [
    {
     "data": {
      "text/plain": [
       "year               -0.022224\n",
       "age                 0.531123\n",
       "menopause          -0.381529\n",
       "tumor_size          0.688803\n",
       "inv_nodes           0.771358\n",
       "diagnosis_result    1.000000\n",
       "Name: diagnosis_result, dtype: float64"
      ]
     },
     "execution_count": 75,
     "metadata": {},
     "output_type": "execute_result"
    }
   ],
   "source": [
    "numeric_cols = df.select_dtypes(exclude=[object])\n",
    "\n",
    "corr_matrix = numeric_cols.corr()\n",
    "\n",
    "corr_matrix['diagnosis_result']"
   ]
  },
  {
   "cell_type": "markdown",
   "id": "93e0e58f-1383-48f7-b58b-5c83de4f387a",
   "metadata": {},
   "source": [
    "# BUILDING A VALIDATION FRAMEWORK\n"
   ]
  },
  {
   "cell_type": "code",
   "execution_count": 77,
   "id": "e41d4d02-925a-45c9-8a10-72f6e20a88b1",
   "metadata": {},
   "outputs": [
    {
     "name": "stdout",
     "output_type": "stream",
     "text": [
      "Training dataset: 127\n",
      "Validation dataset: 43\n",
      "Test dataset: 43\n"
     ]
    }
   ],
   "source": [
    "## \n",
    "df_train_full , df_test = train_test_split(df, test_size=0.2, random_state=11) \n",
    "df_train, df_valid = train_test_split(df_train_full, test_size=0.25, random_state=11)\n",
    "\n",
    "\n",
    "print(f'Training dataset: {len(df_train)}')\n",
    "print(f'Validation dataset: {len(df_valid)}')\n",
    "print(f'Test dataset: {len(df_test)}')"
   ]
  },
  {
   "cell_type": "code",
   "execution_count": 78,
   "id": "0736d822-6ab7-4978-a7eb-3b94337837dc",
   "metadata": {},
   "outputs": [],
   "source": [
    "y_train = df_train['diagnosis_result'].values\n",
    "y_valid = df_valid['diagnosis_result'].values\n",
    "y_test = df_test['diagnosis_result'].values"
   ]
  },
  {
   "cell_type": "code",
   "execution_count": 79,
   "id": "5cdddad6-6e0f-411a-9ef1-d465fdb02b89",
   "metadata": {},
   "outputs": [],
   "source": [
    "del df_train['diagnosis_result']\n",
    "del df_valid['diagnosis_result']\n",
    "del df_test['diagnosis_result']"
   ]
  },
  {
   "cell_type": "markdown",
   "id": "637ef848-4983-4e06-8496-5f826c6564ef",
   "metadata": {},
   "source": [
    "# FEATURE ENGINEERING\n",
    "- Dividing our data into numerical and categorical\n",
    "- perform the one-hot encoding"
   ]
  },
  {
   "cell_type": "code",
   "execution_count": 81,
   "id": "45e092bd-0bf6-4ecd-ae0a-1c1008d90971",
   "metadata": {},
   "outputs": [],
   "source": [
    "numerical_features = ['year','age','menopause','tumor_size','inv_nodes','metastasis','history']\n",
    "\n",
    "categorical_features = ['breast','breast_quadrant']"
   ]
  },
  {
   "cell_type": "code",
   "execution_count": 82,
   "id": "d6e97315-a1fd-49b4-8669-d004471df2b6",
   "metadata": {},
   "outputs": [],
   "source": [
    "## convert the dataframe into dict\n",
    "train_dict = df_train[categorical_features + numerical_features].to_dict(orient='records')\n",
    "\n",
    "valid_dict = df_valid[categorical_features + numerical_features].to_dict(orient='records')"
   ]
  },
  {
   "cell_type": "code",
   "execution_count": 83,
   "id": "7d3f8af9-e8b1-4620-ab65-3677cf7ce4a9",
   "metadata": {},
   "outputs": [
    {
     "data": {
      "text/html": [
       "<style>#sk-container-id-1 {\n",
       "  /* Definition of color scheme common for light and dark mode */\n",
       "  --sklearn-color-text: black;\n",
       "  --sklearn-color-line: gray;\n",
       "  /* Definition of color scheme for unfitted estimators */\n",
       "  --sklearn-color-unfitted-level-0: #fff5e6;\n",
       "  --sklearn-color-unfitted-level-1: #f6e4d2;\n",
       "  --sklearn-color-unfitted-level-2: #ffe0b3;\n",
       "  --sklearn-color-unfitted-level-3: chocolate;\n",
       "  /* Definition of color scheme for fitted estimators */\n",
       "  --sklearn-color-fitted-level-0: #f0f8ff;\n",
       "  --sklearn-color-fitted-level-1: #d4ebff;\n",
       "  --sklearn-color-fitted-level-2: #b3dbfd;\n",
       "  --sklearn-color-fitted-level-3: cornflowerblue;\n",
       "\n",
       "  /* Specific color for light theme */\n",
       "  --sklearn-color-text-on-default-background: var(--sg-text-color, var(--theme-code-foreground, var(--jp-content-font-color1, black)));\n",
       "  --sklearn-color-background: var(--sg-background-color, var(--theme-background, var(--jp-layout-color0, white)));\n",
       "  --sklearn-color-border-box: var(--sg-text-color, var(--theme-code-foreground, var(--jp-content-font-color1, black)));\n",
       "  --sklearn-color-icon: #696969;\n",
       "\n",
       "  @media (prefers-color-scheme: dark) {\n",
       "    /* Redefinition of color scheme for dark theme */\n",
       "    --sklearn-color-text-on-default-background: var(--sg-text-color, var(--theme-code-foreground, var(--jp-content-font-color1, white)));\n",
       "    --sklearn-color-background: var(--sg-background-color, var(--theme-background, var(--jp-layout-color0, #111)));\n",
       "    --sklearn-color-border-box: var(--sg-text-color, var(--theme-code-foreground, var(--jp-content-font-color1, white)));\n",
       "    --sklearn-color-icon: #878787;\n",
       "  }\n",
       "}\n",
       "\n",
       "#sk-container-id-1 {\n",
       "  color: var(--sklearn-color-text);\n",
       "}\n",
       "\n",
       "#sk-container-id-1 pre {\n",
       "  padding: 0;\n",
       "}\n",
       "\n",
       "#sk-container-id-1 input.sk-hidden--visually {\n",
       "  border: 0;\n",
       "  clip: rect(1px 1px 1px 1px);\n",
       "  clip: rect(1px, 1px, 1px, 1px);\n",
       "  height: 1px;\n",
       "  margin: -1px;\n",
       "  overflow: hidden;\n",
       "  padding: 0;\n",
       "  position: absolute;\n",
       "  width: 1px;\n",
       "}\n",
       "\n",
       "#sk-container-id-1 div.sk-dashed-wrapped {\n",
       "  border: 1px dashed var(--sklearn-color-line);\n",
       "  margin: 0 0.4em 0.5em 0.4em;\n",
       "  box-sizing: border-box;\n",
       "  padding-bottom: 0.4em;\n",
       "  background-color: var(--sklearn-color-background);\n",
       "}\n",
       "\n",
       "#sk-container-id-1 div.sk-container {\n",
       "  /* jupyter's `normalize.less` sets `[hidden] { display: none; }`\n",
       "     but bootstrap.min.css set `[hidden] { display: none !important; }`\n",
       "     so we also need the `!important` here to be able to override the\n",
       "     default hidden behavior on the sphinx rendered scikit-learn.org.\n",
       "     See: https://github.com/scikit-learn/scikit-learn/issues/21755 */\n",
       "  display: inline-block !important;\n",
       "  position: relative;\n",
       "}\n",
       "\n",
       "#sk-container-id-1 div.sk-text-repr-fallback {\n",
       "  display: none;\n",
       "}\n",
       "\n",
       "div.sk-parallel-item,\n",
       "div.sk-serial,\n",
       "div.sk-item {\n",
       "  /* draw centered vertical line to link estimators */\n",
       "  background-image: linear-gradient(var(--sklearn-color-text-on-default-background), var(--sklearn-color-text-on-default-background));\n",
       "  background-size: 2px 100%;\n",
       "  background-repeat: no-repeat;\n",
       "  background-position: center center;\n",
       "}\n",
       "\n",
       "/* Parallel-specific style estimator block */\n",
       "\n",
       "#sk-container-id-1 div.sk-parallel-item::after {\n",
       "  content: \"\";\n",
       "  width: 100%;\n",
       "  border-bottom: 2px solid var(--sklearn-color-text-on-default-background);\n",
       "  flex-grow: 1;\n",
       "}\n",
       "\n",
       "#sk-container-id-1 div.sk-parallel {\n",
       "  display: flex;\n",
       "  align-items: stretch;\n",
       "  justify-content: center;\n",
       "  background-color: var(--sklearn-color-background);\n",
       "  position: relative;\n",
       "}\n",
       "\n",
       "#sk-container-id-1 div.sk-parallel-item {\n",
       "  display: flex;\n",
       "  flex-direction: column;\n",
       "}\n",
       "\n",
       "#sk-container-id-1 div.sk-parallel-item:first-child::after {\n",
       "  align-self: flex-end;\n",
       "  width: 50%;\n",
       "}\n",
       "\n",
       "#sk-container-id-1 div.sk-parallel-item:last-child::after {\n",
       "  align-self: flex-start;\n",
       "  width: 50%;\n",
       "}\n",
       "\n",
       "#sk-container-id-1 div.sk-parallel-item:only-child::after {\n",
       "  width: 0;\n",
       "}\n",
       "\n",
       "/* Serial-specific style estimator block */\n",
       "\n",
       "#sk-container-id-1 div.sk-serial {\n",
       "  display: flex;\n",
       "  flex-direction: column;\n",
       "  align-items: center;\n",
       "  background-color: var(--sklearn-color-background);\n",
       "  padding-right: 1em;\n",
       "  padding-left: 1em;\n",
       "}\n",
       "\n",
       "\n",
       "/* Toggleable style: style used for estimator/Pipeline/ColumnTransformer box that is\n",
       "clickable and can be expanded/collapsed.\n",
       "- Pipeline and ColumnTransformer use this feature and define the default style\n",
       "- Estimators will overwrite some part of the style using the `sk-estimator` class\n",
       "*/\n",
       "\n",
       "/* Pipeline and ColumnTransformer style (default) */\n",
       "\n",
       "#sk-container-id-1 div.sk-toggleable {\n",
       "  /* Default theme specific background. It is overwritten whether we have a\n",
       "  specific estimator or a Pipeline/ColumnTransformer */\n",
       "  background-color: var(--sklearn-color-background);\n",
       "}\n",
       "\n",
       "/* Toggleable label */\n",
       "#sk-container-id-1 label.sk-toggleable__label {\n",
       "  cursor: pointer;\n",
       "  display: block;\n",
       "  width: 100%;\n",
       "  margin-bottom: 0;\n",
       "  padding: 0.5em;\n",
       "  box-sizing: border-box;\n",
       "  text-align: center;\n",
       "}\n",
       "\n",
       "#sk-container-id-1 label.sk-toggleable__label-arrow:before {\n",
       "  /* Arrow on the left of the label */\n",
       "  content: \"▸\";\n",
       "  float: left;\n",
       "  margin-right: 0.25em;\n",
       "  color: var(--sklearn-color-icon);\n",
       "}\n",
       "\n",
       "#sk-container-id-1 label.sk-toggleable__label-arrow:hover:before {\n",
       "  color: var(--sklearn-color-text);\n",
       "}\n",
       "\n",
       "/* Toggleable content - dropdown */\n",
       "\n",
       "#sk-container-id-1 div.sk-toggleable__content {\n",
       "  max-height: 0;\n",
       "  max-width: 0;\n",
       "  overflow: hidden;\n",
       "  text-align: left;\n",
       "  /* unfitted */\n",
       "  background-color: var(--sklearn-color-unfitted-level-0);\n",
       "}\n",
       "\n",
       "#sk-container-id-1 div.sk-toggleable__content.fitted {\n",
       "  /* fitted */\n",
       "  background-color: var(--sklearn-color-fitted-level-0);\n",
       "}\n",
       "\n",
       "#sk-container-id-1 div.sk-toggleable__content pre {\n",
       "  margin: 0.2em;\n",
       "  border-radius: 0.25em;\n",
       "  color: var(--sklearn-color-text);\n",
       "  /* unfitted */\n",
       "  background-color: var(--sklearn-color-unfitted-level-0);\n",
       "}\n",
       "\n",
       "#sk-container-id-1 div.sk-toggleable__content.fitted pre {\n",
       "  /* unfitted */\n",
       "  background-color: var(--sklearn-color-fitted-level-0);\n",
       "}\n",
       "\n",
       "#sk-container-id-1 input.sk-toggleable__control:checked~div.sk-toggleable__content {\n",
       "  /* Expand drop-down */\n",
       "  max-height: 200px;\n",
       "  max-width: 100%;\n",
       "  overflow: auto;\n",
       "}\n",
       "\n",
       "#sk-container-id-1 input.sk-toggleable__control:checked~label.sk-toggleable__label-arrow:before {\n",
       "  content: \"▾\";\n",
       "}\n",
       "\n",
       "/* Pipeline/ColumnTransformer-specific style */\n",
       "\n",
       "#sk-container-id-1 div.sk-label input.sk-toggleable__control:checked~label.sk-toggleable__label {\n",
       "  color: var(--sklearn-color-text);\n",
       "  background-color: var(--sklearn-color-unfitted-level-2);\n",
       "}\n",
       "\n",
       "#sk-container-id-1 div.sk-label.fitted input.sk-toggleable__control:checked~label.sk-toggleable__label {\n",
       "  background-color: var(--sklearn-color-fitted-level-2);\n",
       "}\n",
       "\n",
       "/* Estimator-specific style */\n",
       "\n",
       "/* Colorize estimator box */\n",
       "#sk-container-id-1 div.sk-estimator input.sk-toggleable__control:checked~label.sk-toggleable__label {\n",
       "  /* unfitted */\n",
       "  background-color: var(--sklearn-color-unfitted-level-2);\n",
       "}\n",
       "\n",
       "#sk-container-id-1 div.sk-estimator.fitted input.sk-toggleable__control:checked~label.sk-toggleable__label {\n",
       "  /* fitted */\n",
       "  background-color: var(--sklearn-color-fitted-level-2);\n",
       "}\n",
       "\n",
       "#sk-container-id-1 div.sk-label label.sk-toggleable__label,\n",
       "#sk-container-id-1 div.sk-label label {\n",
       "  /* The background is the default theme color */\n",
       "  color: var(--sklearn-color-text-on-default-background);\n",
       "}\n",
       "\n",
       "/* On hover, darken the color of the background */\n",
       "#sk-container-id-1 div.sk-label:hover label.sk-toggleable__label {\n",
       "  color: var(--sklearn-color-text);\n",
       "  background-color: var(--sklearn-color-unfitted-level-2);\n",
       "}\n",
       "\n",
       "/* Label box, darken color on hover, fitted */\n",
       "#sk-container-id-1 div.sk-label.fitted:hover label.sk-toggleable__label.fitted {\n",
       "  color: var(--sklearn-color-text);\n",
       "  background-color: var(--sklearn-color-fitted-level-2);\n",
       "}\n",
       "\n",
       "/* Estimator label */\n",
       "\n",
       "#sk-container-id-1 div.sk-label label {\n",
       "  font-family: monospace;\n",
       "  font-weight: bold;\n",
       "  display: inline-block;\n",
       "  line-height: 1.2em;\n",
       "}\n",
       "\n",
       "#sk-container-id-1 div.sk-label-container {\n",
       "  text-align: center;\n",
       "}\n",
       "\n",
       "/* Estimator-specific */\n",
       "#sk-container-id-1 div.sk-estimator {\n",
       "  font-family: monospace;\n",
       "  border: 1px dotted var(--sklearn-color-border-box);\n",
       "  border-radius: 0.25em;\n",
       "  box-sizing: border-box;\n",
       "  margin-bottom: 0.5em;\n",
       "  /* unfitted */\n",
       "  background-color: var(--sklearn-color-unfitted-level-0);\n",
       "}\n",
       "\n",
       "#sk-container-id-1 div.sk-estimator.fitted {\n",
       "  /* fitted */\n",
       "  background-color: var(--sklearn-color-fitted-level-0);\n",
       "}\n",
       "\n",
       "/* on hover */\n",
       "#sk-container-id-1 div.sk-estimator:hover {\n",
       "  /* unfitted */\n",
       "  background-color: var(--sklearn-color-unfitted-level-2);\n",
       "}\n",
       "\n",
       "#sk-container-id-1 div.sk-estimator.fitted:hover {\n",
       "  /* fitted */\n",
       "  background-color: var(--sklearn-color-fitted-level-2);\n",
       "}\n",
       "\n",
       "/* Specification for estimator info (e.g. \"i\" and \"?\") */\n",
       "\n",
       "/* Common style for \"i\" and \"?\" */\n",
       "\n",
       ".sk-estimator-doc-link,\n",
       "a:link.sk-estimator-doc-link,\n",
       "a:visited.sk-estimator-doc-link {\n",
       "  float: right;\n",
       "  font-size: smaller;\n",
       "  line-height: 1em;\n",
       "  font-family: monospace;\n",
       "  background-color: var(--sklearn-color-background);\n",
       "  border-radius: 1em;\n",
       "  height: 1em;\n",
       "  width: 1em;\n",
       "  text-decoration: none !important;\n",
       "  margin-left: 1ex;\n",
       "  /* unfitted */\n",
       "  border: var(--sklearn-color-unfitted-level-1) 1pt solid;\n",
       "  color: var(--sklearn-color-unfitted-level-1);\n",
       "}\n",
       "\n",
       ".sk-estimator-doc-link.fitted,\n",
       "a:link.sk-estimator-doc-link.fitted,\n",
       "a:visited.sk-estimator-doc-link.fitted {\n",
       "  /* fitted */\n",
       "  border: var(--sklearn-color-fitted-level-1) 1pt solid;\n",
       "  color: var(--sklearn-color-fitted-level-1);\n",
       "}\n",
       "\n",
       "/* On hover */\n",
       "div.sk-estimator:hover .sk-estimator-doc-link:hover,\n",
       ".sk-estimator-doc-link:hover,\n",
       "div.sk-label-container:hover .sk-estimator-doc-link:hover,\n",
       ".sk-estimator-doc-link:hover {\n",
       "  /* unfitted */\n",
       "  background-color: var(--sklearn-color-unfitted-level-3);\n",
       "  color: var(--sklearn-color-background);\n",
       "  text-decoration: none;\n",
       "}\n",
       "\n",
       "div.sk-estimator.fitted:hover .sk-estimator-doc-link.fitted:hover,\n",
       ".sk-estimator-doc-link.fitted:hover,\n",
       "div.sk-label-container:hover .sk-estimator-doc-link.fitted:hover,\n",
       ".sk-estimator-doc-link.fitted:hover {\n",
       "  /* fitted */\n",
       "  background-color: var(--sklearn-color-fitted-level-3);\n",
       "  color: var(--sklearn-color-background);\n",
       "  text-decoration: none;\n",
       "}\n",
       "\n",
       "/* Span, style for the box shown on hovering the info icon */\n",
       ".sk-estimator-doc-link span {\n",
       "  display: none;\n",
       "  z-index: 9999;\n",
       "  position: relative;\n",
       "  font-weight: normal;\n",
       "  right: .2ex;\n",
       "  padding: .5ex;\n",
       "  margin: .5ex;\n",
       "  width: min-content;\n",
       "  min-width: 20ex;\n",
       "  max-width: 50ex;\n",
       "  color: var(--sklearn-color-text);\n",
       "  box-shadow: 2pt 2pt 4pt #999;\n",
       "  /* unfitted */\n",
       "  background: var(--sklearn-color-unfitted-level-0);\n",
       "  border: .5pt solid var(--sklearn-color-unfitted-level-3);\n",
       "}\n",
       "\n",
       ".sk-estimator-doc-link.fitted span {\n",
       "  /* fitted */\n",
       "  background: var(--sklearn-color-fitted-level-0);\n",
       "  border: var(--sklearn-color-fitted-level-3);\n",
       "}\n",
       "\n",
       ".sk-estimator-doc-link:hover span {\n",
       "  display: block;\n",
       "}\n",
       "\n",
       "/* \"?\"-specific style due to the `<a>` HTML tag */\n",
       "\n",
       "#sk-container-id-1 a.estimator_doc_link {\n",
       "  float: right;\n",
       "  font-size: 1rem;\n",
       "  line-height: 1em;\n",
       "  font-family: monospace;\n",
       "  background-color: var(--sklearn-color-background);\n",
       "  border-radius: 1rem;\n",
       "  height: 1rem;\n",
       "  width: 1rem;\n",
       "  text-decoration: none;\n",
       "  /* unfitted */\n",
       "  color: var(--sklearn-color-unfitted-level-1);\n",
       "  border: var(--sklearn-color-unfitted-level-1) 1pt solid;\n",
       "}\n",
       "\n",
       "#sk-container-id-1 a.estimator_doc_link.fitted {\n",
       "  /* fitted */\n",
       "  border: var(--sklearn-color-fitted-level-1) 1pt solid;\n",
       "  color: var(--sklearn-color-fitted-level-1);\n",
       "}\n",
       "\n",
       "/* On hover */\n",
       "#sk-container-id-1 a.estimator_doc_link:hover {\n",
       "  /* unfitted */\n",
       "  background-color: var(--sklearn-color-unfitted-level-3);\n",
       "  color: var(--sklearn-color-background);\n",
       "  text-decoration: none;\n",
       "}\n",
       "\n",
       "#sk-container-id-1 a.estimator_doc_link.fitted:hover {\n",
       "  /* fitted */\n",
       "  background-color: var(--sklearn-color-fitted-level-3);\n",
       "}\n",
       "</style><div id=\"sk-container-id-1\" class=\"sk-top-container\"><div class=\"sk-text-repr-fallback\"><pre>DictVectorizer(sparse=False)</pre><b>In a Jupyter environment, please rerun this cell to show the HTML representation or trust the notebook. <br />On GitHub, the HTML representation is unable to render, please try loading this page with nbviewer.org.</b></div><div class=\"sk-container\" hidden><div class=\"sk-item\"><div class=\"sk-estimator fitted sk-toggleable\"><input class=\"sk-toggleable__control sk-hidden--visually\" id=\"sk-estimator-id-1\" type=\"checkbox\" checked><label for=\"sk-estimator-id-1\" class=\"sk-toggleable__label fitted sk-toggleable__label-arrow fitted\">&nbsp;&nbsp;DictVectorizer<a class=\"sk-estimator-doc-link fitted\" rel=\"noreferrer\" target=\"_blank\" href=\"https://scikit-learn.org/1.4/modules/generated/sklearn.feature_extraction.DictVectorizer.html\">?<span>Documentation for DictVectorizer</span></a><span class=\"sk-estimator-doc-link fitted\">i<span>Fitted</span></span></label><div class=\"sk-toggleable__content fitted\"><pre>DictVectorizer(sparse=False)</pre></div> </div></div></div></div>"
      ],
      "text/plain": [
       "DictVectorizer(sparse=False)"
      ]
     },
     "execution_count": 83,
     "metadata": {},
     "output_type": "execute_result"
    }
   ],
   "source": [
    "dv = DictVectorizer(sparse=False)\n",
    "dv.fit(train_dict)"
   ]
  },
  {
   "cell_type": "code",
   "execution_count": 84,
   "id": "22df1e0b-0caf-4c2c-a889-991aa4e0a241",
   "metadata": {},
   "outputs": [],
   "source": [
    "X_train = dv.transform(train_dict)\n",
    "\n",
    "X_valid = dv.transform(valid_dict)"
   ]
  },
  {
   "cell_type": "markdown",
   "id": "1c43382a-8cbf-4d40-9b5a-d514bfe27224",
   "metadata": {},
   "source": [
    "# TRAINING THE MODEL"
   ]
  },
  {
   "cell_type": "code",
   "execution_count": 86,
   "id": "ec3e14fe-01bc-4cca-b576-eceb23afe7d8",
   "metadata": {},
   "outputs": [
    {
     "data": {
      "text/html": [
       "<style>#sk-container-id-2 {\n",
       "  /* Definition of color scheme common for light and dark mode */\n",
       "  --sklearn-color-text: black;\n",
       "  --sklearn-color-line: gray;\n",
       "  /* Definition of color scheme for unfitted estimators */\n",
       "  --sklearn-color-unfitted-level-0: #fff5e6;\n",
       "  --sklearn-color-unfitted-level-1: #f6e4d2;\n",
       "  --sklearn-color-unfitted-level-2: #ffe0b3;\n",
       "  --sklearn-color-unfitted-level-3: chocolate;\n",
       "  /* Definition of color scheme for fitted estimators */\n",
       "  --sklearn-color-fitted-level-0: #f0f8ff;\n",
       "  --sklearn-color-fitted-level-1: #d4ebff;\n",
       "  --sklearn-color-fitted-level-2: #b3dbfd;\n",
       "  --sklearn-color-fitted-level-3: cornflowerblue;\n",
       "\n",
       "  /* Specific color for light theme */\n",
       "  --sklearn-color-text-on-default-background: var(--sg-text-color, var(--theme-code-foreground, var(--jp-content-font-color1, black)));\n",
       "  --sklearn-color-background: var(--sg-background-color, var(--theme-background, var(--jp-layout-color0, white)));\n",
       "  --sklearn-color-border-box: var(--sg-text-color, var(--theme-code-foreground, var(--jp-content-font-color1, black)));\n",
       "  --sklearn-color-icon: #696969;\n",
       "\n",
       "  @media (prefers-color-scheme: dark) {\n",
       "    /* Redefinition of color scheme for dark theme */\n",
       "    --sklearn-color-text-on-default-background: var(--sg-text-color, var(--theme-code-foreground, var(--jp-content-font-color1, white)));\n",
       "    --sklearn-color-background: var(--sg-background-color, var(--theme-background, var(--jp-layout-color0, #111)));\n",
       "    --sklearn-color-border-box: var(--sg-text-color, var(--theme-code-foreground, var(--jp-content-font-color1, white)));\n",
       "    --sklearn-color-icon: #878787;\n",
       "  }\n",
       "}\n",
       "\n",
       "#sk-container-id-2 {\n",
       "  color: var(--sklearn-color-text);\n",
       "}\n",
       "\n",
       "#sk-container-id-2 pre {\n",
       "  padding: 0;\n",
       "}\n",
       "\n",
       "#sk-container-id-2 input.sk-hidden--visually {\n",
       "  border: 0;\n",
       "  clip: rect(1px 1px 1px 1px);\n",
       "  clip: rect(1px, 1px, 1px, 1px);\n",
       "  height: 1px;\n",
       "  margin: -1px;\n",
       "  overflow: hidden;\n",
       "  padding: 0;\n",
       "  position: absolute;\n",
       "  width: 1px;\n",
       "}\n",
       "\n",
       "#sk-container-id-2 div.sk-dashed-wrapped {\n",
       "  border: 1px dashed var(--sklearn-color-line);\n",
       "  margin: 0 0.4em 0.5em 0.4em;\n",
       "  box-sizing: border-box;\n",
       "  padding-bottom: 0.4em;\n",
       "  background-color: var(--sklearn-color-background);\n",
       "}\n",
       "\n",
       "#sk-container-id-2 div.sk-container {\n",
       "  /* jupyter's `normalize.less` sets `[hidden] { display: none; }`\n",
       "     but bootstrap.min.css set `[hidden] { display: none !important; }`\n",
       "     so we also need the `!important` here to be able to override the\n",
       "     default hidden behavior on the sphinx rendered scikit-learn.org.\n",
       "     See: https://github.com/scikit-learn/scikit-learn/issues/21755 */\n",
       "  display: inline-block !important;\n",
       "  position: relative;\n",
       "}\n",
       "\n",
       "#sk-container-id-2 div.sk-text-repr-fallback {\n",
       "  display: none;\n",
       "}\n",
       "\n",
       "div.sk-parallel-item,\n",
       "div.sk-serial,\n",
       "div.sk-item {\n",
       "  /* draw centered vertical line to link estimators */\n",
       "  background-image: linear-gradient(var(--sklearn-color-text-on-default-background), var(--sklearn-color-text-on-default-background));\n",
       "  background-size: 2px 100%;\n",
       "  background-repeat: no-repeat;\n",
       "  background-position: center center;\n",
       "}\n",
       "\n",
       "/* Parallel-specific style estimator block */\n",
       "\n",
       "#sk-container-id-2 div.sk-parallel-item::after {\n",
       "  content: \"\";\n",
       "  width: 100%;\n",
       "  border-bottom: 2px solid var(--sklearn-color-text-on-default-background);\n",
       "  flex-grow: 1;\n",
       "}\n",
       "\n",
       "#sk-container-id-2 div.sk-parallel {\n",
       "  display: flex;\n",
       "  align-items: stretch;\n",
       "  justify-content: center;\n",
       "  background-color: var(--sklearn-color-background);\n",
       "  position: relative;\n",
       "}\n",
       "\n",
       "#sk-container-id-2 div.sk-parallel-item {\n",
       "  display: flex;\n",
       "  flex-direction: column;\n",
       "}\n",
       "\n",
       "#sk-container-id-2 div.sk-parallel-item:first-child::after {\n",
       "  align-self: flex-end;\n",
       "  width: 50%;\n",
       "}\n",
       "\n",
       "#sk-container-id-2 div.sk-parallel-item:last-child::after {\n",
       "  align-self: flex-start;\n",
       "  width: 50%;\n",
       "}\n",
       "\n",
       "#sk-container-id-2 div.sk-parallel-item:only-child::after {\n",
       "  width: 0;\n",
       "}\n",
       "\n",
       "/* Serial-specific style estimator block */\n",
       "\n",
       "#sk-container-id-2 div.sk-serial {\n",
       "  display: flex;\n",
       "  flex-direction: column;\n",
       "  align-items: center;\n",
       "  background-color: var(--sklearn-color-background);\n",
       "  padding-right: 1em;\n",
       "  padding-left: 1em;\n",
       "}\n",
       "\n",
       "\n",
       "/* Toggleable style: style used for estimator/Pipeline/ColumnTransformer box that is\n",
       "clickable and can be expanded/collapsed.\n",
       "- Pipeline and ColumnTransformer use this feature and define the default style\n",
       "- Estimators will overwrite some part of the style using the `sk-estimator` class\n",
       "*/\n",
       "\n",
       "/* Pipeline and ColumnTransformer style (default) */\n",
       "\n",
       "#sk-container-id-2 div.sk-toggleable {\n",
       "  /* Default theme specific background. It is overwritten whether we have a\n",
       "  specific estimator or a Pipeline/ColumnTransformer */\n",
       "  background-color: var(--sklearn-color-background);\n",
       "}\n",
       "\n",
       "/* Toggleable label */\n",
       "#sk-container-id-2 label.sk-toggleable__label {\n",
       "  cursor: pointer;\n",
       "  display: block;\n",
       "  width: 100%;\n",
       "  margin-bottom: 0;\n",
       "  padding: 0.5em;\n",
       "  box-sizing: border-box;\n",
       "  text-align: center;\n",
       "}\n",
       "\n",
       "#sk-container-id-2 label.sk-toggleable__label-arrow:before {\n",
       "  /* Arrow on the left of the label */\n",
       "  content: \"▸\";\n",
       "  float: left;\n",
       "  margin-right: 0.25em;\n",
       "  color: var(--sklearn-color-icon);\n",
       "}\n",
       "\n",
       "#sk-container-id-2 label.sk-toggleable__label-arrow:hover:before {\n",
       "  color: var(--sklearn-color-text);\n",
       "}\n",
       "\n",
       "/* Toggleable content - dropdown */\n",
       "\n",
       "#sk-container-id-2 div.sk-toggleable__content {\n",
       "  max-height: 0;\n",
       "  max-width: 0;\n",
       "  overflow: hidden;\n",
       "  text-align: left;\n",
       "  /* unfitted */\n",
       "  background-color: var(--sklearn-color-unfitted-level-0);\n",
       "}\n",
       "\n",
       "#sk-container-id-2 div.sk-toggleable__content.fitted {\n",
       "  /* fitted */\n",
       "  background-color: var(--sklearn-color-fitted-level-0);\n",
       "}\n",
       "\n",
       "#sk-container-id-2 div.sk-toggleable__content pre {\n",
       "  margin: 0.2em;\n",
       "  border-radius: 0.25em;\n",
       "  color: var(--sklearn-color-text);\n",
       "  /* unfitted */\n",
       "  background-color: var(--sklearn-color-unfitted-level-0);\n",
       "}\n",
       "\n",
       "#sk-container-id-2 div.sk-toggleable__content.fitted pre {\n",
       "  /* unfitted */\n",
       "  background-color: var(--sklearn-color-fitted-level-0);\n",
       "}\n",
       "\n",
       "#sk-container-id-2 input.sk-toggleable__control:checked~div.sk-toggleable__content {\n",
       "  /* Expand drop-down */\n",
       "  max-height: 200px;\n",
       "  max-width: 100%;\n",
       "  overflow: auto;\n",
       "}\n",
       "\n",
       "#sk-container-id-2 input.sk-toggleable__control:checked~label.sk-toggleable__label-arrow:before {\n",
       "  content: \"▾\";\n",
       "}\n",
       "\n",
       "/* Pipeline/ColumnTransformer-specific style */\n",
       "\n",
       "#sk-container-id-2 div.sk-label input.sk-toggleable__control:checked~label.sk-toggleable__label {\n",
       "  color: var(--sklearn-color-text);\n",
       "  background-color: var(--sklearn-color-unfitted-level-2);\n",
       "}\n",
       "\n",
       "#sk-container-id-2 div.sk-label.fitted input.sk-toggleable__control:checked~label.sk-toggleable__label {\n",
       "  background-color: var(--sklearn-color-fitted-level-2);\n",
       "}\n",
       "\n",
       "/* Estimator-specific style */\n",
       "\n",
       "/* Colorize estimator box */\n",
       "#sk-container-id-2 div.sk-estimator input.sk-toggleable__control:checked~label.sk-toggleable__label {\n",
       "  /* unfitted */\n",
       "  background-color: var(--sklearn-color-unfitted-level-2);\n",
       "}\n",
       "\n",
       "#sk-container-id-2 div.sk-estimator.fitted input.sk-toggleable__control:checked~label.sk-toggleable__label {\n",
       "  /* fitted */\n",
       "  background-color: var(--sklearn-color-fitted-level-2);\n",
       "}\n",
       "\n",
       "#sk-container-id-2 div.sk-label label.sk-toggleable__label,\n",
       "#sk-container-id-2 div.sk-label label {\n",
       "  /* The background is the default theme color */\n",
       "  color: var(--sklearn-color-text-on-default-background);\n",
       "}\n",
       "\n",
       "/* On hover, darken the color of the background */\n",
       "#sk-container-id-2 div.sk-label:hover label.sk-toggleable__label {\n",
       "  color: var(--sklearn-color-text);\n",
       "  background-color: var(--sklearn-color-unfitted-level-2);\n",
       "}\n",
       "\n",
       "/* Label box, darken color on hover, fitted */\n",
       "#sk-container-id-2 div.sk-label.fitted:hover label.sk-toggleable__label.fitted {\n",
       "  color: var(--sklearn-color-text);\n",
       "  background-color: var(--sklearn-color-fitted-level-2);\n",
       "}\n",
       "\n",
       "/* Estimator label */\n",
       "\n",
       "#sk-container-id-2 div.sk-label label {\n",
       "  font-family: monospace;\n",
       "  font-weight: bold;\n",
       "  display: inline-block;\n",
       "  line-height: 1.2em;\n",
       "}\n",
       "\n",
       "#sk-container-id-2 div.sk-label-container {\n",
       "  text-align: center;\n",
       "}\n",
       "\n",
       "/* Estimator-specific */\n",
       "#sk-container-id-2 div.sk-estimator {\n",
       "  font-family: monospace;\n",
       "  border: 1px dotted var(--sklearn-color-border-box);\n",
       "  border-radius: 0.25em;\n",
       "  box-sizing: border-box;\n",
       "  margin-bottom: 0.5em;\n",
       "  /* unfitted */\n",
       "  background-color: var(--sklearn-color-unfitted-level-0);\n",
       "}\n",
       "\n",
       "#sk-container-id-2 div.sk-estimator.fitted {\n",
       "  /* fitted */\n",
       "  background-color: var(--sklearn-color-fitted-level-0);\n",
       "}\n",
       "\n",
       "/* on hover */\n",
       "#sk-container-id-2 div.sk-estimator:hover {\n",
       "  /* unfitted */\n",
       "  background-color: var(--sklearn-color-unfitted-level-2);\n",
       "}\n",
       "\n",
       "#sk-container-id-2 div.sk-estimator.fitted:hover {\n",
       "  /* fitted */\n",
       "  background-color: var(--sklearn-color-fitted-level-2);\n",
       "}\n",
       "\n",
       "/* Specification for estimator info (e.g. \"i\" and \"?\") */\n",
       "\n",
       "/* Common style for \"i\" and \"?\" */\n",
       "\n",
       ".sk-estimator-doc-link,\n",
       "a:link.sk-estimator-doc-link,\n",
       "a:visited.sk-estimator-doc-link {\n",
       "  float: right;\n",
       "  font-size: smaller;\n",
       "  line-height: 1em;\n",
       "  font-family: monospace;\n",
       "  background-color: var(--sklearn-color-background);\n",
       "  border-radius: 1em;\n",
       "  height: 1em;\n",
       "  width: 1em;\n",
       "  text-decoration: none !important;\n",
       "  margin-left: 1ex;\n",
       "  /* unfitted */\n",
       "  border: var(--sklearn-color-unfitted-level-1) 1pt solid;\n",
       "  color: var(--sklearn-color-unfitted-level-1);\n",
       "}\n",
       "\n",
       ".sk-estimator-doc-link.fitted,\n",
       "a:link.sk-estimator-doc-link.fitted,\n",
       "a:visited.sk-estimator-doc-link.fitted {\n",
       "  /* fitted */\n",
       "  border: var(--sklearn-color-fitted-level-1) 1pt solid;\n",
       "  color: var(--sklearn-color-fitted-level-1);\n",
       "}\n",
       "\n",
       "/* On hover */\n",
       "div.sk-estimator:hover .sk-estimator-doc-link:hover,\n",
       ".sk-estimator-doc-link:hover,\n",
       "div.sk-label-container:hover .sk-estimator-doc-link:hover,\n",
       ".sk-estimator-doc-link:hover {\n",
       "  /* unfitted */\n",
       "  background-color: var(--sklearn-color-unfitted-level-3);\n",
       "  color: var(--sklearn-color-background);\n",
       "  text-decoration: none;\n",
       "}\n",
       "\n",
       "div.sk-estimator.fitted:hover .sk-estimator-doc-link.fitted:hover,\n",
       ".sk-estimator-doc-link.fitted:hover,\n",
       "div.sk-label-container:hover .sk-estimator-doc-link.fitted:hover,\n",
       ".sk-estimator-doc-link.fitted:hover {\n",
       "  /* fitted */\n",
       "  background-color: var(--sklearn-color-fitted-level-3);\n",
       "  color: var(--sklearn-color-background);\n",
       "  text-decoration: none;\n",
       "}\n",
       "\n",
       "/* Span, style for the box shown on hovering the info icon */\n",
       ".sk-estimator-doc-link span {\n",
       "  display: none;\n",
       "  z-index: 9999;\n",
       "  position: relative;\n",
       "  font-weight: normal;\n",
       "  right: .2ex;\n",
       "  padding: .5ex;\n",
       "  margin: .5ex;\n",
       "  width: min-content;\n",
       "  min-width: 20ex;\n",
       "  max-width: 50ex;\n",
       "  color: var(--sklearn-color-text);\n",
       "  box-shadow: 2pt 2pt 4pt #999;\n",
       "  /* unfitted */\n",
       "  background: var(--sklearn-color-unfitted-level-0);\n",
       "  border: .5pt solid var(--sklearn-color-unfitted-level-3);\n",
       "}\n",
       "\n",
       ".sk-estimator-doc-link.fitted span {\n",
       "  /* fitted */\n",
       "  background: var(--sklearn-color-fitted-level-0);\n",
       "  border: var(--sklearn-color-fitted-level-3);\n",
       "}\n",
       "\n",
       ".sk-estimator-doc-link:hover span {\n",
       "  display: block;\n",
       "}\n",
       "\n",
       "/* \"?\"-specific style due to the `<a>` HTML tag */\n",
       "\n",
       "#sk-container-id-2 a.estimator_doc_link {\n",
       "  float: right;\n",
       "  font-size: 1rem;\n",
       "  line-height: 1em;\n",
       "  font-family: monospace;\n",
       "  background-color: var(--sklearn-color-background);\n",
       "  border-radius: 1rem;\n",
       "  height: 1rem;\n",
       "  width: 1rem;\n",
       "  text-decoration: none;\n",
       "  /* unfitted */\n",
       "  color: var(--sklearn-color-unfitted-level-1);\n",
       "  border: var(--sklearn-color-unfitted-level-1) 1pt solid;\n",
       "}\n",
       "\n",
       "#sk-container-id-2 a.estimator_doc_link.fitted {\n",
       "  /* fitted */\n",
       "  border: var(--sklearn-color-fitted-level-1) 1pt solid;\n",
       "  color: var(--sklearn-color-fitted-level-1);\n",
       "}\n",
       "\n",
       "/* On hover */\n",
       "#sk-container-id-2 a.estimator_doc_link:hover {\n",
       "  /* unfitted */\n",
       "  background-color: var(--sklearn-color-unfitted-level-3);\n",
       "  color: var(--sklearn-color-background);\n",
       "  text-decoration: none;\n",
       "}\n",
       "\n",
       "#sk-container-id-2 a.estimator_doc_link.fitted:hover {\n",
       "  /* fitted */\n",
       "  background-color: var(--sklearn-color-fitted-level-3);\n",
       "}\n",
       "</style><div id=\"sk-container-id-2\" class=\"sk-top-container\"><div class=\"sk-text-repr-fallback\"><pre>LogisticRegression(random_state=1, solver=&#x27;liblinear&#x27;)</pre><b>In a Jupyter environment, please rerun this cell to show the HTML representation or trust the notebook. <br />On GitHub, the HTML representation is unable to render, please try loading this page with nbviewer.org.</b></div><div class=\"sk-container\" hidden><div class=\"sk-item\"><div class=\"sk-estimator fitted sk-toggleable\"><input class=\"sk-toggleable__control sk-hidden--visually\" id=\"sk-estimator-id-2\" type=\"checkbox\" checked><label for=\"sk-estimator-id-2\" class=\"sk-toggleable__label fitted sk-toggleable__label-arrow fitted\">&nbsp;&nbsp;LogisticRegression<a class=\"sk-estimator-doc-link fitted\" rel=\"noreferrer\" target=\"_blank\" href=\"https://scikit-learn.org/1.4/modules/generated/sklearn.linear_model.LogisticRegression.html\">?<span>Documentation for LogisticRegression</span></a><span class=\"sk-estimator-doc-link fitted\">i<span>Fitted</span></span></label><div class=\"sk-toggleable__content fitted\"><pre>LogisticRegression(random_state=1, solver=&#x27;liblinear&#x27;)</pre></div> </div></div></div></div>"
      ],
      "text/plain": [
       "LogisticRegression(random_state=1, solver='liblinear')"
      ]
     },
     "execution_count": 86,
     "metadata": {},
     "output_type": "execute_result"
    }
   ],
   "source": [
    "model = LogisticRegression(solver='liblinear', random_state=1)\n",
    "model.fit(X_train, y_train)"
   ]
  },
  {
   "cell_type": "code",
   "execution_count": 87,
   "id": "39a77f36-b6e5-43eb-b57d-f93ca977c8e9",
   "metadata": {},
   "outputs": [
    {
     "data": {
      "text/plain": [
       "array([[8.16276684e-03, 9.91837233e-01],\n",
       "       [8.24132782e-01, 1.75867218e-01],\n",
       "       [4.39980678e-02, 9.56001932e-01],\n",
       "       [1.25007628e-01, 8.74992372e-01],\n",
       "       [9.78378412e-01, 2.16215882e-02],\n",
       "       [8.86493022e-01, 1.13506978e-01],\n",
       "       [9.25595155e-01, 7.44048449e-02],\n",
       "       [7.44237581e-01, 2.55762419e-01],\n",
       "       [1.01964762e-02, 9.89803524e-01],\n",
       "       [9.95102187e-01, 4.89781285e-03],\n",
       "       [6.19828757e-03, 9.93801712e-01],\n",
       "       [9.95056435e-01, 4.94356453e-03],\n",
       "       [9.98213468e-01, 1.78653228e-03],\n",
       "       [9.85262108e-01, 1.47378916e-02],\n",
       "       [8.80256006e-02, 9.11974399e-01],\n",
       "       [9.43974507e-01, 5.60254927e-02],\n",
       "       [2.55570309e-04, 9.99744430e-01],\n",
       "       [1.42323075e-03, 9.98576769e-01],\n",
       "       [9.83331477e-01, 1.66685234e-02],\n",
       "       [8.87049466e-01, 1.12950534e-01],\n",
       "       [1.55218742e-02, 9.84478126e-01],\n",
       "       [4.18016657e-01, 5.81983343e-01],\n",
       "       [9.47647363e-01, 5.23526368e-02],\n",
       "       [6.49257322e-03, 9.93507427e-01],\n",
       "       [3.78529021e-02, 9.62147098e-01],\n",
       "       [9.74974455e-01, 2.50255446e-02],\n",
       "       [8.62429668e-01, 1.37570332e-01],\n",
       "       [2.45687616e-02, 9.75431238e-01],\n",
       "       [9.75955581e-01, 2.40444186e-02],\n",
       "       [8.16029793e-01, 1.83970207e-01],\n",
       "       [6.54522006e-03, 9.93454780e-01],\n",
       "       [1.18320355e-03, 9.98816796e-01],\n",
       "       [1.72114383e-03, 9.98278856e-01],\n",
       "       [2.72000488e-02, 9.72799951e-01],\n",
       "       [1.49497721e-02, 9.85050228e-01],\n",
       "       [3.47525988e-03, 9.96524740e-01],\n",
       "       [5.28824365e-01, 4.71175635e-01],\n",
       "       [1.53751437e-04, 9.99846249e-01],\n",
       "       [5.84783265e-01, 4.15216735e-01],\n",
       "       [9.60403527e-01, 3.95964730e-02],\n",
       "       [8.44380315e-01, 1.55619685e-01],\n",
       "       [2.46549735e-02, 9.75345026e-01],\n",
       "       [9.89855109e-01, 1.01448914e-02]])"
      ]
     },
     "execution_count": 87,
     "metadata": {},
     "output_type": "execute_result"
    }
   ],
   "source": [
    "y_valid_pred = model.predict_proba(X_valid)\n",
    "y_valid_pred"
   ]
  },
  {
   "cell_type": "code",
   "execution_count": 88,
   "id": "93476bd8-b022-40df-a60a-f1fb6b94d01d",
   "metadata": {},
   "outputs": [],
   "source": [
    "y_valid_pred = model.predict_proba(X_valid)[:, 1]"
   ]
  },
  {
   "cell_type": "code",
   "execution_count": 89,
   "id": "ea34f033-4729-4fa5-874e-338205b59223",
   "metadata": {},
   "outputs": [],
   "source": [
    "diagnosis_result = y_valid_pred >= 0.5"
   ]
  },
  {
   "cell_type": "code",
   "execution_count": 90,
   "id": "6c7404c2-cdcf-4638-b41b-f04468549c57",
   "metadata": {},
   "outputs": [
    {
     "data": {
      "text/plain": [
       "0.9069767441860465"
      ]
     },
     "execution_count": 90,
     "metadata": {},
     "output_type": "execute_result"
    }
   ],
   "source": [
    "(y_valid == diagnosis_result).mean()"
   ]
  },
  {
   "cell_type": "code",
   "execution_count": 91,
   "id": "ce6fc0ee-124f-4b17-b137-c080b614092f",
   "metadata": {},
   "outputs": [
    {
     "name": "stdout",
     "output_type": "stream",
     "text": [
      "Validation Accuracy Score: 90.7%\n"
     ]
    }
   ],
   "source": [
    "acc_score = accuracy_score(y_valid, diagnosis_result)\n",
    "print(f'Validation Accuracy Score: {round(acc_score * 100, 1)}%')"
   ]
  },
  {
   "cell_type": "markdown",
   "id": "1e2426b1-005b-4c8a-90ee-b0103744a446",
   "metadata": {},
   "source": [
    "# SAVING THE MODEL"
   ]
  },
  {
   "cell_type": "code",
   "execution_count": 93,
   "id": "dd7718c0-5f03-4b63-a2f0-d9802f2c24f3",
   "metadata": {},
   "outputs": [],
   "source": [
    "## specifyging where to save the file\n",
    "with open('breast-cancer-model.bin', 'wb') as f_out:\n",
    "    ## save the model\n",
    "    pickle.dump((dv,model), f_out)"
   ]
  },
  {
   "cell_type": "markdown",
   "id": "bc9a5b61-1b22-452e-ad84-d4f501c8064c",
   "metadata": {},
   "source": [
    "# LOADING THE MODEL"
   ]
  },
  {
   "cell_type": "code",
   "execution_count": 94,
   "id": "03f96b43-6f86-458e-90d6-d99873da10b7",
   "metadata": {},
   "outputs": [],
   "source": [
    "with open('breast-cancer-model.bin', 'rb') as f_in:\n",
    "    dv, model = pickle.load(f_in)"
   ]
  },
  {
   "cell_type": "markdown",
   "id": "4ced3d6d-ed17-4924-a693-15a95b79962b",
   "metadata": {},
   "source": [
    "# BUILDING PREDICITVE"
   ]
  },
  {
   "cell_type": "code",
   "execution_count": 95,
   "id": "dd1de1cb-5f48-4f4d-ada0-9a3328231fbe",
   "metadata": {},
   "outputs": [],
   "source": [
    "# sample patient Data \n",
    "patient = {\n",
    " 's/n': 0,\n",
    " 'year': 2019,\n",
    " 'age': 40,\n",
    " 'menopause': 0,\n",
    " 'tumor_size': 10.0,\n",
    " 'inv_nodes': 0.0,\n",
    " 'breast': 'Right',    \n",
    " 'metastasis': 0,\n",
    " 'breast_quadrant': 'Upper inner',\n",
    " 'history': 1,\n",
    "}"
   ]
  },
  {
   "cell_type": "code",
   "execution_count": 96,
   "id": "b1cdc241-3557-4681-981a-27442bd899b1",
   "metadata": {},
   "outputs": [],
   "source": [
    "def predict_single(df, dv, model):\n",
    "    X = dv.transform([patient])\n",
    "    y_pred = model.predict_proba(X)[:,1]\n",
    "    return y_pred[0]"
   ]
  },
  {
   "cell_type": "code",
   "execution_count": 98,
   "id": "7b4dbc95-a8d9-49ee-bb72-668b4156debb",
   "metadata": {},
   "outputs": [],
   "source": [
    "prediction = predict_single(patient, dv, model)"
   ]
  },
  {
   "cell_type": "code",
   "execution_count": 99,
   "id": "57b5a93e-84b2-4410-8040-65ce184f9a0a",
   "metadata": {},
   "outputs": [
    {
     "name": "stdout",
     "output_type": "stream",
     "text": [
      "0.9661652886063257\n"
     ]
    }
   ],
   "source": [
    "print(f'{prediction}')"
   ]
  },
  {
   "cell_type": "code",
   "execution_count": 100,
   "id": "0a0c98db-4e03-431d-ae1c-dd6e296d83f1",
   "metadata": {},
   "outputs": [
    {
     "name": "stdout",
     "output_type": "stream",
     "text": [
      "verdict: Positive\n"
     ]
    }
   ],
   "source": [
    "if prediction >= 0.5:\n",
    "    print('verdict: Positive')\n",
    "else:\n",
    "    print('verdict: Nagative')"
   ]
  },
  {
   "cell_type": "code",
   "execution_count": null,
   "id": "629b933c-50d6-42bf-af57-aa8060b44725",
   "metadata": {},
   "outputs": [],
   "source": []
  }
 ],
 "metadata": {
  "kernelspec": {
   "display_name": "Python 3 (ipykernel)",
   "language": "python",
   "name": "python3"
  },
  "language_info": {
   "codemirror_mode": {
    "name": "ipython",
    "version": 3
   },
   "file_extension": ".py",
   "mimetype": "text/x-python",
   "name": "python",
   "nbconvert_exporter": "python",
   "pygments_lexer": "ipython3",
   "version": "3.12.2"
  }
 },
 "nbformat": 4,
 "nbformat_minor": 5
}
